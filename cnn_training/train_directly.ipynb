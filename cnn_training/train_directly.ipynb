{
 "cells": [
  {
   "cell_type": "markdown",
   "source": [
    "### CNN Training - Train directly\n",
    "Tbd: Summary what happens in this notebook\n",
    "\n",
    "importing intern"
   ],
   "metadata": {
    "collapsed": false,
    "pycharm": {
     "name": "#%% md\n"
    }
   }
  },
  {
   "cell_type": "code",
   "execution_count": 4,
   "outputs": [],
   "source": [
    "from models.resnet_model import Hyperspectral_Resnet\n",
    "from batchers import dataset_constants, batcher\n",
    "from utils.run import get_full_experiment_name, make_log_and_ckpt_dirs\n",
    "from utils.trainer import RegressionTrainer"
   ],
   "metadata": {
    "collapsed": false,
    "pycharm": {
     "name": "#%%\n"
    }
   }
  },
  {
   "cell_type": "markdown",
   "source": [
    "importing extern"
   ],
   "metadata": {
    "collapsed": false,
    "pycharm": {
     "name": "#%% md\n"
    }
   }
  },
  {
   "cell_type": "code",
   "execution_count": 5,
   "outputs": [],
   "source": [
    "import os\n",
    "import pickle\n",
    "from pprint import pprint\n",
    "import numpy as np\n",
    "import tensorflow as tf"
   ],
   "metadata": {
    "collapsed": false,
    "pycharm": {
     "name": "#%%\n"
    }
   }
  },
  {
   "cell_type": "markdown",
   "source": [
    "set root directory"
   ],
   "metadata": {
    "collapsed": false,
    "pycharm": {
     "name": "#%% md\n"
    }
   }
  },
  {
   "cell_type": "code",
   "execution_count": 6,
   "outputs": [],
   "source": [
    "# edit if necessary\n",
    "# ROOT_DIR = 'C:/Users/matte/Documents/Data/01_Universitaet/02_TH_Koeln/06_Semester/\n",
    "# 04_Machine_Learning_Project/CNN_Architecture'"
   ],
   "metadata": {
    "collapsed": false,
    "pycharm": {
     "name": "#%%\n"
    }
   }
  },
  {
   "cell_type": "markdown",
   "source": [
    "define `run_training`"
   ],
   "metadata": {
    "collapsed": false,
    "pycharm": {
     "name": "#%% md\n"
    }
   }
  },
  {
   "cell_type": "code",
   "execution_count": 9,
   "outputs": [],
   "source": [
    "def run_training(sess, ooc, batcher_type, dataset, keep_frac, model_name, model_params, batch_size,\n",
    "                 ls_bands, nl_band, label_name, augment, learning_rate, lr_decay,\n",
    "                 max_epochs, print_every, eval_every, num_threads, cache, log_dir, save_ckpt_dir,\n",
    "                 init_ckpt_dir, imagenet_weights_path, hs_weight_init, exclude_final_layer):\n",
    "    '''\n",
    "    Args\n",
    "    - sess: tf.Session\n",
    "    - ooc: bool, whether to use out-of-country split\n",
    "    - batcher_type: str, type of batcher, one of ['base', 'urban', 'rural']\n",
    "    - dataset: str, options depends on batcher_type\n",
    "    - keep_frac: float\n",
    "    - model_name: str, one of ['resnet', 'vggf', 'simplecnn', 'resnetcombo']\n",
    "    - model_params: dict\n",
    "    - batch_size: int\n",
    "    - ls_bands: one of [None, 'rgb', 'ms']\n",
    "    - nl_band: one of [None, 'merge', 'split']\n",
    "    - label_name: str, name of the label in the TFRecord file\n",
    "    - augment: bool\n",
    "    - learning_rate: float\n",
    "    - lr_decay: float\n",
    "    - max_epochs: int\n",
    "    - print_every: int\n",
    "    - eval_every: int\n",
    "    - num_threads: int\n",
    "    - cache: list of str\n",
    "    - log_dir: str, path to directory to save logs for TensorBoard, must already exist\n",
    "    - save_ckpt_dir: str, path to checkpoint dir for saving weights\n",
    "        - intermediate dirs must already exist\n",
    "    - init_ckpt_dir: str, path to checkpoint dir from which to load existing weights\n",
    "        - set to empty string '' to use ImageNet or random initialization\n",
    "    - imagenet_weights_path: str, path to pre-trained weights from ImageNet\n",
    "        - set to empty string '' to use saved ckpt or random initialization\n",
    "    - hs_weight_init: str, one of [None, 'random', 'same', 'samescaled']\n",
    "    - exclude_final_layer: bool, or None\n",
    "    '''\n",
    "\n",
    "    # set model class\n",
    "    if model_name == 'resnet':\n",
    "        model_class = Hyperspectral_Resnet\n",
    "    # import model classes if needed\n",
    "    elif model_name == 'vggf':\n",
    "        model_class = VGGF\n",
    "    elif model_name == 'simplecnn':\n",
    "        model_class = SimpleCNN\n",
    "    elif model_name == 'resnetcombo':\n",
    "        model_class = ResnetCombo\n",
    "    else:\n",
    "        raise ValueError('Unknown model_name. Was not one of [\"resnet\", \"vggf\", \"simplecnn\", \"resnetcombo\"]'\n",
    "                         'or model was not imported.')\n",
    "    # check if paths exist\n",
    "    assert os.path.exists(log_dir)\n",
    "    assert os.path.exists(os.path.dirname(save_ckpt_dir))"
   ],
   "metadata": {
    "collapsed": false,
    "pycharm": {
     "name": "#%%\n"
    }
   }
  }
 ],
 "metadata": {
  "kernelspec": {
   "display_name": "Python 3",
   "language": "python",
   "name": "python3"
  },
  "language_info": {
   "codemirror_mode": {
    "name": "ipython",
    "version": 2
   },
   "file_extension": ".py",
   "mimetype": "text/x-python",
   "name": "python",
   "nbconvert_exporter": "python",
   "pygments_lexer": "ipython2",
   "version": "2.7.6"
  }
 },
 "nbformat": 4,
 "nbformat_minor": 0
}