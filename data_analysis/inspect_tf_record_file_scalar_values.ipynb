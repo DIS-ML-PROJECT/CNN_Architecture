{
 "cells": [
  {
   "cell_type": "code",
   "execution_count": 2,
   "source": [
    "import numpy as np\r\n",
    "import tensorflow\r\n",
    "print(tensorflow.__version__) #Tensorflow version 1. required to run code"
   ],
   "outputs": [
    {
     "output_type": "stream",
     "name": "stdout",
     "text": [
      "1.15.2\n"
     ]
    }
   ],
   "metadata": {}
  },
  {
   "cell_type": "markdown",
   "source": [
    "###Inspect single tfrecord file\r\n",
    "\r\n",
    "Get the names of example features and shape.\r\n",
    "Also prints part of basic information."
   ],
   "metadata": {}
  },
  {
   "cell_type": "code",
   "execution_count": 5,
   "source": [
    "from pprint import pprint\r\n",
    "\r\n",
    "def parse_record_str(record_str: str):\r\n",
    "    '''Parses a record str and returns the feature map.\r\n",
    "    Args\r\n",
    "    - record_str: str, binary representation of Example message\r\n",
    "    '''\r\n",
    "    # parse binary string into Example message\r\n",
    "    ex = tensorflow.train.Example.FromString(record_str)\r\n",
    "    features = ex.features  # get Features message within the Example\r\n",
    "    feature_map = features.feature  # get mapping from feature name strings to Feature\r\n",
    "    return feature_map\r\n",
    "\r\n",
    "def get_first_feature_map(tfrecord_path: str):\r\n",
    "    '''Gets feature_map dict of 1st TFRecord in a TFRecord file.\r\n",
    "    Args\r\n",
    "    - tfrecord_path: str, path to a TFRecord file with GZIP compression\r\n",
    "    Returns\r\n",
    "    - feature_map: protobuf map from feature name strings to Feature\r\n",
    "    '''\r\n",
    "    # Create an iterator over the TFRecords file. The iterator yields\r\n",
    "    # the binary representations of Example messages as strings.\r\n",
    "    options = tensorflow.io.TFRecordOptions()\r\n",
    "    iterator = tensorflow.io.tf_record_iterator(tfrecord_path, options=options)\r\n",
    "\r\n",
    "    # get the first Example stored in the TFRecords file\r\n",
    "    record_str = next(iterator)\r\n",
    "    feature_map = parse_record_str(record_str)\r\n",
    "    return feature_map\r\n",
    "\r\n",
    "def get_feature_types(feature_map):\r\n",
    "    '''Gets the types and shapes of each feature in a given feature_map.\r\n",
    "    Args\r\n",
    "    - feature_map: protobuf map from feature name strings to Feature\r\n",
    "    Returns\r\n",
    "    - feature_types: dict, maps feature names (str) to tuple of (ft_type, ft_shape)\r\n",
    "    '''\r\n",
    "    # use the WhichOneof() method on messages with `oneof` fields to\r\n",
    "    # determine the type of the field\r\n",
    "    feature_types = {}\r\n",
    "    for name in feature_map.keys():\r\n",
    "        ft_type = feature_map[name].WhichOneof('kind')\r\n",
    "        ft_shape = np.array(feature_map[name].__getattribute__(ft_type).value).shape\r\n",
    "        feature_types[name] = (ft_type, ft_shape)\r\n",
    "    return feature_types\r\n",
    "\r\n",
    "def print_scalar_values(feature_map):\r\n",
    "    '''Prints scalar values from a TFRecord feature map.\r\n",
    "    Args\r\n",
    "    - feature_map: protobuf map from feature name strings to Feature\r\n",
    "    '''\r\n",
    "    for name in sorted(feature_map.keys()):\r\n",
    "        ft_type = feature_map[name].WhichOneof('kind')\r\n",
    "        ft_shape = np.array(feature_map[name].__getattribute__(ft_type).value).shape\r\n",
    "        if ft_type == 'float_list' and ft_shape == (1,):\r\n",
    "            value = feature_map[name].float_list.value[0]\r\n",
    "            print(f'{name}: {value}')\r\n",
    "        elif ft_type == 'bytes_list' and ft_shape == (1,):\r\n",
    "            value = feature_map[name].bytes_list.value[0].decode()\r\n",
    "            print(f'{name}: {value}')\r\n",
    "        elif ft_type == 'int64_list' and ft_shape == (1,):\r\n",
    "            value = feature_map[name].int64_list.value[0]\r\n",
    "            print(f'{name}: {value}')\r\n",
    "\r\n",
    "tfrecord_path = '../data/tfrecs/AO2015_580.tfrec' #path on local maschine --> change to vm path\r\n",
    "feature_map = get_first_feature_map(tfrecord_path)\r\n",
    "feature_types = get_feature_types(feature_map)\r\n",
    "\r\n",
    "print(f'TFRecord path: {tfrecord_path}')\r\n",
    "print('Features and types:')\r\n",
    "pprint(feature_types)\r\n",
    "print()\r\n",
    "print_scalar_values(feature_map)"
   ],
   "outputs": [
    {
     "output_type": "stream",
     "name": "stdout",
     "text": [
      "TFRecord path: ../data/tfrecs/AO2015_580.tfrec\n",
      "Features and types:\n",
      "{'Band 1': ('float_list', (1102500,)),\n",
      " 'Band 10': ('float_list', (1102500,)),\n",
      " 'Band 11': ('float_list', (1102500,)),\n",
      " 'Band 12': ('float_list', (1102500,)),\n",
      " 'Band 2': ('float_list', (1102500,)),\n",
      " 'Band 3': ('float_list', (1102500,)),\n",
      " 'Band 4': ('float_list', (1102500,)),\n",
      " 'Band 5': ('float_list', (1102500,)),\n",
      " 'Band 6': ('float_list', (1102500,)),\n",
      " 'Band 7': ('float_list', (1102500,)),\n",
      " 'Band 8': ('float_list', (1102500,)),\n",
      " 'Band 8A': ('float_list', (1102500,)),\n",
      " 'Band 9': ('float_list', (1102500,)),\n",
      " 'Nightlight Band': ('float_list', (1102500,)),\n",
      " 'centerlat': ('float_list', (1,)),\n",
      " 'centerlon': ('float_list', (1,)),\n",
      " 'country': ('bytes_list', (1,)),\n",
      " 'urbanrural': ('bytes_list', (1,)),\n",
      " 'wealth': ('float_list', (1,)),\n",
      " 'wealthpooled': ('float_list', (1,)),\n",
      " 'wealthpooled5country': ('float_list', (1,)),\n",
      " 'year': ('int64_list', (1,))}\n",
      "\n",
      "centerlat: -14.690727233886719\n",
      "centerlon: 17.70050048828125\n",
      "country: Angola\n",
      "urbanrural: U\n",
      "wealth: -0.0306992270052433\n",
      "wealthpooled: 0.46504268050193787\n",
      "wealthpooled5country: 0.21326680481433868\n",
      "year: 2016\n"
     ]
    }
   ],
   "metadata": {}
  }
 ],
 "metadata": {
  "orig_nbformat": 4,
  "language_info": {
   "name": "python",
   "version": "3.7.3",
   "mimetype": "text/x-python",
   "codemirror_mode": {
    "name": "ipython",
    "version": 3
   },
   "pygments_lexer": "ipython3",
   "nbconvert_exporter": "python",
   "file_extension": ".py"
  },
  "kernelspec": {
   "name": "python3",
   "display_name": "Python 3.7.3 64-bit ('base': conda)"
  },
  "interpreter": {
   "hash": "f2529538c962598a32ae0d7ff1a680ec060fe08ae5724d712a79aab789839491"
  }
 },
 "nbformat": 4,
 "nbformat_minor": 2
}