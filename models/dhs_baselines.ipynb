{
 "nbformat": 4,
 "nbformat_minor": 0,
 "metadata": {
  "kernelspec": {
   "display_name": "Python 3",
   "language": "python",
   "name": "python3"
  },
  "language_info": {
   "codemirror_mode": {
    "name": "ipython",
    "version": 3
   },
   "file_extension": ".py",
   "mimetype": "text/x-python",
   "name": "python",
   "nbconvert_exporter": "python",
   "pygments_lexer": "ipython3",
   "version": "3.7.3"
  },
  "toc": {
   "base_numbering": 1,
   "nav_menu": {},
   "number_sections": true,
   "sideBar": true,
   "skip_h1_title": false,
   "title_cell": "Table of Contents",
   "title_sidebar": "Contents",
   "toc_cell": true,
   "toc_position": {
    "height": "calc(100% - 180px)",
    "left": "10px",
    "top": "150px",
    "width": "307.2px"
   },
   "toc_section_display": true,
   "toc_window_display": true
  },
  "colab": {
   "name": "dhs_baselines.ipynb",
   "provenance": []
  }
 },
 "cells": [
  {
   "cell_type": "markdown",
   "metadata": {
    "toc": true,
    "id": "HGrxeYfXl9c1"
   },
   "source": [
    "<h1>Table of Contents<span class=\"tocSkip\"></span></h1>\n",
    "<div class=\"toc\"><ul class=\"toc-item\"><li><span><a href=\"#Imports-and-Constants\" data-toc-modified-id=\"Imports-and-Constants-1\"><span class=\"toc-item-num\">1&nbsp;&nbsp;</span>Imports and Constants</a></span></li><li><span><a href=\"#Load-histograms-(or-create-if-needed)\" data-toc-modified-id=\"Load-histograms-(or-create-if-needed)-2\"><span class=\"toc-item-num\">2&nbsp;&nbsp;</span>Load histograms (or create if needed)</a></span><ul class=\"toc-item\"><li><span><a href=\"#Split-NL-band\" data-toc-modified-id=\"Split-NL-band-2.1\"><span class=\"toc-item-num\">2.1&nbsp;&nbsp;</span>Split NL band</a></span></li><li><span><a href=\"#Plot-histograms\" data-toc-modified-id=\"Plot-histograms-2.2\"><span class=\"toc-item-num\">2.2&nbsp;&nbsp;</span>Plot histograms</a></span></li></ul></li><li><span><a href=\"#Load-folds\" data-toc-modified-id=\"Load-folds-3\"><span class=\"toc-item-num\">3&nbsp;&nbsp;</span>Load folds</a></span><ul class=\"toc-item\"><li><span><a href=\"#Incountry-folds-+-loc_dict\" data-toc-modified-id=\"Incountry-folds-+-loc_dict-3.1\"><span class=\"toc-item-num\">3.1&nbsp;&nbsp;</span>Incountry folds + loc_dict</a></span></li><li><span><a href=\"#country_indices-and-country_labels\" data-toc-modified-id=\"country_indices-and-country_labels-3.2\"><span class=\"toc-item-num\">3.2&nbsp;&nbsp;</span><code>country_indices</code> and <code>country_labels</code></a></span></li><li><span><a href=\"#OOC-folds\" data-toc-modified-id=\"OOC-folds-3.3\"><span class=\"toc-item-num\">3.3&nbsp;&nbsp;</span>OOC folds</a></span></li><li><span><a href=\"#Urban-v.-Rural\" data-toc-modified-id=\"Urban-v.-Rural-3.4\"><span class=\"toc-item-num\">3.4&nbsp;&nbsp;</span>Urban v. Rural</a></span></li></ul></li><li><span><a href=\"#Dumb-Baseline-Models\" data-toc-modified-id=\"Dumb-Baseline-Models-4\"><span class=\"toc-item-num\">4&nbsp;&nbsp;</span>Dumb Baseline Models</a></span><ul class=\"toc-item\"><li><span><a href=\"#Incountry:-predict-country-mean\" data-toc-modified-id=\"Incountry:-predict-country-mean-4.1\"><span class=\"toc-item-num\">4.1&nbsp;&nbsp;</span>Incountry: predict country mean</a></span></li><li><span><a href=\"#Linear-Nightlights\" data-toc-modified-id=\"Linear-Nightlights-4.2\"><span class=\"toc-item-num\">4.2&nbsp;&nbsp;</span>Linear Nightlights</a></span></li><li><span><a href=\"#KNN-on-Nightlights\" data-toc-modified-id=\"KNN-on-Nightlights-4.3\"><span class=\"toc-item-num\">4.3&nbsp;&nbsp;</span>KNN on Nightlights</a></span><ul class=\"toc-item\"><li><span><a href=\"#OOC\" data-toc-modified-id=\"OOC-4.3.1\"><span class=\"toc-item-num\">4.3.1&nbsp;&nbsp;</span>OOC</a></span></li><li><span><a href=\"#OOC-Keep\" data-toc-modified-id=\"OOC-Keep-4.3.2\"><span class=\"toc-item-num\">4.3.2&nbsp;&nbsp;</span>OOC Keep</a></span></li><li><span><a href=\"#Incountry\" data-toc-modified-id=\"Incountry-4.3.3\"><span class=\"toc-item-num\">4.3.3&nbsp;&nbsp;</span>Incountry</a></span></li></ul></li><li><span><a href=\"#GBT-on-NL\" data-toc-modified-id=\"GBT-on-NL-4.4\"><span class=\"toc-item-num\">4.4&nbsp;&nbsp;</span>GBT on NL</a></span></li></ul></li><li><span><a href=\"#Ridge-Regression-on-Histograms\" data-toc-modified-id=\"Ridge-Regression-on-Histograms-5\"><span class=\"toc-item-num\">5&nbsp;&nbsp;</span>Ridge Regression on Histograms</a></span><ul class=\"toc-item\"><li><span><a href=\"#OOC\" data-toc-modified-id=\"OOC-5.1\"><span class=\"toc-item-num\">5.1&nbsp;&nbsp;</span>OOC</a></span></li><li><span><a href=\"#Incountry\" data-toc-modified-id=\"Incountry-5.2\"><span class=\"toc-item-num\">5.2&nbsp;&nbsp;</span>Incountry</a></span></li></ul></li><li><span><a href=\"#KNN-on-Histograms\" data-toc-modified-id=\"KNN-on-Histograms-6\"><span class=\"toc-item-num\">6&nbsp;&nbsp;</span>KNN on Histograms</a></span><ul class=\"toc-item\"><li><span><a href=\"#OOC\" data-toc-modified-id=\"OOC-6.1\"><span class=\"toc-item-num\">6.1&nbsp;&nbsp;</span>OOC</a></span></li><li><span><a href=\"#Incountry\" data-toc-modified-id=\"Incountry-6.2\"><span class=\"toc-item-num\">6.2&nbsp;&nbsp;</span>Incountry</a></span></li></ul></li></ul></div>"
   ]
  },
  {
   "cell_type": "markdown",
   "metadata": {
    "id": "o_bAgXgkl9du"
   },
   "source": [
    "Prerequisites:\n",
    "1. Run `preprocessing/analyze_tfrecords_dhs.ipynb`.\n",
    "2. Run `data_analysis/dhs.ipynb` to create the `dhs_loc_dict.pkl` and `dhs_incountry_folds.pkl`."
   ]
  },
  {
   "cell_type": "markdown",
   "metadata": {
    "colab": {
     "base_uri": "https://localhost:8080/"
    },
    "id": "aeO9v9i_l_ly",
    "outputId": "4a561e95-54ce-48bf-e4d8-305c295777a5",
    "pycharm": {
     "name": "#%% md\n"
    }
   },
   "source": [
    "### clone repository (only needed when working in colab)"
   ]
  },
  {
   "cell_type": "code",
   "execution_count": null,
   "outputs": [],
   "source": [
    "#! git clone https://github.com/sustainlab-group/africa_poverty.git"
   ],
   "metadata": {
    "collapsed": false,
    "pycharm": {
     "name": "#%%\n"
    }
   }
  },
  {
   "cell_type": "markdown",
   "metadata": {
    "id": "wxjkX5XFl9dy"
   },
   "source": [
    "# Imports and Constants"
   ]
  },
  {
   "cell_type": "code",
   "metadata": {
    "pycharm": {
     "name": "#%%\n"
    },
    "id": "BsJ4gwJ0l9d2",
    "colab": {
     "base_uri": "https://localhost:8080/"
    },
    "outputId": "d6418457-5c4d-4fe3-f889-38378ba185a0"
   },
   "source": [
    "# load autoreload to reload module before executing them \n",
    "%load_ext autoreload        \n",
    "%autoreload 2\n",
    "%matplotlib inline"
   ],
   "execution_count": null,
   "outputs": [
    {
     "output_type": "stream",
     "text": [
      "The autoreload extension is already loaded. To reload it, use:\n",
      "  %reload_ext autoreload\n"
     ],
     "name": "stdout"
    }
   ]
  },
  {
   "cell_type": "code",
   "metadata": {
    "id": "pZpcL1Tol9d4"
   },
   "source": [
    "from collections import defaultdict\n",
    "import os\n",
    "import pickle\n",
    "import sys\n",
    "\n",
    "import matplotlib.pyplot as plt\n",
    "import numpy as np\n",
    "import pandas as pd\n",
    "import sklearn.ensemble\n",
    "import sklearn.neighbors\n",
    "\n",
    "# sys.path.append('/content/africa_poverty/')\n",
    "from batchers import batcher, dataset_constants\n",
    "from models.histograms import (\n",
    "    get_per_image_histograms,\n",
    "    plot_band_hists,\n",
    "    plot_label_hist,\n",
    "    split_nl_hist)\n",
    "from models.linear_model import ridge_cv\n",
    "from models.knn import knn_cv_opt\n",
    "from utils.analysis import calc_score, evaluate\n",
    "from utils.general import load_npz\n",
    "from utils.plot import scatter_preds"
   ],
   "execution_count": null,
   "outputs": []
  },
  {
   "cell_type": "code",
   "metadata": {
    "id": "FsR0J1fUl9d6"
   },
   "source": [
    "os.environ['CUDA_VISIBLE_DEVICES'] = ''\n",
    "\n",
    "DATASET_NAME = '2009-17'      # select DHS survey data          \n",
    "LABEL_NAME = 'wealthpooled'   \n",
    "\n",
    "FOLDS = ['A', 'B', 'C', 'D', 'E']\n",
    "SPLITS = ['train', 'val', 'test']\n",
    "COUNTRIES = dataset_constants.DHS_COUNTRIES     # select DHS countries\n",
    "\n",
    "MEANS = dataset_constants.MEANS_DICT[DATASET_NAME]\n",
    "STD_DEVS = dataset_constants.STD_DEVS_DICT[DATASET_NAME]\n",
    "\n",
    "LOGS_ROOT_DIR = '../logs/'"
   ],
   "execution_count": null,
   "outputs": []
  },
  {
   "cell_type": "markdown",
   "metadata": {
    "id": "D4Hr48kZl9d9"
   },
   "source": [
    "# Load histograms (or create if needed)"
   ]
  },
  {
   "cell_type": "code",
   "metadata": {
    "id": "OjnGMxKQl9d-"
   },
   "source": [
    "# load params for histograms \n",
    "\n",
    "\n",
    "# BAND_BIN_EDGES = [-10^5, -5.0, -4.9, -4.8, ..., 4.8, 4.9, 5.0, 10^5]\n",
    "# BAND_BIN_CENTERS = [-5.05, -4.95, -4.85, ..., 4.85, 4.95, 5.05]\n",
    "\n",
    "# set BAND_BIN_EDGES and BAND_BIN_CENTERS to above numpy arrays\n",
    "BAND_BIN_EDGES = np.concatenate([\n",
    "    [-1e5],\n",
    "    np.arange(-5.0, 5.1, 0.1),\n",
    "    [1e5]\n",
    "])\n",
    "BAND_BIN_CENTERS = np.arange(-5.05, 5.15, 0.1)\n",
    "\n",
    "# LABEL_BIN_EDGES = [-2.0, -1.9, ..., 2.8, 2.9]\n",
    "# LABEL_BIN_CENTERS = [-1.95, -1.85, ..., 2.75, 2.85]\n",
    "\n",
    "# set LABEL_BIN_EDGES and LABEL_BIN_CENTERS to above numpy arrays\n",
    "LABEL_BIN_EDGES = np.arange(-2.0, 3.0, 0.1)\n",
    "LABEL_BIN_CENTERS = np.arange(-1.95, 2.95, 0.1)\n",
    "\n",
    "# band name => color for plotting\n",
    "BAND_COLORS = {\n",
    "    'BLUE'  : 'blue',\n",
    "    'GREEN' : 'green',\n",
    "    'RED'   : 'red',\n",
    "    'SWIR1' : 'purple',\n",
    "    'SWIR2' : 'brown',\n",
    "    'TEMP1' : 'orange',\n",
    "    'NIR'   : 'pink',\n",
    "    'NIGHTLIGHTS': 'black',\n",
    "    'DMSP'  : 'black',\n",
    "    'VIIRS' : 'gray',\n",
    "}\n",
    "# set order for band colors\n",
    "BAND_ORDER = ['BLUE', 'GREEN', 'RED', 'SWIR1', 'SWIR2', 'TEMP1', 'NIR', 'NIGHTLIGHTS']\n",
    "BAND_ORDER_NLSPLIT = ['BLUE', 'GREEN', 'RED', 'SWIR1', 'SWIR2', 'TEMP1', 'NIR', 'DMSP', 'VIIRS']\n",
    "\n",
    "BANDS_DICT = {\n",
    "    'rgb': [0, 1, 2],\n",
    "    'rgbnl': [0, 1, 2, 7, 8],\n",
    "    'ms': [0, 1, 2, 3, 4, 5, 6],\n",
    "    'msnl': [0, 1, 2, 3, 4, 5, 6, 7, 8],\n",
    "    'nl': [7, 8],\n",
    "}"
   ],
   "execution_count": null,
   "outputs": []
  },
  {
   "cell_type": "code",
   "metadata": {
    "colab": {
     "base_uri": "https://localhost:8080/"
    },
    "id": "xEMHJoFQmtud",
    "outputId": "777e889f-a708-47fa-aa62-29a20e0488fd"
   },
   "source": [
    "BAND_ORDER"
   ],
   "execution_count": null,
   "outputs": [
    {
     "output_type": "execute_result",
     "data": {
      "text/plain": [
       "['BLUE', 'GREEN', 'RED', 'SWIR1', 'SWIR2', 'TEMP1', 'NIR', 'NIGHTLIGHTS']"
      ]
     },
     "metadata": {
      "tags": []
     },
     "execution_count": 117
    }
   ]
  },
  {
   "cell_type": "code",
   "metadata": {
    "id": "uEni67qDl9eC"
   },
   "source": [
    "def get_batcher(tfrecord_files):\n",
    "\n",
    "    \n",
    "  \n",
    "    return batcher.Batcher(\n",
    "        tfrecord_files=tfrecord_files,  # path(s) to TFRecord files containing satellite images\n",
    "        dataset=DATASET_NAME,           # key to MEANS_DICT with maps to dict containing the means and standard deviations calculated over the entire dataset (train + val + test),\n",
    "                                        # with negative values set to 0, and ignoring any pixel that is 0 across all bands\n",
    "        batch_size=128,\n",
    "        ls_bands='ms',                  # 'ms': all 7 Landsat bands\n",
    "        nl_band='merge',                # 'merge': single nightlights band\n",
    "        label_name=LABEL_NAME,          # set label to wealthpooled\n",
    "        shuffle=False,                  # don't shuffle\n",
    "        augment=False,                  # don't use data augmentation\n",
    "        negatives='zero',               # clip unexpected negative values to 0\n",
    "        normalize=True)                 # subtract mean and divide by std_dev"
   ],
   "execution_count": null,
   "outputs": []
  },
  {
   "cell_type": "code",
   "metadata": {
    "id": "1mFiwxtMl9eE"
   },
   "source": [
    "# file path for DHS histograms\n",
    "file_path = '/content/africa_poverty/data/dhs_image_hists.npz'\n",
    "\n",
    "# if histograms don't exist yet they are created here:\n",
    "if not os.path.exists(file_path):\n",
    "    # THIS REQUIRES >= 35 GB RAM\n",
    "    tfrecord_paths = batcher.get_tfrecord_paths(dataset=DATASET_NAME, split='all')          # get sorted list of paths to TFRecord files (containing satellite images) \n",
    "                                                                                            # for all splits (train,val and test) from dataset 2009_17\n",
    "    init_iter, batch_op = get_batcher(tfrecord_paths).get_batch()                           # get Batch object from tfrecord_paths\n",
    "    results = get_per_image_histograms(init_iter, batch_op, band_bin_edges=BAND_BIN_EDGES)  # create histograms per image\n",
    "    print('Saving image histograms to', file_path)\n",
    "    np.savez_compressed(file_path, **results)"
   ],
   "execution_count": null,
   "outputs": []
  },
  {
   "cell_type": "code",
   "metadata": {
    "colab": {
     "base_uri": "https://localhost:8080/"
    },
    "id": "eSYAGpvEl9eF",
    "outputId": "c923656c-b015-45fa-d85b-4f6cba694447"
   },
   "source": [
    "result = load_npz(file_path)                # load histograms\n",
    "\n",
    "image_hists = result['image_hists']\n",
    "labels = result['labels']\n",
    "locs = result['locs']\n",
    "years = result['years']\n",
    "nls_center = result['nls_center']\n",
    "nls_mean = result['nls_mean']\n",
    "\n",
    "dmsp_mask = years < 2012 # set mask for years before 2012 for dmsp\n",
    "viirs_mask = ~dmsp_mask   # set mask for years since 2012 for viirs"
   ],
   "execution_count": null,
   "outputs": [
    {
     "output_type": "stream",
     "text": [
      "image_hists: dtype=int64, shape=(19669, 8, 102)\n",
      "labels: dtype=float32, shape=(19669,)\n",
      "locs: dtype=float32, shape=(19669, 2)\n",
      "years: dtype=int32, shape=(19669,)\n",
      "nls_center: dtype=float32, shape=(19669,)\n",
      "nls_mean: dtype=float32, shape=(19669,)\n"
     ],
     "name": "stdout"
    }
   ]
  },
  {
   "cell_type": "code",
   "metadata": {
    "colab": {
     "base_uri": "https://localhost:8080/"
    },
    "id": "4ZQorX06RxhR",
    "outputId": "ab3d95c5-0788-446e-a423-b0a9936d11d2"
   },
   "source": [
    "print(labels[0:20])\n",
    "nls_mean[0:20]"
   ],
   "execution_count": null,
   "outputs": [
    {
     "output_type": "stream",
     "text": [
      "[-1.0193609  -1.0900525  -1.143002    1.056769    1.4540645   1.7084457\n",
      "  1.7011095   1.5477132   1.5924627   1.7062892   1.2946095   0.99117357\n",
      "  1.1662261  -0.955533    1.4724743   1.2454146   2.2370064   1.4742726\n",
      "  0.9874123   0.15869898]\n"
     ],
     "name": "stdout"
    },
    {
     "output_type": "execute_result",
     "data": {
      "text/plain": [
       "array([-0.08663332, -0.09768403, -0.1415888 , 15.228898  , 11.082343  ,\n",
       "       12.646744  ,  5.0553675 , 12.907397  , 13.1522875 , 13.142543  ,\n",
       "        6.4574842 ,  6.250482  ,  6.0561304 , -0.17386247,  6.625431  ,\n",
       "        5.1982536 ,  6.319383  ,  5.6553717 ,  3.2829628 ,  0.91375786],\n",
       "      dtype=float32)"
      ]
     },
     "metadata": {
      "tags": []
     },
     "execution_count": 98
    }
   ]
  },
  {
   "cell_type": "markdown",
   "metadata": {
    "id": "VpZp4bP3l9eH"
   },
   "source": [
    "## Split NL band"
   ]
  },
  {
   "cell_type": "code",
   "metadata": {
    "id": "Ccp4u_Lbl9eK"
   },
   "source": [
    "# split NL band\n",
    "#2nd-to-last band is DMSP, last band is VIIRS\n",
    "image_hists = split_nl_hist(image_hists, years)"
   ],
   "execution_count": null,
   "outputs": []
  },
  {
   "cell_type": "code",
   "metadata": {
    "colab": {
     "base_uri": "https://localhost:8080/"
    },
    "id": "E_RMco6DShn-",
    "outputId": "86a5c3c0-a26c-4571-d3d5-ff02ce94c0cb"
   },
   "source": [
    "image_hists.shape"
   ],
   "execution_count": null,
   "outputs": [
    {
     "output_type": "execute_result",
     "data": {
      "text/plain": [
       "(19669, 9, 102)"
      ]
     },
     "metadata": {
      "tags": []
     },
     "execution_count": 45
    }
   ]
  },
  {
   "cell_type": "markdown",
   "metadata": {
    "id": "XBxVE8fcl9eM"
   },
   "source": [
    "## Plot histograms"
   ]
  },
  {
   "cell_type": "code",
   "metadata": {
    "colab": {
     "base_uri": "https://localhost:8080/",
     "height": 505
    },
    "id": "UZPg5oQyl9eM",
    "outputId": "8783a82a-8c31-4607-8b21-7d5ee2360fe2"
   },
   "source": [
    "# plot all histograms\n",
    "band_hists = np.sum(image_hists, axis=0, dtype=np.int64)  # shape [C, nbins]\n",
    "plot_band_hists(\n",
    "    band_hists,\n",
    "    BAND_ORDER_NLSPLIT,\n",
    "    band_colors=BAND_COLORS,\n",
    "    bin_centers=BAND_BIN_CENTERS,\n",
    "    xlabel='normalized pixel value',\n",
    "    ylabel='count',\n",
    "    title='pixel distributions - all',\n",
    "    yscale='log')\n",
    "plot_label_hist(\n",
    "    labels=labels,\n",
    "    bin_edges=LABEL_BIN_EDGES,\n",
    "    title='label distributions - all',\n",
    "    figsize=(5, 3))"
   ],
   "execution_count": null,
   "outputs": [
    {
     "output_type": "display_data",
     "data": {
      "image/png": "[encoded data removed]",
      "text/plain": [
       "<Figure size 720x288 with 1 Axes>"
      ]
     },
     "metadata": {
      "tags": [],
      "needs_background": "light"
     }
    },
    {
     "output_type": "display_data",
     "data": {
      "image/png": "[encoded data removed]",
      "text/plain": [
       "<Figure size 360x216 with 1 Axes>"
      ]
     },
     "metadata": {
      "tags": [],
      "needs_background": "light"
     }
    }
   ]
  },
  {
   "cell_type": "markdown",
   "metadata": {
    "id": "kMjaUO6ql9eO"
   },
   "source": [
    "# Load folds"
   ]
  },
  {
   "cell_type": "markdown",
   "metadata": {
    "id": "RSyiJDIOl9eP"
   },
   "source": [
    "## Incountry folds + loc_dict\n",
    "\n",
    "`loc_dict` has the format:\n",
    "```python\n",
    "{\n",
    "    (lat, lon): {\n",
    "        'cluster': 1,\n",
    "        'country': 'malawi',\n",
    "        'country_year': 'malawi_2012',  # surveyID\n",
    "        'households': 25,\n",
    "        'urban': False,\n",
    "        'wealth': -0.513607621192932,\n",
    "        'wealthpooled': -0.732255101203918,\n",
    "        'year': 2012\n",
    "    }, ...\n",
    "}\n",
    "```\n",
    "\n",
    "NOTE: `year` and `country_year` might differ in the year. `country_year` is the survey ID, which says which year the survey started. However, sometimes the DHS surveys cross the year-boundary, in which case `country_year` will remain the same but `year` will be the next year."
   ]
  },
  {
   "cell_type": "markdown",
   "metadata": {
    "id": "sZP1yit3PJ3V"
   },
   "source": [
    "`incountry_folds` has the format:\n",
    "```python\n",
    "{\n",
    "    'A': {\n",
    "      'test': \n",
    "          array([   24,    32,    35, ..., 19666, 19667, 19668]),\n",
    "      'train': \n",
    "          array([    0,     1,     2, ..., 19660, 19661, 19662]),\n",
    "      'val': \n",
    "          array([    3,     4,     5, ..., 19624, 19625, 19663])\n",
    "          }, ...\n",
    "}\n",
    "```\n"
   ]
  },
  {
   "cell_type": "code",
   "metadata": {
    "id": "uG4oPXv0l9eR"
   },
   "source": [
    "with open('/content/africa_poverty/data/dhs_incountry_folds.pkl', 'rb') as f:\n",
    "    incountry_folds = pickle.load(f)\n",
    "\n",
    "with open('/content/africa_poverty/data/dhs_loc_dict.pkl', 'rb') as f:\n",
    "    loc_dict = pickle.load(f)\n",
    "\n",
    "incountry_group_labels = np.zeros_like(labels, dtype=np.int32)\n",
    "\n",
    "for i, f in enumerate(FOLDS):\n",
    "    # get test indices for each fold\n",
    "    test_indices = incountry_folds[f]['test']\n",
    "    # set label for this test in\n",
    "    incountry_group_labels[test_indices] = i"
   ],
   "execution_count": null,
   "outputs": []
  },
  {
   "cell_type": "markdown",
   "metadata": {
    "id": "L3wafOL5l9eU"
   },
   "source": [
    "## `country_indices` and `country_labels`\n",
    "\n",
    "`country_indices` is a dictionary that maps a country name to a sorted `np.array` of its indices\n",
    "```python\n",
    "{ 'malawi': np.array([ 8530,  8531,  8532, ..., 10484, 10485, 10486]), ... }\n",
    "```\n",
    "\n",
    "`country_labels` is a `np.array` that shows which country each example belongs to\n",
    "```python\n",
    "np.array([0, 0, 0, 0, ..., 22, 22, 22])\n",
    "```\n",
    "where countries are indexed by their position in `dataset_constants.DHS_COUNTRIES`"
   ]
  },
  {
   "cell_type": "code",
   "metadata": {
    "id": "ghj0lmQTl9eU",
    "colab": {
     "base_uri": "https://localhost:8080/",
     "height": 228
    },
    "outputId": "7145668f-3aef-42e5-82e5-621dba793349"
   },
   "source": [
    "country_indices = defaultdict(list)  # country => np.array of indices\n",
    "country_labels = np.zeros(len(locs), dtype=np.int32)  # np.array of country labels\n",
    "households = np.zeros(len(locs), dtype=np.int32)  # np.array of household counts\n",
    "\n",
    "\n",
    "for i, loc in enumerate(locs):                          #loop through locations from histograms->np.array(lat,lon) (index and value)\n",
    "    country = loc_dict[tuple(loc)]['country']           # get country for location\n",
    "    country_indices[country].append(i)                  # add location index to index list for this country\n",
    "    households[i] = loc_dict[tuple(loc)]['households']  # get household count for location\n",
    "\n",
    "\n",
    "for i, country in enumerate(COUNTRIES):                              # loop through all DHS countries (index and value)\n",
    "    country_indices[country] = np.asarray(country_indices[country])  # cast indices of all countries into numpy arrays\n",
    "    indices = country_indices[country]                               # get all indices per country\n",
    "    country_labels[indices] = i                                      # map indices to country index"
   ],
   "execution_count": null,
   "outputs": [
    {
     "output_type": "error",
     "ename": "NameError",
     "evalue": "ignored",
     "traceback": [
      "\u001B[0;31m---------------------------------------------------------------------------\u001B[0m",
      "\u001B[0;31mNameError\u001B[0m                                 Traceback (most recent call last)",
      "\u001B[0;32m<ipython-input-1-ae8529ac58db>\u001B[0m in \u001B[0;36m<module>\u001B[0;34m()\u001B[0m\n\u001B[0;32m----> 1\u001B[0;31m \u001B[0mcountry_indices\u001B[0m \u001B[0;34m=\u001B[0m \u001B[0mdefaultdict\u001B[0m\u001B[0;34m(\u001B[0m\u001B[0mlist\u001B[0m\u001B[0;34m)\u001B[0m  \u001B[0;31m# country => np.array of indices\u001B[0m\u001B[0;34m\u001B[0m\u001B[0;34m\u001B[0m\u001B[0m\n\u001B[0m\u001B[1;32m      2\u001B[0m \u001B[0mcountry_labels\u001B[0m \u001B[0;34m=\u001B[0m \u001B[0mnp\u001B[0m\u001B[0;34m.\u001B[0m\u001B[0mzeros\u001B[0m\u001B[0;34m(\u001B[0m\u001B[0mlen\u001B[0m\u001B[0;34m(\u001B[0m\u001B[0mlocs\u001B[0m\u001B[0;34m)\u001B[0m\u001B[0;34m,\u001B[0m \u001B[0mdtype\u001B[0m\u001B[0;34m=\u001B[0m\u001B[0mnp\u001B[0m\u001B[0;34m.\u001B[0m\u001B[0mint32\u001B[0m\u001B[0;34m)\u001B[0m  \u001B[0;31m# np.array of country labels\u001B[0m\u001B[0;34m\u001B[0m\u001B[0;34m\u001B[0m\u001B[0m\n\u001B[1;32m      3\u001B[0m \u001B[0mhouseholds\u001B[0m \u001B[0;34m=\u001B[0m \u001B[0mnp\u001B[0m\u001B[0;34m.\u001B[0m\u001B[0mzeros\u001B[0m\u001B[0;34m(\u001B[0m\u001B[0mlen\u001B[0m\u001B[0;34m(\u001B[0m\u001B[0mlocs\u001B[0m\u001B[0;34m)\u001B[0m\u001B[0;34m,\u001B[0m \u001B[0mdtype\u001B[0m\u001B[0;34m=\u001B[0m\u001B[0mnp\u001B[0m\u001B[0;34m.\u001B[0m\u001B[0mint32\u001B[0m\u001B[0;34m)\u001B[0m  \u001B[0;31m# np.array of household counts\u001B[0m\u001B[0;34m\u001B[0m\u001B[0;34m\u001B[0m\u001B[0m\n\u001B[1;32m      4\u001B[0m \u001B[0;34m\u001B[0m\u001B[0m\n\u001B[1;32m      5\u001B[0m \u001B[0;34m\u001B[0m\u001B[0m\n",
      "\u001B[0;31mNameError\u001B[0m: name 'defaultdict' is not defined"
     ]
    }
   ]
  },
  {
   "cell_type": "code",
   "metadata": {
    "id": "NTVJAjUPGRSm"
   },
   "source": [
    "loc_dict[list(loc_dict.keys())[0]]['urban']"
   ],
   "execution_count": null,
   "outputs": []
  },
  {
   "cell_type": "code",
   "metadata": {
    "id": "4ziOWlaVI5lU"
   },
   "source": [
    "list(loc_dict.keys())[0]"
   ],
   "execution_count": null,
   "outputs": []
  },
  {
   "cell_type": "markdown",
   "metadata": {
    "id": "tgv9yWLcl9en"
   },
   "source": [
    "## OOC folds"
   ]
  },
  {
   "cell_type": "code",
   "metadata": {
    "id": "aS3fCRtIl9eo"
   },
   "source": [
    "# create a dictionary ooc_fold with the following structure:\n",
    "# 'A': {\n",
    "#     'train': np.array([1, 10, 13, ...]),\n",
    "#     ...\n",
    "# }\n",
    "ooc_folds = {\n",
    "    f: {split: [] for split in SPLITS} \n",
    "    for f in FOLDS \n",
    "}\n",
    "\n",
    "for f in FOLDS:\n",
    "    surveys_dict = dataset_constants.SURVEY_NAMES[f'2009-17{f}']                                  # get dictionary {SPLIT:[COUNTRIES],..} for each fold\n",
    "    for split, countries in surveys_dict.items():                                                 # get split and respective list of countries for each split\n",
    "        split_indices = np.sort(np.concatenate([\n",
    "                                                country_indices[country] for country in countries # get indices for each country in that split and concatenate them to numpy array\n",
    "                                                ]))                   \n",
    "        ooc_folds[f][split] = split_indices                                                       # set concatenated array of country indices for that fold and split in ooc_fold dictionary "
   ],
   "execution_count": null,
   "outputs": []
  },
  {
   "cell_type": "code",
   "metadata": {
    "id": "8wQ4RmwMsiOT"
   },
   "source": [
    "import pprint\n",
    "pp = pprint.PrettyPrinter(indent=4)\n",
    "\n",
    "\n",
    "pp.pprint(ooc_folds)"
   ],
   "execution_count": null,
   "outputs": []
  },
  {
   "cell_type": "markdown",
   "metadata": {
    "id": "wiNWNqOAl9ep"
   },
   "source": [
    "## Urban v. Rural"
   ]
  },
  {
   "cell_type": "code",
   "metadata": {
    "colab": {
     "base_uri": "https://localhost:8080/"
    },
    "id": "DQqAotkyl9eq",
    "outputId": "bac64206-c695-4dea-9ab5-004bddd2ae23"
   },
   "source": [
    "def get_urban_rural_indices(locs, loc_dict):\n",
    "    '''\n",
    "    Args\n",
    "    - locs: np.array, shape [N, 2]\n",
    "    - loc_dict: dict, (lat, lon) => dict\n",
    "\n",
    "    Returns\n",
    "    - urban_indices: np.array, shape [num_urban]\n",
    "    - rural_indices: np.array, shape [num_rural]\n",
    "    '''\n",
    "    \n",
    "    urban_indices = []\n",
    "    rural_indices = []\n",
    "\n",
    "    for i, loc in enumerate(locs):\n",
    "        loc = tuple(loc)\n",
    "        \n",
    "        if loc_dict[loc]['urban'] == 0:     # if location is not urban (loc_dict[loc]['urban'] == 0)\n",
    "          rural_indices.append(i)           # append location index to rural indices list\n",
    "        else:                               # if location is urban (loc_dict[loc]['urban'] == 1)\n",
    "          urban_indices.append(i)           # append to urban indices list\n",
    "    \n",
    "    urban_indices = np.asarray(urban_indices)     # cast list to numpy array \n",
    "    rural_indices = np.asarray(rural_indices)     # cast list to numpy array\n",
    "    print(f'num urban: {len(urban_indices)}\\t num rural: {len(rural_indices)}') # print distribution\n",
    "    return urban_indices, rural_indices\n",
    "\n",
    "urban_indices, rural_indices = get_urban_rural_indices(locs, loc_dict)"
   ],
   "execution_count": null,
   "outputs": [
    {
     "output_type": "stream",
     "text": [
      "num urban: 6801\t num rural: 12868\n"
     ],
     "name": "stdout"
    }
   ]
  },
  {
   "cell_type": "code",
   "metadata": {
    "colab": {
     "base_uri": "https://localhost:8080/"
    },
    "id": "A4LvxNWPKDj4",
    "outputId": "de4ab202-9271-4511-e93e-265c7dc54527"
   },
   "source": [
    "urban_indices.shape"
   ],
   "execution_count": null,
   "outputs": [
    {
     "output_type": "execute_result",
     "data": {
      "text/plain": [
       "(6801,)"
      ]
     },
     "metadata": {
      "tags": []
     },
     "execution_count": 73
    }
   ]
  },
  {
   "cell_type": "markdown",
   "metadata": {
    "id": "dKKVTX0fl9er"
   },
   "source": [
    "# Dumb Baseline Models"
   ]
  },
  {
   "cell_type": "markdown",
   "metadata": {
    "id": "KpPxBkoCl9er"
   },
   "source": [
    "## Incountry: predict country mean"
   ]
  },
  {
   "cell_type": "code",
   "metadata": {
    "colab": {
     "base_uri": "https://localhost:8080/"
    },
    "id": "rMzA8pcKl9es",
    "outputId": "a853efdc-9d56-49ce-a8a4-f47219f73d8a"
   },
   "source": [
    "mean_preds = np.zeros_like(labels)                            # create empty np array to save country mean predictions to\n",
    "for i, country in enumerate(COUNTRIES):                   \n",
    "    indices = np.where(country_labels == i)[0]                # get indices for each country\n",
    "    mean_preds[indices] = np.mean(labels[indices])            # get mean value from all labels from these indices\n",
    "r2, _, _, _ = evaluate(labels, mean_preds, do_print=True)     # evaluate prediction of country mean by 4  measurements: r2 Pearson's correlation coefficient, R2 coefficient of determination, mean squared error, rank correlation coefficient \n"
   ],
   "execution_count": null,
   "outputs": [
    {
     "output_type": "stream",
     "text": [
      "r^2: 0.163, R^2: 0.163, mse: 0.547, rank: 0.419\n"
     ],
     "name": "stdout"
    }
   ]
  },
  {
   "cell_type": "code",
   "metadata": {
    "colab": {
     "base_uri": "https://localhost:8080/"
    },
    "id": "_8snmJQUPr_E",
    "outputId": "215616fd-72d3-403f-9f77-2a723602d23c"
   },
   "source": [
    "country_labels.shape"
   ],
   "execution_count": null,
   "outputs": [
    {
     "output_type": "execute_result",
     "data": {
      "text/plain": [
       "(19669,)"
      ]
     },
     "metadata": {
      "tags": []
     },
     "execution_count": 82
    }
   ]
  },
  {
   "cell_type": "code",
   "metadata": {
    "colab": {
     "base_uri": "https://localhost:8080/",
     "height": 401
    },
    "id": "T6xqLLXll9et",
    "outputId": "8816c772-31e6-4cb1-e3af-a79c7351cf95"
   },
   "source": [
    "scatter_preds(labels, preds=mean_preds, by_name='country', by_col=np.asarray(COUNTRIES)[country_labels])"
   ],
   "execution_count": null,
   "outputs": [
    {
     "output_type": "display_data",
     "data": {
      "image/png": "[encoded data removed]",
      "text/plain": [
       "<Figure size 360x360 with 1 Axes>"
      ]
     },
     "metadata": {
      "tags": [],
      "needs_background": "light"
     }
    }
   ]
  },
  {
   "cell_type": "markdown",
   "metadata": {
    "id": "PP4GyKS7l9et"
   },
   "source": [
    "## Linear Nightlights"
   ]
  },
  {
   "cell_type": "code",
   "metadata": {
    "colab": {
     "base_uri": "https://localhost:8080/",
     "height": 317
    },
    "id": "I7QsTeK_l9eu",
    "outputId": "a4a40d76-ab62-459c-84fd-52496323ca9e"
   },
   "source": [
    "def linear_nl():\n",
    "    '''\n",
    "\n",
    "    Returns:    Displays a DataFrame in table style\n",
    "                containing the parameters:\n",
    "                    - sensor\n",
    "                    - nl_type\n",
    "                    - whether a weighting was used\n",
    "                and the r2 value calculated with the above\n",
    "\n",
    "    '''\n",
    "    linear_nl_df = pd.DataFrame(columns=['sensor', 'nl_type', 'weighted', 'r2'])    #create DataFrame\n",
    "    linear_nl_df.set_index(['sensor', 'nl_type', 'weighted'], inplace=True)        \n",
    "\n",
    "    for sensor, mask in [('dmsp', dmsp_mask), ('viirs', viirs_mask)]:               # first get dsmp then viirs\n",
    "        for nl_type, nls in [('center', nls_center), ('mean', nls_mean)]:           # first get center then mean\n",
    "            for weighted, w in [(False, None), (True, households)]:                 # first non-weighted then weighted by household count\n",
    "                if weighted:                            \n",
    "                    w = w[mask]                                                     # when weighted only get household counts for selected sensor (masked)\n",
    "                linear_nl_df.loc[(sensor, nl_type, weighted)] = calc_score(         # set r^2 values in dataframe for indices \n",
    "                    labels[mask], nls[mask], metric='r2', weights=w)                \n",
    "    display(linear_nl_df)\n",
    "\n",
    "linear_nl()"
   ],
   "execution_count": null,
   "outputs": [
    {
     "ename": "NameError",
     "evalue": "name 'pd' is not defined",
     "output_type": "error",
     "traceback": [
      "\u001B[1;31m---------------------------------------------------------------------------\u001B[0m",
      "\u001B[1;31mNameError\u001B[0m                                 Traceback (most recent call last)",
      "\u001B[1;32m<ipython-input-1-de29e929191d>\u001B[0m in \u001B[0;36m<module>\u001B[1;34m\u001B[0m\n\u001B[0;32m     17\u001B[0m     \u001B[0mdisplay\u001B[0m\u001B[1;33m(\u001B[0m\u001B[0mlinear_nl_df\u001B[0m\u001B[1;33m)\u001B[0m\u001B[1;33m\u001B[0m\u001B[1;33m\u001B[0m\u001B[0m\n\u001B[0;32m     18\u001B[0m \u001B[1;33m\u001B[0m\u001B[0m\n\u001B[1;32m---> 19\u001B[1;33m \u001B[0mlinear_nl\u001B[0m\u001B[1;33m(\u001B[0m\u001B[1;33m)\u001B[0m\u001B[1;33m\u001B[0m\u001B[1;33m\u001B[0m\u001B[0m\n\u001B[0m\u001B[0;32m     20\u001B[0m \u001B[1;33m\u001B[0m\u001B[0m\n",
      "\u001B[1;32m<ipython-input-1-de29e929191d>\u001B[0m in \u001B[0;36mlinear_nl\u001B[1;34m()\u001B[0m\n\u001B[0;32m      5\u001B[0m \u001B[1;33m\u001B[0m\u001B[0m\n\u001B[0;32m      6\u001B[0m     '''\n\u001B[1;32m----> 7\u001B[1;33m     \u001B[0mlinear_nl_df\u001B[0m \u001B[1;33m=\u001B[0m \u001B[0mpd\u001B[0m\u001B[1;33m.\u001B[0m\u001B[0mDataFrame\u001B[0m\u001B[1;33m(\u001B[0m\u001B[0mcolumns\u001B[0m\u001B[1;33m=\u001B[0m\u001B[1;33m[\u001B[0m\u001B[1;34m'sensor'\u001B[0m\u001B[1;33m,\u001B[0m \u001B[1;34m'nl_type'\u001B[0m\u001B[1;33m,\u001B[0m \u001B[1;34m'weighted'\u001B[0m\u001B[1;33m,\u001B[0m \u001B[1;34m'r2'\u001B[0m\u001B[1;33m]\u001B[0m\u001B[1;33m)\u001B[0m    \u001B[1;31m#create DataFrame\u001B[0m\u001B[1;33m\u001B[0m\u001B[1;33m\u001B[0m\u001B[0m\n\u001B[0m\u001B[0;32m      8\u001B[0m     \u001B[0mlinear_nl_df\u001B[0m\u001B[1;33m.\u001B[0m\u001B[0mset_index\u001B[0m\u001B[1;33m(\u001B[0m\u001B[1;33m[\u001B[0m\u001B[1;34m'sensor'\u001B[0m\u001B[1;33m,\u001B[0m \u001B[1;34m'nl_type'\u001B[0m\u001B[1;33m,\u001B[0m \u001B[1;34m'weighted'\u001B[0m\u001B[1;33m]\u001B[0m\u001B[1;33m,\u001B[0m \u001B[0minplace\u001B[0m\u001B[1;33m=\u001B[0m\u001B[1;32mTrue\u001B[0m\u001B[1;33m)\u001B[0m\u001B[1;33m\u001B[0m\u001B[1;33m\u001B[0m\u001B[0m\n\u001B[0;32m      9\u001B[0m \u001B[1;33m\u001B[0m\u001B[0m\n",
      "\u001B[1;31mNameError\u001B[0m: name 'pd' is not defined"
     ]
    }
   ]
  },
  {
   "cell_type": "markdown",
   "metadata": {
    "id": "8e1zu-uZl9ev"
   },
   "source": [
    "## KNN on Nightlights\n",
    "\n",
    "The following section uses leave-one-fold-out CV. This is fine for \"incountry\" training, but is different from the leave-one-country-out CV used for our other OOC training. For the leave-one-country-out OOC results, see the section \"KNN on Histograms\" below."
   ]
  },
  {
   "cell_type": "code",
   "metadata": {
    "id": "LIY_-JDnl9ex"
   },
   "source": [
    "def knn_nl(labels, years, nls_center, train_idxs, test_idxs, k=5):\n",
    "    '''\n",
    "\n",
    "    Args:\n",
    "        - labels: np.array, shape [N]\n",
    "        - years: np.array, shape [N]\n",
    "        - nls_center: np.array, shape [N]\n",
    "        - splits: dict, split (str) => np.array\n",
    "        - k: int, k for KNN\n",
    "\n",
    "    Returns:\n",
    "        - Prediction\n",
    "        - knn for DMSP\n",
    "        - knn for VIIRS\n",
    "    '''\n",
    "    train_nls = nls_center[train_idxs]          # get nl train data\n",
    "\n",
    "    # test\n",
    "    test_nls = nls_center[test_idxs]            # get nl test data\n",
    "    test_labels = labels[test_idxs]             # get nl test labels\n",
    "    preds = np.zeros_like(test_labels)          # create empty np.array to store predictions\n",
    "\n",
    "    knn_dmsp = sklearn.neighbors.KNeighborsRegressor(k)     # set up KNN models and set k\n",
    "    knn_viirs = sklearn.neighbors.KNeighborsRegressor(k)\n",
    "\n",
    "    dmsp_mask = years < 2012\n",
    "    viirs_mask = ~dmsp_mask\n",
    "\n",
    "    # perform knn for both sensors return predictions\n",
    "    for mask, model in [(dmsp_mask, knn_dmsp), (viirs_mask, knn_viirs)]:        \n",
    "        train_mask = mask[train_idxs]\n",
    "        test_mask = mask[test_idxs]\n",
    "\n",
    "        # assign each unique NL value the same label\n",
    "        u, indices = np.unique(train_nls[train_mask], return_inverse=True)\n",
    "        mean_labels = np.zeros_like(u)\n",
    "        for i, nl in enumerate(u):\n",
    "            mean_labels[i] = np.mean(labels[nls_center == nl])\n",
    "\n",
    "        model.fit(X=train_nls[train_mask].reshape(-1, 1), y=mean_labels[indices])\n",
    "        preds[test_mask] = model.predict(X=test_nls[test_mask].reshape(-1, 1))\n",
    "\n",
    "    return preds, knn_dmsp, knn_viirs"
   ],
   "execution_count": null,
   "outputs": []
  },
  {
   "cell_type": "code",
   "metadata": {
    "id": "oS8Mx7Gxl9e0"
   },
   "source": [
    "def knn_cv_wrapper(labels, years, nls, folds, keep=1.0, seed=None, savepath=None, verbose=False):\n",
    "    '''\n",
    "    Args\n",
    "        - labels: np.array, shape [N]\n",
    "        - years: np.array, shape [N]\n",
    "        - nls: np.array, shape [N]\n",
    "        - folds: dict, folds[f][split] is a np.array of indices\n",
    "        - keep: float, fraction of training and validation data to use\n",
    "        - seed: int, random seed\n",
    "        - savepath: str, path to save predictions\n",
    "        - verbose: bool, whether to print out validation performance on each fold\n",
    "\n",
    "    Returns\n",
    "        - best_models: tuple of sklearn.neighbors.KNeighborsRegressor\n",
    "            best models from the last fold\n",
    "        - test_preds: np.array, shape [N]\n",
    "        - ks: np.array, shape [K]\n",
    "        - r2s: np.array, shape [K]\n",
    "        - R2s: np.array, shape [K]\n",
    "        - savepath: str, path to save npz file\n",
    "    '''\n",
    "    N = len(labels)               # get no of labels\n",
    "    assert len(years) == N       \n",
    "    assert len(nls) == N\n",
    "\n",
    "    # set path for storing incase it isn't set yet\n",
    "    if savepath is not None:\n",
    "        assert not os.path.exists(savepath)\n",
    "\n",
    "    test_preds = np.zeros_like(labels)                            # create empty np.array to store predictions\n",
    "    ks = np.asarray([1, 2, 5, 10, 30, 50, 100, 200, 500, 1000])   # create np.array with multiple different k values\n",
    "    fold_keys = sorted(folds.keys())                              # get sorted list of fold keys\n",
    "    r2s = np.zeros([len(fold_keys), len(ks)])                     # create empty np.array to store r^2 results for each no. of k per fold\n",
    "    R2s = np.zeros([len(fold_keys), len(ks)])                     # create empty np.array to store R^2 results for each no. of k per fold\n",
    "\n",
    "    dmsp_mask = years < 2012                                      # create mask years < 2012 for dmsp\n",
    "    viirs_mask = ~dmsp_mask                                       # create mask for >=2012 for viirs                                                                           # WHY DO THEY KEEP DEFINING THIS LOCALLY? IT'S ALREADY DEFINED AS A GLOBAL VAR ABOVE???\n",
    "\n",
    "    for i, f in enumerate(fold_keys):                             # for each fold\n",
    "        if verbose:\n",
    "            print(f'Runing fold {f}...')\n",
    "        test_idxs = folds[f]['test']                              # set test data\n",
    "        best_models = None                                        # set best_models to None\n",
    "\n",
    "        for j, k in enumerate(ks):                                # for each no of k\n",
    "            train_idxs = folds[f]['train']                        # set train data\n",
    "            val_idxs = folds[f]['val']                            # set validation data\n",
    "\n",
    "            if keep < 1:                            \n",
    "                if seed is not None:                              # create a random seed\n",
    "                    np.random.seed(seed)  \n",
    "                num_train = int(len(train_idxs) * keep)           # get fraction size of train data\n",
    "                num_val = int(len(val_idxs) * keep)               # get fraction size of validation data\n",
    "                if num_train < k or num_val < k:                  \n",
    "                    continue\n",
    "                train_idxs = np.random.choice(                    # get random fraction from train data \n",
    "                    train_idxs, size=num_train, replace=False)\n",
    "                val_tfrecord_paths = np.random.choice(\n",
    "                    val_idxs, size=num_val, replace=False)        # get random fraction from val data paths                                                                           # IS THIS SUPPOSED TO BE VAL_TFRECORD_PATH INSTEAD OF VAL_IDXS?????\n",
    "            \n",
    "            # perform knn for both sensors and get predictions\n",
    "            val_preds, knn_dmsp, knn_viirs = knn_nl(\n",
    "                labels, years, nls, train_idxs=train_idxs,\n",
    "                test_idxs=val_idxs, k=k)\n",
    "            # calculate correlation coefficient and coefficient of determination of the performed knn\n",
    "            r2 = calc_score(labels=labels[val_idxs], preds=val_preds, metric='r2')\n",
    "            R2 = calc_score(labels=labels[val_idxs], preds=val_preds, metric='R2')\n",
    "            if R2 > np.max(R2s[i]):                                                                     # if this is the best coefficient of determination so far save these models\n",
    "                best_models = (knn_dmsp, knn_viirs)\n",
    "            r2s[i, j], R2s[i, j] = r2, R2                                                               # save results to dictionary for each fold and no of k\n",
    "            if verbose:\n",
    "                print(f'fold={f}, k={k:4d}, val_r2={r2:0.4f}, val_R2={R2:0.4f}')            \n",
    "        # knn testing for each fold with the best model\n",
    "        for i, mask in enumerate([dmsp_mask, viirs_mask]):                                              \n",
    "            subset_indices = np.intersect1d(np.nonzero(mask)[0], test_idxs)\n",
    "            test_preds[subset_indices] = best_models[i].predict(nls[subset_indices].reshape(-1, 1))\n",
    "\n",
    "    evaluate(labels=labels, preds=test_preds, do_print=True, title='test preds')              # evaluate test predictions (r^2,R^2,mse,rank)\n",
    "\n",
    "    # save test predictions and labels \n",
    "    if savepath is not None:\n",
    "        os.makedirs(os.path.dirname(savepath), exist_ok=True)\n",
    "        np.savez_compressed(savepath, test_preds=test_preds, labels=labels)\n",
    "        \n",
    "    return best_models, test_preds, ks, r2s, R2s\n",
    "\n",
    "def plot_knn_val_performance(nl_result, labels, title):\n",
    "    '''\n",
    "    Args\n",
    "        - nl_result: tuple (models, ks, r2s, R2s), output of knn_cv_wrapper\n",
    "        - labels: np.array\n",
    "        - title: str\n",
    "    '''\n",
    "    _, test_preds, ks, r2s, R2s = nl_result\n",
    "    fig, axs = plt.subplots(1, 2, sharey=True, figsize=(6, 3))\n",
    "    for i, f in enumerate(FOLDS):\n",
    "        print(f'fold {f}, chosen k:', ks[np.argmax(R2s[i])])\n",
    "        axs[0].plot(ks, r2s[i], label=f'fold={f}, $r^2$')\n",
    "        axs[1].plot(ks, R2s[i], label=f'fold={f}, $R^2$')\n",
    "    for ax in axs:\n",
    "        ax.legend()\n",
    "        ax.grid()\n",
    "        ax.set(xlabel='k', xscale='log')\n",
    "    axs[0].set(ylabel='score')\n",
    "    fig.suptitle(f'{title} validation KNN performance vs. K', y=1.02)\n",
    "    fig.tight_layout()\n",
    "    plt.show()\n",
    "\n",
    "def plot_knn_test(nls_center_result, nls_mean_result, labels,\n",
    "                  nl0_center_mask, nl0_mean_mask, title):\n",
    "    '''\n",
    "    Args\n",
    "        - *_result: tuple (models, ks, r2s, R2s), output of knn_cv_wrapper\n",
    "        - labels: np.array, shape [N]\n",
    "        - *_mask: np.array, shape [N]\n",
    "        - title: str\n",
    "    '''\n",
    "    fig, axs = plt.subplots(1, 2, sharey=True, figsize=(6, 3))\n",
    "    results = [nls_center_result, nls_mean_result]\n",
    "    nl0_masks = [nl0_center_mask, nl0_mean_mask]\n",
    "    for result, nl0_mask, ax in zip(results, nl0_masks, axs):\n",
    "        _, test_preds, ks, r2s, R2s = result\n",
    "        scatter_preds(labels, test_preds, ax=ax)\n",
    "        ax.scatter(x=labels[nl0_mask], y=test_preds[nl0_mask], c='red', s=2, label='NL = 0')\n",
    "        ax.legend()\n",
    "    axs[0].set_title(f'KNN on NL Center ({title})')\n",
    "    axs[1].set_title(f'KNN on NL Mean ({title})')\n",
    "    fig.tight_layout()\n",
    "    plt.show()"
   ],
   "execution_count": null,
   "outputs": []
  },
  {
   "cell_type": "code",
   "metadata": {
    "id": "QdjTHB1Cl9e3"
   },
   "source": [
    "def knn_wrapper_single(labels, years, nls, folds):\n",
    "    '''\n",
    "    Args\n",
    "        - labels: np.array, shape [N]\n",
    "        - years: np.array, shape [N]\n",
    "        - nls: np.array, shape [N]\n",
    "        - folds: dict, folds[f][split] is a np.array of indices\n",
    "\n",
    "    Returns\n",
    "        - best_model: sklearn.neighbors.KNeighborsRegressor\n",
    "        - best_test_preds: np.array, shape [N]\n",
    "        - ks: np.array, shape [K]\n",
    "        - r2s: np.array, shape [K]\n",
    "        - R2s: np.array, shape [K]\n",
    "    '''\n",
    "    test_preds = np.zeros_like(labels)\n",
    "    ks = np.asarray([1, 2, 5, 10, 30, 50, 100, 200, 500, 1000])\n",
    "    r2s = np.zeros(len(ks))\n",
    "    R2s = np.zeros(len(ks))\n",
    "    best_test_preds = None\n",
    "\n",
    "    for i, k in enumerate(ks):\n",
    "        for f in FOLDS:\n",
    "            train_idxs = np.concatenate([folds[f]['train'], folds[f]['val']])\n",
    "            test_idxs = folds[f]['test']\n",
    "            preds, model = knn_nl(labels, years, nls, k=k, train_idxs=train_idxs, test_idxs=test_idxs)\n",
    "            test_preds[test_idxs] = preds\n",
    "\n",
    "        print(f'k={k}, overall - ', end='')\n",
    "        r2, R2, _, _ = evaluate(labels=labels, preds=test_preds, do_print=True)\n",
    "        if r2 > np.max(r2s):\n",
    "            best_test_preds = np.array(test_preds)  # make a copy\n",
    "            best_model = model\n",
    "        r2s[i], R2s[i] = r2, R2\n",
    "\n",
    "    return best_model, best_test_preds, ks, r2s, R2s"
   ],
   "execution_count": null,
   "outputs": []
  },
  {
   "cell_type": "code",
   "metadata": {
    "id": "r5_2DITcl9e4"
   },
   "source": [
    "DMSP0 = -MEANS['DMSP'] / STD_DEVS['DMSP']     # get normalized mean values for DMSP\n",
    "VIIRS0 = -MEANS['VIIRS'] / STD_DEVS['VIIRS']  # get normalized mean values for VIIRS\n",
    "nl0_center_mask = ((nls_center == DMSP0) & dmsp_mask) | ((nls_center == VIIRS0) & viirs_mask)\n",
    "nl0_mean_mask = ((nls_mean == DMSP0) & dmsp_mask) | ((nls_mean == VIIRS0) & viirs_mask)"
   ],
   "execution_count": null,
   "outputs": []
  },
  {
   "cell_type": "markdown",
   "metadata": {
    "id": "kEaFkY2fl9e5"
   },
   "source": [
    "### OOC"
   ]
  },
  {
   "cell_type": "code",
   "metadata": {
    "colab": {
     "base_uri": "https://localhost:8080/"
    },
    "id": "PS_JI_Ckl9e6",
    "outputId": "86f36f06-0f54-4c88-f0c7-8d88acbcc419"
   },
   "source": [
    "# get best knn model and results for nl center values\n",
    "nls_center_result = knn_cv_wrapper(\n",
    "    labels=labels, years=years, nls=nls_center, folds=ooc_folds,\n",
    "    savepath=os.path.join(LOGS_ROOT_DIR, 'dhs_knn', 'nls_center', 'test_preds.npz'))\n",
    "\n",
    "# get best knn model and results for nl mean values\n",
    "nls_mean_result = knn_cv_wrapper(\n",
    "    labels=labels, years=years, nls=nls_mean, folds=ooc_folds,\n",
    "    savepath=os.path.join(LOGS_ROOT_DIR, 'dhs_knn', 'nls_mean', 'test_preds.npz'))"
   ],
   "execution_count": null,
   "outputs": [
    {
     "output_type": "stream",
     "text": [
      "test preds\t- r^2: 0.655, R^2: 0.654, mse: 0.226, rank: 0.740\n",
      "test preds\t- r^2: 0.654, R^2: 0.654, mse: 0.226, rank: 0.747\n"
     ],
     "name": "stdout"
    }
   ]
  },
  {
   "cell_type": "code",
   "metadata": {
    "colab": {
     "base_uri": "https://localhost:8080/",
     "height": 630
    },
    "id": "VH4OUq4dl9e7",
    "outputId": "671c9e5f-b96d-49b4-a75e-264ffcc08e2f"
   },
   "source": [
    "# plot validation performance for nl center values\n",
    "plot_knn_val_performance(nls_center_result, labels, title='NL center')\n",
    "# plot validation performance for nl mean values\n",
    "plot_knn_val_performance(nls_mean_result, labels, title='NL mean')"
   ],
   "execution_count": null,
   "outputs": [
    {
     "output_type": "stream",
     "text": [
      "fold A, chosen k: 1000\n",
      "fold B, chosen k: 100\n",
      "fold C, chosen k: 100\n",
      "fold D, chosen k: 200\n",
      "fold E, chosen k: 1000\n"
     ],
     "name": "stdout"
    },
    {
     "output_type": "display_data",
     "data": {
      "image/png": "[encoded data removed]",
      "text/plain": [
       "<Figure size 432x216 with 2 Axes>"
      ]
     },
     "metadata": {
      "tags": [],
      "needs_background": "light"
     }
    },
    {
     "output_type": "stream",
     "text": [
      "fold A, chosen k: 500\n",
      "fold B, chosen k: 100\n",
      "fold C, chosen k: 200\n",
      "fold D, chosen k: 100\n",
      "fold E, chosen k: 1000\n"
     ],
     "name": "stdout"
    },
    {
     "output_type": "display_data",
     "data": {
      "image/png": "[encoded data removed]",
      "text/plain": [
       "<Figure size 432x216 with 2 Axes>"
      ]
     },
     "metadata": {
      "tags": [],
      "needs_background": "light"
     }
    }
   ]
  },
  {
   "cell_type": "code",
   "metadata": {
    "colab": {
     "base_uri": "https://localhost:8080/",
     "height": 236
    },
    "id": "EdPp1Rq0l9e8",
    "outputId": "ba783b1c-5ffe-4c4c-b270-5356907bbb69"
   },
   "source": [
    "#plot test results\n",
    "plot_knn_test(nls_center_result, nls_mean_result, labels,\n",
    "              nl0_center_mask, nl0_mean_mask, title='OOC')"
   ],
   "execution_count": null,
   "outputs": [
    {
     "output_type": "display_data",
     "data": {
      "image/png": "[encoded data removed]",
      "text/plain": [
       "<Figure size 432x216 with 2 Axes>"
      ]
     },
     "metadata": {
      "tags": [],
      "needs_background": "light"
     }
    }
   ]
  },
  {
   "cell_type": "code",
   "metadata": {
    "colab": {
     "base_uri": "https://localhost:8080/",
     "height": 240
    },
    "id": "RuLLHvI4l9e9",
    "outputId": "d85f8da0-4226-40b1-a559-f1f7799467e8"
   },
   "source": [
    "fig, axs = plt.subplots(1, 2, figsize=(10, 3), sharey=True)\n",
    "\n",
    "for result, title in [(nls_center_result, 'NL center'),\n",
    "                      (nls_mean_result, 'NL mean')]:\n",
    "    models = result[0]\n",
    "    masks = [dmsp_mask, viirs_mask]\n",
    "    for i in range(2):\n",
    "        ax, mask, model = axs[i], masks[i], models[i]\n",
    "        nls = np.arange(-0.5, 8, 0.05)\n",
    "        preds = model.predict(nls.reshape(-1, 1))\n",
    "        ax.plot(nls, preds, linewidth=2, label=title)\n",
    "\n",
    "axs[0].set(xlabel='DMSP', ylabel='KNN pred')\n",
    "axs[1].set(xlabel='VIIRS', ylabel='KNN pred')\n",
    "\n",
    "for ax in axs:\n",
    "    ax.grid(True)\n",
    "    ax.legend()\n",
    "fig.suptitle('Fold E OOC', y=1.02)\n",
    "fig.tight_layout()\n",
    "plt.show()"
   ],
   "execution_count": null,
   "outputs": [
    {
     "output_type": "display_data",
     "data": {
      "image/png": "[encoded data removed]",
      "text/plain": [
       "<Figure size 720x216 with 2 Axes>"
      ]
     },
     "metadata": {
      "tags": [],
      "needs_background": "light"
     }
    }
   ]
  },
  {
   "cell_type": "markdown",
   "metadata": {
    "id": "HgDWa-Shl9e_"
   },
   "source": [
    "### OOC Keep"
   ]
  },
  {
   "cell_type": "code",
   "metadata": {
    "scrolled": true,
    "colab": {
     "base_uri": "https://localhost:8080/"
    },
    "id": "TBwV3lOtl9fA",
    "outputId": "ce11351c-9822-406d-db6b-a7349b5153c9"
   },
   "source": [
    "# perform knn using multiple different fractions for keep var and multiple different seeds\n",
    "for k in [0.05, 0.1, 0.25, 0.5]:\n",
    "    for s in [123, 456, 789]:\n",
    "        print(f'== keep: {k}, seed: {s} == ')\n",
    "        filename = f'test_preds_keep{k}_seed{s}.npz'\n",
    "        knn_cv_wrapper(\n",
    "            labels=labels, years=years, nls=nls_center, folds=ooc_folds,\n",
    "            keep=k, seed=s,\n",
    "            savepath=os.path.join(LOGS_ROOT_DIR, 'dhs_knn', 'nls_center', filename))\n",
    "\n",
    "        knn_cv_wrapper(\n",
    "            labels=labels, years=years, nls=nls_mean, folds=ooc_folds,\n",
    "            keep=k, seed=s,\n",
    "            savepath=os.path.join(LOGS_ROOT_DIR, 'dhs_knn', 'nls_mean', filename))"
   ],
   "execution_count": null,
   "outputs": [
    {
     "output_type": "stream",
     "text": [
      "== keep: 0.05, seed: 123 == \n",
      "test preds\t- r^2: 0.637, R^2: 0.632, mse: 0.240, rank: 0.723\n",
      "test preds\t- r^2: 0.642, R^2: 0.637, mse: 0.237, rank: 0.746\n",
      "== keep: 0.05, seed: 456 == \n",
      "test preds\t- r^2: 0.637, R^2: 0.634, mse: 0.239, rank: 0.716\n",
      "test preds\t- r^2: 0.638, R^2: 0.634, mse: 0.239, rank: 0.739\n",
      "== keep: 0.05, seed: 789 == \n",
      "test preds\t- r^2: 0.645, R^2: 0.642, mse: 0.234, rank: 0.740\n",
      "test preds\t- r^2: 0.646, R^2: 0.642, mse: 0.234, rank: 0.744\n",
      "== keep: 0.1, seed: 123 == \n",
      "test preds\t- r^2: 0.642, R^2: 0.640, mse: 0.235, rank: 0.728\n",
      "test preds\t- r^2: 0.648, R^2: 0.646, mse: 0.231, rank: 0.748\n",
      "== keep: 0.1, seed: 456 == \n",
      "test preds\t- r^2: 0.645, R^2: 0.644, mse: 0.232, rank: 0.719\n",
      "test preds\t- r^2: 0.648, R^2: 0.647, mse: 0.230, rank: 0.747\n",
      "== keep: 0.1, seed: 789 == \n",
      "test preds\t- r^2: 0.650, R^2: 0.650, mse: 0.229, rank: 0.728\n",
      "test preds\t- r^2: 0.653, R^2: 0.651, mse: 0.228, rank: 0.752\n",
      "== keep: 0.25, seed: 123 == \n",
      "test preds\t- r^2: 0.650, R^2: 0.649, mse: 0.229, rank: 0.734\n",
      "test preds\t- r^2: 0.654, R^2: 0.653, mse: 0.227, rank: 0.754\n",
      "== keep: 0.25, seed: 456 == \n",
      "test preds\t- r^2: 0.656, R^2: 0.655, mse: 0.225, rank: 0.741\n",
      "test preds\t- r^2: 0.657, R^2: 0.657, mse: 0.224, rank: 0.754\n",
      "== keep: 0.25, seed: 789 == \n",
      "test preds\t- r^2: 0.656, R^2: 0.655, mse: 0.225, rank: 0.740\n",
      "test preds\t- r^2: 0.656, R^2: 0.656, mse: 0.225, rank: 0.757\n",
      "== keep: 0.5, seed: 123 == \n",
      "test preds\t- r^2: 0.654, R^2: 0.652, mse: 0.227, rank: 0.739\n",
      "test preds\t- r^2: 0.655, R^2: 0.654, mse: 0.226, rank: 0.748\n",
      "== keep: 0.5, seed: 456 == \n",
      "test preds\t- r^2: 0.654, R^2: 0.653, mse: 0.227, rank: 0.739\n",
      "test preds\t- r^2: 0.653, R^2: 0.653, mse: 0.227, rank: 0.746\n",
      "== keep: 0.5, seed: 789 == \n",
      "test preds\t- r^2: 0.654, R^2: 0.652, mse: 0.227, rank: 0.738\n",
      "test preds\t- r^2: 0.654, R^2: 0.653, mse: 0.226, rank: 0.746\n"
     ],
     "name": "stdout"
    }
   ]
  },
  {
   "cell_type": "markdown",
   "metadata": {
    "id": "HIzOkXxzl9fB"
   },
   "source": [
    "### Incountry"
   ]
  },
  {
   "cell_type": "code",
   "metadata": {
    "scrolled": true,
    "colab": {
     "base_uri": "https://localhost:8080/"
    },
    "id": "HwNdU1rRl9fC",
    "outputId": "283a1b02-5183-4559-d303-02a4d5e14290"
   },
   "source": [
    "# perform knn cv wrapper for incountry nls center values\n",
    "nls_center_result = knn_cv_wrapper(\n",
    "    labels=labels, years=years, nls=nls_center, folds=incountry_folds,\n",
    "    savepath=os.path.join(LOGS_ROOT_DIR, 'dhs_knn', 'incountry_nls_center', 'test_preds.npz'))\n",
    "# perform knn cv wrapper for incountry nls mean values\n",
    "nls_mean_result = knn_cv_wrapper(\n",
    "    labels=labels, years=years, nls=nls_mean, folds=incountry_folds,\n",
    "    savepath=os.path.join(LOGS_ROOT_DIR, 'dhs_knn', 'incountry_nls_mean', 'test_preds.npz'))"
   ],
   "execution_count": null,
   "outputs": [
    {
     "output_type": "stream",
     "text": [
      "test preds\t- r^2: 0.663, R^2: 0.663, mse: 0.220, rank: 0.747\n",
      "test preds\t- r^2: 0.665, R^2: 0.665, mse: 0.219, rank: 0.763\n"
     ],
     "name": "stdout"
    }
   ]
  },
  {
   "cell_type": "code",
   "metadata": {
    "colab": {
     "base_uri": "https://localhost:8080/",
     "height": 625
    },
    "id": "P9oCIoCUl9fF",
    "outputId": "df24c881-e7a6-443e-c427-cd0ed8134ce4"
   },
   "source": [
    "plot_knn_val_performance(nls_center_result, labels, title='NL center')\n",
    "plot_knn_val_performance(nls_mean_result, labels, title='NL mean')"
   ],
   "execution_count": null,
   "outputs": [
    {
     "output_type": "stream",
     "text": [
      "fold A, chosen k: 1000\n",
      "fold B, chosen k: 100\n",
      "fold C, chosen k: 100\n",
      "fold D, chosen k: 200\n",
      "fold E, chosen k: 1000\n"
     ],
     "name": "stdout"
    },
    {
     "output_type": "display_data",
     "data": {
      "image/png": "[encoded data removed]",
      "text/plain": [
       "<Figure size 432x216 with 2 Axes>"
      ]
     },
     "metadata": {
      "tags": [],
      "needs_background": "light"
     }
    },
    {
     "output_type": "stream",
     "text": [
      "fold A, chosen k: 500\n",
      "fold B, chosen k: 100\n",
      "fold C, chosen k: 200\n",
      "fold D, chosen k: 100\n",
      "fold E, chosen k: 1000\n"
     ],
     "name": "stdout"
    },
    {
     "output_type": "display_data",
     "data": {
      "image/png": "[encoded data removed]",
      "text/plain": [
       "<Figure size 432x216 with 2 Axes>"
      ]
     },
     "metadata": {
      "tags": [],
      "needs_background": "light"
     }
    }
   ]
  },
  {
   "cell_type": "code",
   "metadata": {
    "colab": {
     "base_uri": "https://localhost:8080/",
     "height": 236
    },
    "id": "JcKSG6iGl9fJ",
    "outputId": "da322442-d99e-417e-f4c4-6f77fc72314f"
   },
   "source": [
    "plot_knn_test(nls_center_result, nls_mean_result, labels,\n",
    "              nl0_center_mask, nl0_mean_mask, title='Incountry')"
   ],
   "execution_count": null,
   "outputs": [
    {
     "output_type": "display_data",
     "data": {
      "image/png": "[encoded data removed]",
      "text/plain": [
       "<Figure size 432x216 with 2 Axes>"
      ]
     },
     "metadata": {
      "tags": [],
      "needs_background": "light"
     }
    }
   ]
  },
  {
   "cell_type": "code",
   "metadata": {
    "colab": {
     "base_uri": "https://localhost:8080/",
     "height": 240
    },
    "id": "MvQvR1WIl9fK",
    "outputId": "52ef3873-5ac6-4d84-af26-2d03038f8cce"
   },
   "source": [
    "fig, axs = plt.subplots(1, 2, figsize=(10, 3), sharey=True)\n",
    "for result, title in [(nls_center_result, 'NL center'),\n",
    "                      (nls_mean_result, 'NL mean')]:\n",
    "    models = result[0]\n",
    "    masks = [dmsp_mask, viirs_mask]\n",
    "    for i in range(2):\n",
    "        ax, mask, model = axs[i], masks[i], models[i]\n",
    "        nls = np.arange(-0.5, 8, 0.05)\n",
    "        preds = model.predict(nls.reshape(-1, 1))\n",
    "        ax.plot(nls, preds, linewidth=2, label=title)\n",
    "\n",
    "axs[0].set(xlabel='DMSP', ylabel='KNN pred')\n",
    "axs[1].set(xlabel='VIIRS', ylabel='KNN pred')\n",
    "\n",
    "for ax in axs:\n",
    "    ax.grid(True)\n",
    "    ax.legend()\n",
    "fig.suptitle('Fold E Incountry', y=1.02)\n",
    "fig.tight_layout()\n",
    "plt.show()"
   ],
   "execution_count": null,
   "outputs": [
    {
     "output_type": "display_data",
     "data": {
      "image/png": "[encoded data removed]",
      "text/plain": [
       "<Figure size 720x216 with 2 Axes>"
      ]
     },
     "metadata": {
      "tags": [],
      "needs_background": "light"
     }
    }
   ]
  },
  {
   "cell_type": "markdown",
   "metadata": {
    "id": "dLOze9_nl9fL"
   },
   "source": [
    "## GBT on NL\n",
    "\n",
    "As with the KNN section above, this section uses leave-one-fold-out OOC training, which is not directly comparable to our other leave-one-country-out OOC results."
   ]
  },
  {
   "cell_type": "code",
   "metadata": {
    "id": "bUGjUEYtl9fM"
   },
   "source": [
    "def gbt_nl(labels, years, nls_center, train_idxs, test_idxs, max_depth, lr):\n",
    "    '''\n",
    "\n",
    "    Args:\n",
    "        - labels: np.array, shape [N]\n",
    "        - years: np.array, shape [N]\n",
    "        - nls_center: np.array, shape [N]\n",
    "        - splits: dict, split (str) => np.array\n",
    "        - max_depth: int\n",
    "        - lr: float, learning rate\n",
    "\n",
    "    Returns:\n",
    "        - Prediction\n",
    "        - Gradient Boosting Regressor for DMSP\n",
    "        - Gradient Boosting Regressor VIIRS\n",
    "\n",
    "    '''\n",
    "    train_nls = nls_center[train_idxs]      # set train data\n",
    "\n",
    "    # test\n",
    "    test_nls = nls_center[test_idxs]        # set test data\n",
    "    test_labels = labels[test_idxs]         # set test labels\n",
    "    preds = np.zeros_like(test_labels)      # create empty np.array to store predictions\n",
    "\n",
    "    #set parameters for GradientBoostingRegressor\n",
    "    params = {  \n",
    "        'n_estimators': 50,\n",
    "        'max_depth': max_depth,\n",
    "        'min_samples_split': 2,\n",
    "        'learning_rate': lr,\n",
    "        'loss': 'ls'\n",
    "    }\n",
    "    gbt_dmsp = sklearn.ensemble.GradientBoostingRegressor(**params)\n",
    "    gbt_viirs = sklearn.ensemble.GradientBoostingRegressor(**params)\n",
    "\n",
    "    dmsp_mask = years < 2012\n",
    "    viirs_mask = ~dmsp_mask\n",
    "\n",
    "    # perform  GradientBoostingRegressor for each sensor and return predictions and models\n",
    "    for mask, model in [(dmsp_mask, gbt_dmsp), (viirs_mask, gbt_viirs)]:\n",
    "        train_mask = mask[train_idxs]\n",
    "        test_mask = mask[test_idxs]\n",
    "\n",
    "        # assign each unique NL value the same label\n",
    "        u, indices = np.unique(train_nls[train_mask], return_inverse=True)\n",
    "        mean_labels = np.zeros_like(u)\n",
    "        for i, nl in enumerate(u):\n",
    "            mean_labels[i] = np.mean(labels[nls_center == nl])\n",
    "\n",
    "        model.fit(X=train_nls[train_mask].reshape(-1, 1), y=mean_labels[indices])\n",
    "        preds[test_mask] = model.predict(X=test_nls[test_mask].reshape(-1, 1))\n",
    "\n",
    "    return preds, gbt_dmsp, gbt_viirs"
   ],
   "execution_count": null,
   "outputs": []
  },
  {
   "cell_type": "code",
   "metadata": {
    "id": "gQxKIwJMl9fN"
   },
   "source": [
    "def gbt_cv_wrapper(labels, years, nls, folds, keep=1.0, seed=None, savepath=None, verbose=False):\n",
    "    '''\n",
    "    Args\n",
    "        - labels: np.array, shape [N]\n",
    "        - years: np.array, shape [N]\n",
    "        - nls: np.array, shape [N]\n",
    "        - folds: dict, folds[f][split] is a np.array of indices\n",
    "        - keep: float, fraction of training and validation data to use\n",
    "        - seed: int, random seed\n",
    "        - savepath: str, path to save predictions\n",
    "        - verbose: bool, whether to print out validation performance on each fold\n",
    "\n",
    "    Returns\n",
    "        - best_models: tuple of sklearn.neighbors.KNeighborsRegressor\n",
    "            best models from the last fold\n",
    "        - test_preds: np.array, shape [N]\n",
    "        - ks: np.array, shape [K]\n",
    "        - r2s: np.array, shape [K]\n",
    "        - R2s: np.array, shape [K]\n",
    "        - savepath: str, path to save npz file\n",
    "    '''\n",
    "    N = len(labels)\n",
    "    assert len(years) == N\n",
    "    assert len(nls) == N\n",
    "    if savepath is not None:\n",
    "        assert not os.path.exists(savepath)\n",
    "\n",
    "    test_preds = np.zeros_like(labels)\n",
    "    max_depths = [2, 3, 4, 5, 6]\n",
    "    lrs = [5e-1, 1e-1, 5e-2, 1e-2, 5e-3, 1e-3]\n",
    "    fold_keys = sorted(folds.keys())\n",
    "    r2s = np.zeros([len(fold_keys), len(max_depths), len(lrs)])\n",
    "    R2s = np.zeros([len(fold_keys), len(max_depths), len(lrs)])\n",
    "\n",
    "    dmsp_mask = years < 2012\n",
    "    viirs_mask = ~dmsp_mask\n",
    "\n",
    "    for i, f in enumerate(fold_keys):\n",
    "        if verbose:\n",
    "            print(f'Runing fold {f}...')\n",
    "        test_idxs = folds[f]['test']\n",
    "        best_models = None\n",
    "\n",
    "        for j, d in enumerate(max_depths):\n",
    "            for k, lr in enumerate(lrs):\n",
    "                train_idxs = folds[f]['train']\n",
    "                val_idxs = folds[f]['val']\n",
    "\n",
    "                if keep < 1:\n",
    "                    if seed is not None:\n",
    "                        np.random.seed(seed)\n",
    "                    num_train = int(len(train_idxs) * keep)\n",
    "                    num_val = int(len(val_idxs) * keep)\n",
    "                    if num_train < k or num_val < k:\n",
    "                        continue\n",
    "                    train_idxs = np.random.choice(\n",
    "                        train_idxs, size=num_train, replace=False)\n",
    "                    val_tfrecord_paths = np.random.choice(\n",
    "                        val_idxs, size=num_val, replace=False)\n",
    "\n",
    "                val_preds, gbt_dmsp, gbt_viirs = gbt_nl(\n",
    "                    labels, years, nls, train_idxs=train_idxs,\n",
    "                    test_idxs=val_idxs, max_depth=d, lr=lr)\n",
    "                r2 = calc_score(labels=labels[val_idxs], preds=val_preds, metric='r2')\n",
    "                R2 = calc_score(labels=labels[val_idxs], preds=val_preds, metric='R2')\n",
    "                if R2 > np.max(R2s[i]):\n",
    "                    best_models = (gbt_dmsp, gbt_viirs)\n",
    "                r2s[i, j, k], R2s[i, j, k] = r2, R2\n",
    "                if verbose:\n",
    "                    print(f'fold={f}, depth={d:4d}, lr={lr:0.4f} val_r2={r2:0.4f}, val_R2={R2:0.4f}')\n",
    "\n",
    "        for i, mask in enumerate([dmsp_mask, viirs_mask]):\n",
    "            subset_indices = np.intersect1d(np.nonzero(mask)[0], test_idxs)\n",
    "            test_preds[subset_indices] = best_models[i].predict(nls[subset_indices].reshape(-1, 1))\n",
    "\n",
    "    evaluate(labels=labels, preds=test_preds, do_print=True, title='test preds')\n",
    "\n",
    "    if savepath is not None:\n",
    "        os.makedirs(os.path.dirname(savepath), exist_ok=True)\n",
    "        np.savez_compressed(savepath, test_preds=test_preds, labels=labels)\n",
    "        \n",
    "    return best_models, test_preds, max_depths, lrs, r2s, R2s\n",
    "\n",
    "def plot_depth_v_lr(depths, lrs, r2s, folds, title=None):\n",
    "    '''\n",
    "    Args\n",
    "        - depths: list of int, length num_depths\n",
    "        - lrs: list of float, length num_lrs\n",
    "        - r2s: np.array, shape [num_folds, num_depths, num_lrs]\n",
    "        - folds: list of str, names of folds\n",
    "        - title: str\n",
    "    '''\n",
    "    lrs, depths = np.meshgrid(lrs, depths)\n",
    "    lrs = lrs.flatten()\n",
    "    depths = depths.flatten()\n",
    "\n",
    "    vmin, vmax = r2s.min(), r2s.max()\n",
    "\n",
    "    fig, axs = plt.subplots(nrows=1, ncols=len(folds), figsize=[10, 3])\n",
    "    for i, ax in enumerate(axs):\n",
    "        f = folds[i]\n",
    "        j, k = np.nonzero(r2s[i] == np.max(r2s[i]))\n",
    "        j, k = j[0], k[0]\n",
    "        d = depths[j]\n",
    "        lr = lrs[k]\n",
    "        print(f'fold {f}, chosen depth: {d}, lr: {lr}')\n",
    "        cax = ax.scatter(x=lrs, y=depths, s=30, c=r2s[i].flatten(), vmin=vmin, vmax=vmax)\n",
    "        ax.set_title(f'{title}, Fold {f} r^2')\n",
    "\n",
    "    for ax in axs:\n",
    "        ax.set_xscale('log')\n",
    "        ax.set_xlim(left=np.min(lrs)/2, right=np.max(lrs)*2)\n",
    "        ax.set_xlabel('learning_rate')\n",
    "        ax.set_ylabel('max_depth')\n",
    "        ax.grid(True)\n",
    "\n",
    "    cbar = fig.colorbar(cax)\n",
    "    fig.tight_layout()\n",
    "    plt.show()"
   ],
   "execution_count": null,
   "outputs": []
  },
  {
   "cell_type": "code",
   "metadata": {
    "colab": {
     "base_uri": "https://localhost:8080/"
    },
    "id": "t_sqGfNml9fO",
    "outputId": "5838c638-c373-4959-c654-93b74eecb5cc"
   },
   "source": [
    "# get best results and model for nls center values\n",
    "nls_center_result = gbt_cv_wrapper(\n",
    "    labels=labels, years=years, nls=nls_center, folds=ooc_folds,\n",
    "    savepath=os.path.join(LOGS_ROOT_DIR, 'dhs_gbt', 'nls_center', 'test_preds.npz'),\n",
    "    verbose=True)\n",
    "# get best results and model for nls mean values\n",
    "nls_mean_result = gbt_cv_wrapper(\n",
    "    labels=labels, years=years, nls=nls_mean, folds=ooc_folds,\n",
    "    savepath=os.path.join(LOGS_ROOT_DIR, 'dhs_gbt', 'nls_mean', 'test_preds.npz'),\n",
    "    verbose=True)"
   ],
   "execution_count": null,
   "outputs": [
    {
     "output_type": "stream",
     "text": [
      "Runing fold A...\n",
      "fold=A, depth=   2, lr=0.5000 val_r2=0.6619, val_R2=0.6480\n",
      "fold=A, depth=   2, lr=0.1000 val_r2=0.6718, val_R2=0.6595\n",
      "fold=A, depth=   2, lr=0.0500 val_r2=0.6714, val_R2=0.6592\n",
      "fold=A, depth=   2, lr=0.0100 val_r2=0.5981, val_R2=0.4287\n",
      "fold=A, depth=   2, lr=0.0050 val_r2=0.4560, val_R2=0.2644\n",
      "fold=A, depth=   2, lr=0.0010 val_r2=0.1237, val_R2=0.0602\n",
      "fold=A, depth=   3, lr=0.5000 val_r2=0.6543, val_R2=0.6391\n",
      "fold=A, depth=   3, lr=0.1000 val_r2=0.6709, val_R2=0.6583\n",
      "fold=A, depth=   3, lr=0.0500 val_r2=0.6697, val_R2=0.6576\n",
      "fold=A, depth=   3, lr=0.0100 val_r2=0.5932, val_R2=0.4263\n",
      "fold=A, depth=   3, lr=0.0050 val_r2=0.4553, val_R2=0.2647\n",
      "fold=A, depth=   3, lr=0.0010 val_r2=0.1244, val_R2=0.0606\n",
      "fold=A, depth=   4, lr=0.5000 val_r2=0.6413, val_R2=0.6239\n",
      "fold=A, depth=   4, lr=0.1000 val_r2=0.6681, val_R2=0.6552\n",
      "fold=A, depth=   4, lr=0.0500 val_r2=0.6678, val_R2=0.6557\n",
      "fold=A, depth=   4, lr=0.0100 val_r2=0.5926, val_R2=0.4255\n",
      "fold=A, depth=   4, lr=0.0050 val_r2=0.4542, val_R2=0.2639\n",
      "fold=A, depth=   4, lr=0.0010 val_r2=0.1232, val_R2=0.0600\n",
      "fold=A, depth=   5, lr=0.5000 val_r2=0.6315, val_R2=0.6107\n",
      "fold=A, depth=   5, lr=0.1000 val_r2=0.6642, val_R2=0.6507\n",
      "fold=A, depth=   5, lr=0.0500 val_r2=0.6652, val_R2=0.6532\n",
      "fold=A, depth=   5, lr=0.0100 val_r2=0.5892, val_R2=0.4241\n",
      "fold=A, depth=   5, lr=0.0050 val_r2=0.4517, val_R2=0.2630\n",
      "fold=A, depth=   5, lr=0.0010 val_r2=0.1226, val_R2=0.0597\n",
      "fold=A, depth=   6, lr=0.5000 val_r2=0.6203, val_R2=0.5946\n",
      "fold=A, depth=   6, lr=0.1000 val_r2=0.6604, val_R2=0.6466\n",
      "fold=A, depth=   6, lr=0.0500 val_r2=0.6612, val_R2=0.6491\n",
      "fold=A, depth=   6, lr=0.0100 val_r2=0.5879, val_R2=0.4239\n",
      "fold=A, depth=   6, lr=0.0050 val_r2=0.4523, val_R2=0.2634\n",
      "fold=A, depth=   6, lr=0.0010 val_r2=0.1231, val_R2=0.0600\n",
      "Runing fold B...\n",
      "fold=B, depth=   2, lr=0.5000 val_r2=0.6446, val_R2=0.6366\n",
      "fold=B, depth=   2, lr=0.1000 val_r2=0.6517, val_R2=0.6426\n",
      "fold=B, depth=   2, lr=0.0500 val_r2=0.6506, val_R2=0.6354\n",
      "fold=B, depth=   2, lr=0.0100 val_r2=0.5924, val_R2=0.4025\n",
      "fold=B, depth=   2, lr=0.0050 val_r2=0.4739, val_R2=0.2566\n",
      "fold=B, depth=   2, lr=0.0010 val_r2=0.1240, val_R2=0.0744\n",
      "fold=B, depth=   3, lr=0.5000 val_r2=0.6381, val_R2=0.6298\n",
      "fold=B, depth=   3, lr=0.1000 val_r2=0.6524, val_R2=0.6434\n",
      "fold=B, depth=   3, lr=0.0500 val_r2=0.6515, val_R2=0.6364\n",
      "fold=B, depth=   3, lr=0.0100 val_r2=0.5935, val_R2=0.4025\n",
      "fold=B, depth=   3, lr=0.0050 val_r2=0.4706, val_R2=0.2555\n",
      "fold=B, depth=   3, lr=0.0010 val_r2=0.1225, val_R2=0.0739\n",
      "fold=B, depth=   4, lr=0.5000 val_r2=0.6307, val_R2=0.6219\n",
      "fold=B, depth=   4, lr=0.1000 val_r2=0.6509, val_R2=0.6421\n",
      "fold=B, depth=   4, lr=0.0500 val_r2=0.6507, val_R2=0.6357\n",
      "fold=B, depth=   4, lr=0.0100 val_r2=0.5912, val_R2=0.4008\n",
      "fold=B, depth=   4, lr=0.0050 val_r2=0.4676, val_R2=0.2541\n",
      "fold=B, depth=   4, lr=0.0010 val_r2=0.1217, val_R2=0.0735\n",
      "fold=B, depth=   5, lr=0.5000 val_r2=0.6242, val_R2=0.6155\n",
      "fold=B, depth=   5, lr=0.1000 val_r2=0.6488, val_R2=0.6401\n",
      "fold=B, depth=   5, lr=0.0500 val_r2=0.6496, val_R2=0.6351\n",
      "fold=B, depth=   5, lr=0.0100 val_r2=0.5927, val_R2=0.4020\n",
      "fold=B, depth=   5, lr=0.0050 val_r2=0.4690, val_R2=0.2548\n",
      "fold=B, depth=   5, lr=0.0010 val_r2=0.1220, val_R2=0.0736\n",
      "fold=B, depth=   6, lr=0.5000 val_r2=0.6050, val_R2=0.5952\n",
      "fold=B, depth=   6, lr=0.1000 val_r2=0.6462, val_R2=0.6377\n",
      "fold=B, depth=   6, lr=0.0500 val_r2=0.6477, val_R2=0.6336\n",
      "fold=B, depth=   6, lr=0.0100 val_r2=0.5916, val_R2=0.4021\n",
      "fold=B, depth=   6, lr=0.0050 val_r2=0.4696, val_R2=0.2556\n",
      "fold=B, depth=   6, lr=0.0010 val_r2=0.1226, val_R2=0.0740\n",
      "Runing fold C...\n",
      "fold=C, depth=   2, lr=0.5000 val_r2=0.6625, val_R2=0.6520\n",
      "fold=C, depth=   2, lr=0.1000 val_r2=0.6709, val_R2=0.6589\n",
      "fold=C, depth=   2, lr=0.0500 val_r2=0.6731, val_R2=0.6508\n",
      "fold=C, depth=   2, lr=0.0100 val_r2=0.6452, val_R2=0.3997\n",
      "fold=C, depth=   2, lr=0.0050 val_r2=0.5152, val_R2=0.2502\n",
      "fold=C, depth=   2, lr=0.0010 val_r2=0.1235, val_R2=0.0691\n",
      "fold=C, depth=   3, lr=0.5000 val_r2=0.6551, val_R2=0.6455\n",
      "fold=C, depth=   3, lr=0.1000 val_r2=0.6707, val_R2=0.6590\n",
      "fold=C, depth=   3, lr=0.0500 val_r2=0.6736, val_R2=0.6522\n",
      "fold=C, depth=   3, lr=0.0100 val_r2=0.6573, val_R2=0.4088\n",
      "fold=C, depth=   3, lr=0.0050 val_r2=0.5337, val_R2=0.2578\n",
      "fold=C, depth=   3, lr=0.0010 val_r2=0.1292, val_R2=0.0715\n",
      "fold=C, depth=   4, lr=0.5000 val_r2=0.6400, val_R2=0.6317\n",
      "fold=C, depth=   4, lr=0.1000 val_r2=0.6684, val_R2=0.6571\n",
      "fold=C, depth=   4, lr=0.0500 val_r2=0.6714, val_R2=0.6506\n",
      "fold=C, depth=   4, lr=0.0100 val_r2=0.6599, val_R2=0.4104\n",
      "fold=C, depth=   4, lr=0.0050 val_r2=0.5390, val_R2=0.2590\n",
      "fold=C, depth=   4, lr=0.0010 val_r2=0.1306, val_R2=0.0719\n",
      "fold=C, depth=   5, lr=0.5000 val_r2=0.6296, val_R2=0.6215\n",
      "fold=C, depth=   5, lr=0.1000 val_r2=0.6630, val_R2=0.6526\n",
      "fold=C, depth=   5, lr=0.0500 val_r2=0.6684, val_R2=0.6483\n",
      "fold=C, depth=   5, lr=0.0100 val_r2=0.6576, val_R2=0.4097\n",
      "fold=C, depth=   5, lr=0.0050 val_r2=0.5367, val_R2=0.2582\n",
      "fold=C, depth=   5, lr=0.0010 val_r2=0.1299, val_R2=0.0716\n",
      "fold=C, depth=   6, lr=0.5000 val_r2=0.6164, val_R2=0.6072\n",
      "fold=C, depth=   6, lr=0.1000 val_r2=0.6577, val_R2=0.6476\n",
      "fold=C, depth=   6, lr=0.0500 val_r2=0.6649, val_R2=0.6456\n",
      "fold=C, depth=   6, lr=0.0100 val_r2=0.6546, val_R2=0.4094\n",
      "fold=C, depth=   6, lr=0.0050 val_r2=0.5367, val_R2=0.2587\n",
      "fold=C, depth=   6, lr=0.0010 val_r2=0.1304, val_R2=0.0718\n",
      "Runing fold D...\n",
      "fold=D, depth=   2, lr=0.5000 val_r2=0.5822, val_R2=0.5534\n",
      "fold=D, depth=   2, lr=0.1000 val_r2=0.5891, val_R2=0.5657\n",
      "fold=D, depth=   2, lr=0.0500 val_r2=0.5825, val_R2=0.5693\n",
      "fold=D, depth=   2, lr=0.0100 val_r2=0.5012, val_R2=0.3713\n",
      "fold=D, depth=   2, lr=0.0050 val_r2=0.3663, val_R2=0.2231\n",
      "fold=D, depth=   2, lr=0.0010 val_r2=0.0438, val_R2=0.0343\n",
      "fold=D, depth=   3, lr=0.5000 val_r2=0.5803, val_R2=0.5491\n",
      "fold=D, depth=   3, lr=0.1000 val_r2=0.5900, val_R2=0.5661\n",
      "fold=D, depth=   3, lr=0.0500 val_r2=0.5870, val_R2=0.5724\n",
      "fold=D, depth=   3, lr=0.0100 val_r2=0.5139, val_R2=0.3823\n",
      "fold=D, depth=   3, lr=0.0050 val_r2=0.3795, val_R2=0.2306\n",
      "fold=D, depth=   3, lr=0.0010 val_r2=0.0465, val_R2=0.0363\n",
      "fold=D, depth=   4, lr=0.5000 val_r2=0.5717, val_R2=0.5380\n",
      "fold=D, depth=   4, lr=0.1000 val_r2=0.5891, val_R2=0.5645\n",
      "fold=D, depth=   4, lr=0.0500 val_r2=0.5881, val_R2=0.5731\n",
      "fold=D, depth=   4, lr=0.0100 val_r2=0.5210, val_R2=0.3881\n",
      "fold=D, depth=   4, lr=0.0050 val_r2=0.3891, val_R2=0.2353\n",
      "fold=D, depth=   4, lr=0.0010 val_r2=0.0482, val_R2=0.0375\n",
      "fold=D, depth=   5, lr=0.5000 val_r2=0.5612, val_R2=0.5223\n",
      "fold=D, depth=   5, lr=0.1000 val_r2=0.5859, val_R2=0.5598\n",
      "fold=D, depth=   5, lr=0.0500 val_r2=0.5864, val_R2=0.5709\n",
      "fold=D, depth=   5, lr=0.0100 val_r2=0.5217, val_R2=0.3890\n",
      "fold=D, depth=   5, lr=0.0050 val_r2=0.3911, val_R2=0.2363\n",
      "fold=D, depth=   5, lr=0.0010 val_r2=0.0489, val_R2=0.0380\n",
      "fold=D, depth=   6, lr=0.5000 val_r2=0.5543, val_R2=0.5109\n",
      "fold=D, depth=   6, lr=0.1000 val_r2=0.5840, val_R2=0.5568\n",
      "fold=D, depth=   6, lr=0.0500 val_r2=0.5843, val_R2=0.5684\n",
      "fold=D, depth=   6, lr=0.0100 val_r2=0.5236, val_R2=0.3911\n",
      "fold=D, depth=   6, lr=0.0050 val_r2=0.3942, val_R2=0.2379\n",
      "fold=D, depth=   6, lr=0.0010 val_r2=0.0496, val_R2=0.0384\n",
      "Runing fold E...\n",
      "fold=E, depth=   2, lr=0.5000 val_r2=0.7386, val_R2=0.6944\n",
      "fold=E, depth=   2, lr=0.1000 val_r2=0.7491, val_R2=0.7051\n",
      "fold=E, depth=   2, lr=0.0500 val_r2=0.7472, val_R2=0.6983\n",
      "fold=E, depth=   2, lr=0.0100 val_r2=0.6855, val_R2=0.4331\n",
      "fold=E, depth=   2, lr=0.0050 val_r2=0.5606, val_R2=0.2773\n",
      "fold=E, depth=   2, lr=0.0010 val_r2=0.1765, val_R2=0.0870\n",
      "fold=E, depth=   3, lr=0.5000 val_r2=0.7339, val_R2=0.6899\n",
      "fold=E, depth=   3, lr=0.1000 val_r2=0.7488, val_R2=0.7046\n",
      "fold=E, depth=   3, lr=0.0500 val_r2=0.7495, val_R2=0.7000\n",
      "fold=E, depth=   3, lr=0.0100 val_r2=0.7012, val_R2=0.4444\n",
      "fold=E, depth=   3, lr=0.0050 val_r2=0.5744, val_R2=0.2837\n",
      "fold=E, depth=   3, lr=0.0010 val_r2=0.1811, val_R2=0.0888\n",
      "fold=E, depth=   4, lr=0.5000 val_r2=0.7260, val_R2=0.6833\n",
      "fold=E, depth=   4, lr=0.1000 val_r2=0.7476, val_R2=0.7036\n",
      "fold=E, depth=   4, lr=0.0500 val_r2=0.7491, val_R2=0.6997\n",
      "fold=E, depth=   4, lr=0.0100 val_r2=0.7099, val_R2=0.4532\n",
      "fold=E, depth=   4, lr=0.0050 val_r2=0.5894, val_R2=0.2914\n",
      "fold=E, depth=   4, lr=0.0010 val_r2=0.1863, val_R2=0.0907\n",
      "fold=E, depth=   5, lr=0.5000 val_r2=0.7154, val_R2=0.6715\n",
      "fold=E, depth=   5, lr=0.1000 val_r2=0.7450, val_R2=0.7014\n",
      "fold=E, depth=   5, lr=0.0500 val_r2=0.7462, val_R2=0.6974\n",
      "fold=E, depth=   5, lr=0.0100 val_r2=0.7094, val_R2=0.4539\n",
      "fold=E, depth=   5, lr=0.0050 val_r2=0.5927, val_R2=0.2934\n",
      "fold=E, depth=   5, lr=0.0010 val_r2=0.1885, val_R2=0.0914\n",
      "fold=E, depth=   6, lr=0.5000 val_r2=0.7049, val_R2=0.6609\n",
      "fold=E, depth=   6, lr=0.1000 val_r2=0.7418, val_R2=0.6984\n",
      "fold=E, depth=   6, lr=0.0500 val_r2=0.7438, val_R2=0.6953\n",
      "fold=E, depth=   6, lr=0.0100 val_r2=0.7045, val_R2=0.4508\n",
      "fold=E, depth=   6, lr=0.0050 val_r2=0.5848, val_R2=0.2903\n",
      "fold=E, depth=   6, lr=0.0010 val_r2=0.1853, val_R2=0.0904\n",
      "test preds\t- r^2: 0.653, R^2: 0.653, mse: 0.226, rank: 0.728\n",
      "Runing fold A...\n",
      "fold=A, depth=   2, lr=0.5000 val_r2=0.6717, val_R2=0.6627\n",
      "fold=A, depth=   2, lr=0.1000 val_r2=0.6838, val_R2=0.6752\n",
      "fold=A, depth=   2, lr=0.0500 val_r2=0.6838, val_R2=0.6730\n",
      "fold=A, depth=   2, lr=0.0100 val_r2=0.6159, val_R2=0.4311\n",
      "fold=A, depth=   2, lr=0.0050 val_r2=0.4821, val_R2=0.2680\n",
      "fold=A, depth=   2, lr=0.0010 val_r2=0.1303, val_R2=0.0588\n",
      "fold=A, depth=   3, lr=0.5000 val_r2=0.6686, val_R2=0.6583\n",
      "fold=A, depth=   3, lr=0.1000 val_r2=0.6828, val_R2=0.6742\n",
      "fold=A, depth=   3, lr=0.0500 val_r2=0.6817, val_R2=0.6708\n",
      "fold=A, depth=   3, lr=0.0100 val_r2=0.6061, val_R2=0.4262\n",
      "fold=A, depth=   3, lr=0.0050 val_r2=0.4679, val_R2=0.2618\n",
      "fold=A, depth=   3, lr=0.0010 val_r2=0.1276, val_R2=0.0574\n",
      "fold=A, depth=   4, lr=0.5000 val_r2=0.6544, val_R2=0.6427\n",
      "fold=A, depth=   4, lr=0.1000 val_r2=0.6800, val_R2=0.6712\n",
      "fold=A, depth=   4, lr=0.0500 val_r2=0.6790, val_R2=0.6682\n",
      "fold=A, depth=   4, lr=0.0100 val_r2=0.6041, val_R2=0.4250\n",
      "fold=A, depth=   4, lr=0.0050 val_r2=0.4666, val_R2=0.2615\n",
      "fold=A, depth=   4, lr=0.0010 val_r2=0.1271, val_R2=0.0572\n",
      "fold=A, depth=   5, lr=0.5000 val_r2=0.6365, val_R2=0.6227\n",
      "fold=A, depth=   5, lr=0.1000 val_r2=0.6747, val_R2=0.6653\n",
      "fold=A, depth=   5, lr=0.0500 val_r2=0.6749, val_R2=0.6644\n",
      "fold=A, depth=   5, lr=0.0100 val_r2=0.5996, val_R2=0.4227\n",
      "fold=A, depth=   5, lr=0.0050 val_r2=0.4626, val_R2=0.2599\n",
      "fold=A, depth=   5, lr=0.0010 val_r2=0.1267, val_R2=0.0569\n",
      "fold=A, depth=   6, lr=0.5000 val_r2=0.6257, val_R2=0.6066\n",
      "fold=A, depth=   6, lr=0.1000 val_r2=0.6703, val_R2=0.6605\n",
      "fold=A, depth=   6, lr=0.0500 val_r2=0.6708, val_R2=0.6604\n",
      "fold=A, depth=   6, lr=0.0100 val_r2=0.5968, val_R2=0.4220\n",
      "fold=A, depth=   6, lr=0.0050 val_r2=0.4610, val_R2=0.2595\n",
      "fold=A, depth=   6, lr=0.0010 val_r2=0.1262, val_R2=0.0566\n",
      "Runing fold B...\n",
      "fold=B, depth=   2, lr=0.5000 val_r2=0.6341, val_R2=0.6259\n",
      "fold=B, depth=   2, lr=0.1000 val_r2=0.6439, val_R2=0.6346\n",
      "fold=B, depth=   2, lr=0.0500 val_r2=0.6431, val_R2=0.6270\n",
      "fold=B, depth=   2, lr=0.0100 val_r2=0.5804, val_R2=0.3922\n",
      "fold=B, depth=   2, lr=0.0050 val_r2=0.4570, val_R2=0.2491\n",
      "fold=B, depth=   2, lr=0.0010 val_r2=0.1193, val_R2=0.0724\n",
      "fold=B, depth=   3, lr=0.5000 val_r2=0.6334, val_R2=0.6257\n",
      "fold=B, depth=   3, lr=0.1000 val_r2=0.6431, val_R2=0.6341\n",
      "fold=B, depth=   3, lr=0.0500 val_r2=0.6425, val_R2=0.6268\n",
      "fold=B, depth=   3, lr=0.0100 val_r2=0.5800, val_R2=0.3932\n",
      "fold=B, depth=   3, lr=0.0050 val_r2=0.4555, val_R2=0.2492\n",
      "fold=B, depth=   3, lr=0.0010 val_r2=0.1180, val_R2=0.0720\n",
      "fold=B, depth=   4, lr=0.5000 val_r2=0.6222, val_R2=0.6143\n",
      "fold=B, depth=   4, lr=0.1000 val_r2=0.6411, val_R2=0.6323\n",
      "fold=B, depth=   4, lr=0.0500 val_r2=0.6406, val_R2=0.6252\n",
      "fold=B, depth=   4, lr=0.0100 val_r2=0.5779, val_R2=0.3921\n",
      "fold=B, depth=   4, lr=0.0050 val_r2=0.4537, val_R2=0.2487\n",
      "fold=B, depth=   4, lr=0.0010 val_r2=0.1179, val_R2=0.0719\n",
      "fold=B, depth=   5, lr=0.5000 val_r2=0.6116, val_R2=0.6042\n",
      "fold=B, depth=   5, lr=0.1000 val_r2=0.6365, val_R2=0.6282\n",
      "fold=B, depth=   5, lr=0.0500 val_r2=0.6379, val_R2=0.6231\n",
      "fold=B, depth=   5, lr=0.0100 val_r2=0.5756, val_R2=0.3911\n",
      "fold=B, depth=   5, lr=0.0050 val_r2=0.4514, val_R2=0.2477\n",
      "fold=B, depth=   5, lr=0.0010 val_r2=0.1175, val_R2=0.0717\n",
      "fold=B, depth=   6, lr=0.5000 val_r2=0.5969, val_R2=0.5893\n",
      "fold=B, depth=   6, lr=0.1000 val_r2=0.6312, val_R2=0.6231\n",
      "fold=B, depth=   6, lr=0.0500 val_r2=0.6339, val_R2=0.6197\n",
      "fold=B, depth=   6, lr=0.0100 val_r2=0.5730, val_R2=0.3906\n",
      "fold=B, depth=   6, lr=0.0050 val_r2=0.4504, val_R2=0.2478\n",
      "fold=B, depth=   6, lr=0.0010 val_r2=0.1174, val_R2=0.0717\n",
      "Runing fold C...\n",
      "fold=C, depth=   2, lr=0.5000 val_r2=0.6580, val_R2=0.6464\n",
      "fold=C, depth=   2, lr=0.1000 val_r2=0.6677, val_R2=0.6554\n",
      "fold=C, depth=   2, lr=0.0500 val_r2=0.6698, val_R2=0.6493\n",
      "fold=C, depth=   2, lr=0.0100 val_r2=0.6465, val_R2=0.4004\n",
      "fold=C, depth=   2, lr=0.0050 val_r2=0.5226, val_R2=0.2515\n",
      "fold=C, depth=   2, lr=0.0010 val_r2=0.1252, val_R2=0.0693\n",
      "fold=C, depth=   3, lr=0.5000 val_r2=0.6433, val_R2=0.6328\n",
      "fold=C, depth=   3, lr=0.1000 val_r2=0.6667, val_R2=0.6547\n",
      "fold=C, depth=   3, lr=0.0500 val_r2=0.6705, val_R2=0.6509\n",
      "fold=C, depth=   3, lr=0.0100 val_r2=0.6676, val_R2=0.4172\n",
      "fold=C, depth=   3, lr=0.0050 val_r2=0.5540, val_R2=0.2640\n",
      "fold=C, depth=   3, lr=0.0010 val_r2=0.1347, val_R2=0.0732\n",
      "fold=C, depth=   4, lr=0.5000 val_r2=0.6330, val_R2=0.6219\n",
      "fold=C, depth=   4, lr=0.1000 val_r2=0.6630, val_R2=0.6512\n",
      "fold=C, depth=   4, lr=0.0500 val_r2=0.6682, val_R2=0.6492\n",
      "fold=C, depth=   4, lr=0.0100 val_r2=0.6686, val_R2=0.4188\n",
      "fold=C, depth=   4, lr=0.0050 val_r2=0.5581, val_R2=0.2656\n",
      "fold=C, depth=   4, lr=0.0010 val_r2=0.1353, val_R2=0.0734\n",
      "fold=C, depth=   5, lr=0.5000 val_r2=0.6215, val_R2=0.6104\n",
      "fold=C, depth=   5, lr=0.1000 val_r2=0.6595, val_R2=0.6482\n",
      "fold=C, depth=   5, lr=0.0500 val_r2=0.6648, val_R2=0.6466\n",
      "fold=C, depth=   5, lr=0.0100 val_r2=0.6634, val_R2=0.4167\n",
      "fold=C, depth=   5, lr=0.0050 val_r2=0.5523, val_R2=0.2637\n",
      "fold=C, depth=   5, lr=0.0010 val_r2=0.1342, val_R2=0.0730\n",
      "fold=C, depth=   6, lr=0.5000 val_r2=0.6064, val_R2=0.5947\n",
      "fold=C, depth=   6, lr=0.1000 val_r2=0.6538, val_R2=0.6425\n",
      "fold=C, depth=   6, lr=0.0500 val_r2=0.6608, val_R2=0.6433\n",
      "fold=C, depth=   6, lr=0.0100 val_r2=0.6601, val_R2=0.4166\n",
      "fold=C, depth=   6, lr=0.0050 val_r2=0.5503, val_R2=0.2640\n",
      "fold=C, depth=   6, lr=0.0010 val_r2=0.1341, val_R2=0.0730\n",
      "Runing fold D...\n",
      "fold=D, depth=   2, lr=0.5000 val_r2=0.6016, val_R2=0.5718\n",
      "fold=D, depth=   2, lr=0.1000 val_r2=0.6052, val_R2=0.5856\n",
      "fold=D, depth=   2, lr=0.0500 val_r2=0.5968, val_R2=0.5879\n",
      "fold=D, depth=   2, lr=0.0100 val_r2=0.5040, val_R2=0.3744\n",
      "fold=D, depth=   2, lr=0.0050 val_r2=0.3610, val_R2=0.2241\n",
      "fold=D, depth=   2, lr=0.0010 val_r2=0.0421, val_R2=0.0332\n",
      "fold=D, depth=   3, lr=0.5000 val_r2=0.5998, val_R2=0.5673\n",
      "fold=D, depth=   3, lr=0.1000 val_r2=0.6065, val_R2=0.5849\n",
      "fold=D, depth=   3, lr=0.0500 val_r2=0.6034, val_R2=0.5915\n",
      "fold=D, depth=   3, lr=0.0100 val_r2=0.5235, val_R2=0.3894\n",
      "fold=D, depth=   3, lr=0.0050 val_r2=0.3802, val_R2=0.2336\n",
      "fold=D, depth=   3, lr=0.0010 val_r2=0.0451, val_R2=0.0355\n",
      "fold=D, depth=   4, lr=0.5000 val_r2=0.5912, val_R2=0.5523\n",
      "fold=D, depth=   4, lr=0.1000 val_r2=0.6055, val_R2=0.5823\n",
      "fold=D, depth=   4, lr=0.0500 val_r2=0.6049, val_R2=0.5913\n",
      "fold=D, depth=   4, lr=0.0100 val_r2=0.5361, val_R2=0.3996\n",
      "fold=D, depth=   4, lr=0.0050 val_r2=0.3974, val_R2=0.2417\n",
      "fold=D, depth=   4, lr=0.0010 val_r2=0.0480, val_R2=0.0375\n",
      "fold=D, depth=   5, lr=0.5000 val_r2=0.5805, val_R2=0.5374\n",
      "fold=D, depth=   5, lr=0.1000 val_r2=0.6048, val_R2=0.5800\n",
      "fold=D, depth=   5, lr=0.0500 val_r2=0.6044, val_R2=0.5897\n",
      "fold=D, depth=   5, lr=0.0100 val_r2=0.5366, val_R2=0.4014\n",
      "fold=D, depth=   5, lr=0.0050 val_r2=0.3994, val_R2=0.2430\n",
      "fold=D, depth=   5, lr=0.0010 val_r2=0.0488, val_R2=0.0381\n",
      "fold=D, depth=   6, lr=0.5000 val_r2=0.5688, val_R2=0.5200\n",
      "fold=D, depth=   6, lr=0.1000 val_r2=0.5992, val_R2=0.5723\n",
      "fold=D, depth=   6, lr=0.0500 val_r2=0.6018, val_R2=0.5865\n",
      "fold=D, depth=   6, lr=0.0100 val_r2=0.5373, val_R2=0.4034\n",
      "fold=D, depth=   6, lr=0.0050 val_r2=0.4040, val_R2=0.2458\n",
      "fold=D, depth=   6, lr=0.0010 val_r2=0.0501, val_R2=0.0390\n",
      "Runing fold E...\n",
      "fold=E, depth=   2, lr=0.5000 val_r2=0.7330, val_R2=0.6857\n",
      "fold=E, depth=   2, lr=0.1000 val_r2=0.7417, val_R2=0.6943\n",
      "fold=E, depth=   2, lr=0.0500 val_r2=0.7387, val_R2=0.6873\n",
      "fold=E, depth=   2, lr=0.0100 val_r2=0.6785, val_R2=0.4320\n",
      "fold=E, depth=   2, lr=0.0050 val_r2=0.5565, val_R2=0.2771\n",
      "fold=E, depth=   2, lr=0.0010 val_r2=0.1771, val_R2=0.0866\n",
      "fold=E, depth=   3, lr=0.5000 val_r2=0.7267, val_R2=0.6793\n",
      "fold=E, depth=   3, lr=0.1000 val_r2=0.7421, val_R2=0.6942\n",
      "fold=E, depth=   3, lr=0.0500 val_r2=0.7412, val_R2=0.6889\n",
      "fold=E, depth=   3, lr=0.0100 val_r2=0.6886, val_R2=0.4396\n",
      "fold=E, depth=   3, lr=0.0050 val_r2=0.5651, val_R2=0.2822\n",
      "fold=E, depth=   3, lr=0.0010 val_r2=0.1803, val_R2=0.0880\n",
      "fold=E, depth=   4, lr=0.5000 val_r2=0.7222, val_R2=0.6757\n",
      "fold=E, depth=   4, lr=0.1000 val_r2=0.7408, val_R2=0.6934\n",
      "fold=E, depth=   4, lr=0.0500 val_r2=0.7401, val_R2=0.6880\n",
      "fold=E, depth=   4, lr=0.0100 val_r2=0.6950, val_R2=0.4461\n",
      "fold=E, depth=   4, lr=0.0050 val_r2=0.5739, val_R2=0.2871\n",
      "fold=E, depth=   4, lr=0.0010 val_r2=0.1829, val_R2=0.0890\n",
      "fold=E, depth=   5, lr=0.5000 val_r2=0.7089, val_R2=0.6616\n",
      "fold=E, depth=   5, lr=0.1000 val_r2=0.7372, val_R2=0.6902\n",
      "fold=E, depth=   5, lr=0.0500 val_r2=0.7372, val_R2=0.6855\n",
      "fold=E, depth=   5, lr=0.0100 val_r2=0.6923, val_R2=0.4457\n",
      "fold=E, depth=   5, lr=0.0050 val_r2=0.5734, val_R2=0.2874\n",
      "fold=E, depth=   5, lr=0.0010 val_r2=0.1844, val_R2=0.0895\n",
      "fold=E, depth=   6, lr=0.5000 val_r2=0.6939, val_R2=0.6482\n",
      "fold=E, depth=   6, lr=0.1000 val_r2=0.7330, val_R2=0.6868\n",
      "fold=E, depth=   6, lr=0.0500 val_r2=0.7358, val_R2=0.6848\n",
      "fold=E, depth=   6, lr=0.0100 val_r2=0.6905, val_R2=0.4449\n",
      "fold=E, depth=   6, lr=0.0050 val_r2=0.5681, val_R2=0.2854\n",
      "fold=E, depth=   6, lr=0.0010 val_r2=0.1830, val_R2=0.0890\n",
      "test preds\t- r^2: 0.654, R^2: 0.654, mse: 0.226, rank: 0.745\n"
     ],
     "name": "stdout"
    }
   ]
  },
  {
   "cell_type": "code",
   "metadata": {
    "colab": {
     "base_uri": "https://localhost:8080/",
     "height": 308
    },
    "id": "CzCdiBtdl9fX",
    "outputId": "a389d6a8-d6bf-4d02-ddbe-f0516c2a7433"
   },
   "source": [
    "plot_depth_v_lr(*nls_center_result[2:5], folds=FOLDS, title='NL center')"
   ],
   "execution_count": null,
   "outputs": [
    {
     "output_type": "stream",
     "text": [
      "fold A, chosen depth: 2, lr: 0.1\n",
      "fold B, chosen depth: 2, lr: 0.1\n",
      "fold C, chosen depth: 2, lr: 0.05\n",
      "fold D, chosen depth: 2, lr: 0.1\n",
      "fold E, chosen depth: 2, lr: 0.05\n"
     ],
     "name": "stdout"
    },
    {
     "output_type": "display_data",
     "data": {
      "image/png": "[encoded data removed]",
      "text/plain": [
       "<Figure size 720x216 with 6 Axes>"
      ]
     },
     "metadata": {
      "tags": [],
      "needs_background": "light"
     }
    }
   ]
  },
  {
   "cell_type": "code",
   "metadata": {
    "colab": {
     "base_uri": "https://localhost:8080/",
     "height": 240
    },
    "id": "ZJQ2TwYil9fZ",
    "outputId": "19a720b9-8a85-4acc-bf0e-dc785e5dd6d3"
   },
   "source": [
    "fig, axs = plt.subplots(1, 2, figsize=(10, 3), sharey=True)\n",
    "for result, title in [(nls_center_result, 'NL center'),\n",
    "                      (nls_mean_result, 'NL mean')]:\n",
    "    models = result[0]\n",
    "    masks = [dmsp_mask, viirs_mask]\n",
    "    for i in range(2):\n",
    "        ax, mask, model = axs[i], masks[i], models[i]\n",
    "        nls = np.arange(-0.5, 8, 0.05)\n",
    "        preds = model.predict(nls.reshape(-1, 1))\n",
    "        ax.plot(nls, preds, linewidth=2, label=title)\n",
    "\n",
    "axs[0].set(xlabel='DMSP', ylabel='GBT pred')\n",
    "axs[1].set(xlabel='VIIRS', ylabel='GBT pred')\n",
    "\n",
    "for ax in axs:\n",
    "    ax.grid(True)\n",
    "    ax.legend()\n",
    "fig.suptitle('Fold E OOC', y=1.02)\n",
    "fig.tight_layout()\n",
    "plt.show()"
   ],
   "execution_count": null,
   "outputs": [
    {
     "output_type": "display_data",
     "data": {
      "image/png": "[encoded data removed]",
      "text/plain": [
       "<Figure size 720x216 with 2 Axes>"
      ]
     },
     "metadata": {
      "tags": [],
      "needs_background": "light"
     }
    }
   ]
  },
  {
   "cell_type": "markdown",
   "metadata": {
    "id": "shd5J2u7l9fa"
   },
   "source": [
    "# Ridge Regression on Histograms\n",
    "\n",
    "- set \"missing\" DMSP and VIIRS values to 0 (i.e. the mean)\n",
    "- not sure if this is the most \"correct\" thing to do, but it's somewhat reasonable approximation"
   ]
  },
  {
   "cell_type": "code",
   "metadata": {
    "colab": {
     "base_uri": "https://localhost:8080/"
    },
    "id": "n1sby9del9fb",
    "outputId": "cbe24f25-81b1-4387-80fd-0ecf7531122c"
   },
   "source": [
    "# standardize to 0 mean and unit variance\n",
    "num_examples = len(image_hists)\n",
    "image_hists_mean = np.mean(image_hists, axis=0, dtype=np.float64)\n",
    "image_hists_std = np.std(image_hists, axis=0, dtype=np.float64)\n",
    "\n",
    "image_hists_mean[7] = np.mean(image_hists[dmsp_mask, 7], axis=0, dtype=np.float64)\n",
    "image_hists_mean[8] = np.mean(image_hists[viirs_mask, 8], axis=0, dtype=np.float64)\n",
    "\n",
    "image_hists_std[7] = np.std(image_hists[dmsp_mask, 7], axis=0, dtype=np.float64)\n",
    "image_hists_std[8] = np.std(image_hists[viirs_mask, 8], axis=0, dtype=np.float64)\n",
    "\n",
    "standardized_image_hists = np.zeros(image_hists.shape, dtype=np.float64)\n",
    "for mask in [dmsp_mask, viirs_mask]:\n",
    "    standardized_image_hists[mask] = (image_hists[mask] - image_hists_mean) / (image_hists_std + 1e-6)\n",
    "\n",
    "print(standardized_image_hists.shape)"
   ],
   "execution_count": null,
   "outputs": [
    {
     "output_type": "stream",
     "text": [
      "(19669, 9, 102)\n"
     ],
     "name": "stdout"
    }
   ]
  },
  {
   "cell_type": "code",
   "metadata": {
    "id": "gq33iWJRl9fb"
   },
   "source": [
    "# split nls by sensors\n",
    "def split_nls(nls, years):\n",
    "    '''\n",
    "    Args\n",
    "        - nls: np.array, shape [N]\n",
    "        - years: np.array, shape [N]\n",
    "\n",
    "    Returns\n",
    "        - nls_split: np.array, shape [N, 2]\n",
    "    '''\n",
    "    N = len(nls)\n",
    "    dmsp_mask = years < 2012\n",
    "    viirs_mask = ~dmsp_mask\n",
    "    nls_split = np.zeros([N, 2], dtype=np.float32)\n",
    "    nls_split[dmsp_mask, 0] = nls[dmsp_mask]\n",
    "    nls_split[viirs_mask, 1] = nls[viirs_mask]\n",
    "    return nls_split"
   ],
   "execution_count": null,
   "outputs": []
  },
  {
   "cell_type": "code",
   "metadata": {
    "id": "Vhj53NTFl9fc"
   },
   "source": [
    "#standardize per sensor split\n",
    "standardized_nls_center = split_nls(nls_center, years)\n",
    "for i, mask in enumerate([dmsp_mask, viirs_mask]):\n",
    "    standardized_nls_center[mask, i] -= np.mean(standardized_nls_center[mask, i])\n",
    "    standardized_nls_center[mask, i] -= np.std(standardized_nls_center[mask, i])\n",
    "\n",
    "standardized_nls_mean = split_nls(nls_mean, years)\n",
    "for i, mask in enumerate([dmsp_mask, viirs_mask]):\n",
    "    standardized_nls_mean[mask, i] -= np.mean(standardized_nls_mean[mask, i])\n",
    "    standardized_nls_mean[mask, i] -= np.std(standardized_nls_mean[mask, i])"
   ],
   "execution_count": null,
   "outputs": []
  },
  {
   "cell_type": "markdown",
   "metadata": {
    "id": "WIzu-pACl9fc"
   },
   "source": [
    "## OOC"
   ]
  },
  {
   "cell_type": "markdown",
   "metadata": {
    "id": "0u51OQVaxdD3"
   },
   "source": [
    "ridge_cv performs as follows:\n",
    "\n",
    "    For every fold F (the test fold):\n",
    "      1. uses leave-one-fold-out CV on all other folds\n",
    "         to tune ridge model alpha parameter\n",
    "      2. using best alpha, trains ridge model on all folds except F\n",
    "      3. runs trained ridge model on F\n",
    "\n",
    "    Saves predictions for each fold on test.\n",
    "        savedir/test_preds_{subset_name}.npz if subset_name is given\n",
    "        savedir/test_preds.npz otherwise\n",
    "    Saves ridge regression weights to savedir/ridge_weights.npz\n",
    "        if save_weight=True"
   ]
  },
  {
   "cell_type": "code",
   "metadata": {
    "id": "xTEM0-6Hl9fd"
   },
   "source": [
    "def ridge_ooc_wrapper(img_hists, model_name):\n",
    "    '''\n",
    "\n",
    "    Args:\n",
    "        - img_hists: np.array, shape [N, C, nbins], type int64\n",
    "        - model_name: str, Name of the model (For print)\n",
    "\n",
    "    '''\n",
    "    # perform ridge cv on all locations\n",
    "    print(model_name)\n",
    "    ridge_cv(\n",
    "        features=img_hists.reshape(num_examples, -1),\n",
    "        labels=labels, group_labels=country_labels, group_names=COUNTRIES,\n",
    "        savedir=os.path.join(LOGS_ROOT_DIR, 'dhs_ridge', model_name))\n",
    "    # perform ridge cv only on urban locations\n",
    "    print(f'== {model_name} urban ==')\n",
    "    ridge_cv(\n",
    "        features=img_hists.reshape(num_examples, -1),\n",
    "        labels=labels, group_labels=country_labels, group_names=COUNTRIES,\n",
    "        savedir=os.path.join(LOGS_ROOT_DIR, 'dhs_ridge', model_name),\n",
    "        subset_indices=urban_indices, subset_name='urban')\n",
    "    # perform ridge cv only on rural locations\n",
    "    print(f'== {model_name} rural ==')\n",
    "    ridge_cv(\n",
    "        features=img_hists.reshape(num_examples, -1),\n",
    "        labels=labels, group_labels=country_labels, group_names=COUNTRIES,\n",
    "        savedir=os.path.join(LOGS_ROOT_DIR, 'dhs_ridge', model_name),\n",
    "        subset_indices=rural_indices, subset_name='rural')"
   ],
   "execution_count": 2,
   "outputs": []
  },
  {
   "cell_type": "code",
   "metadata": {
    "colab": {
     "base_uri": "https://localhost:8080/"
    },
    "id": "UKP2Qz09l9fd",
    "outputId": "b557d59d-09b3-47ce-d551-5f37483e1356"
   },
   "source": [
    "model_name = 'nlcenter_scalar'\n",
    "ridge_ooc_wrapper(model_name=model_name, img_hists=standardized_nls_center)"
   ],
   "execution_count": null,
   "outputs": [
    {
     "output_type": "stream",
     "text": [
      "nlcenter_scalar\n",
      "Group: angola\n",
      "best val mse: 0.428, best alpha: 128.0, test mse: 2.242\n",
      "Group: benin\n",
      "best val mse: 0.505, best alpha: 8192.0, test mse: 0.384\n",
      "Group: burkina_faso\n",
      "best val mse: 0.510, best alpha: 8192.0, test mse: 0.285\n",
      "Group: cameroon\n",
      "best val mse: 0.498, best alpha: 8192.0, test mse: 0.581\n",
      "Group: cote_d_ivoire\n",
      "best val mse: 0.502, best alpha: 8192.0, test mse: 0.397\n",
      "Group: democratic_republic_of_congo\n",
      "best val mse: 0.498, best alpha: 8192.0, test mse: 0.615\n",
      "Group: ethiopia\n",
      "best val mse: 0.491, best alpha: 8192.0, test mse: 0.673\n",
      "Group: ghana\n",
      "best val mse: 0.491, best alpha: 8192.0, test mse: 0.781\n",
      "Group: guinea\n",
      "best val mse: 0.499, best alpha: 8192.0, test mse: 0.585\n",
      "Group: kenya\n",
      "best val mse: 0.513, best alpha: 8192.0, test mse: 0.391\n",
      "Group: lesotho\n",
      "best val mse: 0.506, best alpha: 8192.0, test mse: 0.368\n",
      "Group: malawi\n",
      "best val mse: 0.522, best alpha: 8192.0, test mse: 0.320\n",
      "Group: mali\n",
      "best val mse: 0.506, best alpha: 8192.0, test mse: 0.345\n",
      "Group: mozambique\n",
      "best val mse: 0.507, best alpha: 8192.0, test mse: 0.395\n",
      "Group: nigeria\n",
      "best val mse: 0.474, best alpha: 8192.0, test mse: 0.799\n",
      "Group: rwanda\n",
      "best val mse: 0.510, best alpha: 8192.0, test mse: 0.336\n",
      "Group: senegal\n",
      "best val mse: 0.499, best alpha: 8192.0, test mse: 0.547\n",
      "Group: sierra_leone\n",
      "best val mse: 0.502, best alpha: 8192.0, test mse: 0.414\n",
      "Group: tanzania\n",
      "best val mse: 0.515, best alpha: 8192.0, test mse: 0.364\n",
      "Group: togo\n",
      "best val mse: 0.502, best alpha: 8192.0, test mse: 0.376\n",
      "Group: uganda\n",
      "best val mse: 0.509, best alpha: 8192.0, test mse: 0.321\n",
      "Group: zambia\n",
      "best val mse: 0.501, best alpha: 8192.0, test mse: 0.490\n",
      "Group: zimbabwe\n",
      "best val mse: 0.481, best alpha: 8192.0, test mse: 0.957\n",
      "saving test preds to: ../logs/dhs_ridge/nlcenter_scalar/test_preds.npz\n",
      "== nlcenter_scalar urban ==\n",
      "Group: angola\n",
      "best val mse: 0.377, best alpha: 128.0, test mse: 0.980\n",
      "Group: benin\n",
      "best val mse: 0.408, best alpha: 8192.0, test mse: 0.388\n",
      "Group: burkina_faso\n",
      "best val mse: 0.409, best alpha: 8192.0, test mse: 0.312\n",
      "Group: cameroon\n",
      "best val mse: 0.414, best alpha: 8192.0, test mse: 0.240\n",
      "Group: cote_d_ivoire\n",
      "best val mse: 0.411, best alpha: 8192.0, test mse: 0.180\n",
      "Group: democratic_republic_of_congo\n",
      "best val mse: 0.395, best alpha: 8192.0, test mse: 0.915\n",
      "Group: ethiopia\n",
      "best val mse: 0.418, best alpha: 8192.0, test mse: 0.216\n",
      "Group: ghana\n",
      "best val mse: 0.410, best alpha: 8192.0, test mse: 0.331\n",
      "Group: guinea\n",
      "best val mse: 0.407, best alpha: 8192.0, test mse: 0.329\n",
      "Group: kenya\n",
      "best val mse: 0.409, best alpha: 8192.0, test mse: 0.400\n",
      "Group: lesotho\n",
      "best val mse: 0.410, best alpha: 8192.0, test mse: 0.263\n",
      "Group: malawi\n",
      "best val mse: 0.404, best alpha: 8192.0, test mse: 0.438\n",
      "Group: mali\n",
      "best val mse: 0.409, best alpha: 8192.0, test mse: 0.266\n",
      "Group: mozambique\n",
      "best val mse: 0.393, best alpha: 8192.0, test mse: 0.629\n",
      "Group: nigeria\n",
      "best val mse: 0.400, best alpha: 8192.0, test mse: 0.450\n",
      "Group: rwanda\n",
      "best val mse: 0.404, best alpha: 8192.0, test mse: 0.470\n",
      "Group: senegal\n",
      "best val mse: 0.412, best alpha: 8192.0, test mse: 0.233\n",
      "Group: sierra_leone\n",
      "best val mse: 0.406, best alpha: 8192.0, test mse: 0.412\n",
      "Group: tanzania\n",
      "best val mse: 0.411, best alpha: 8192.0, test mse: 0.345\n",
      "Group: togo\n",
      "best val mse: 0.411, best alpha: 8192.0, test mse: 0.144\n",
      "Group: uganda\n",
      "best val mse: 0.406, best alpha: 8192.0, test mse: 0.393\n",
      "Group: zambia\n",
      "best val mse: 0.401, best alpha: 8192.0, test mse: 0.529\n",
      "Group: zimbabwe\n",
      "best val mse: 0.389, best alpha: 8192.0, test mse: 0.676\n",
      "saving test preds to: ../logs/dhs_ridge/nlcenter_scalar/test_preds_urban.npz\n",
      "== nlcenter_scalar rural ==\n",
      "Group: angola\n",
      "best val mse: 0.213, best alpha: 128.0, test mse: 0.312\n",
      "Group: benin\n",
      "best val mse: 0.219, best alpha: 128.0, test mse: 0.159\n",
      "Group: burkina_faso\n",
      "best val mse: 0.223, best alpha: 128.0, test mse: 0.076\n",
      "Group: cameroon\n",
      "best val mse: 0.216, best alpha: 128.0, test mse: 0.250\n",
      "Group: cote_d_ivoire\n",
      "best val mse: 0.216, best alpha: 128.0, test mse: 0.265\n",
      "Group: democratic_republic_of_congo\n",
      "best val mse: 0.213, best alpha: 128.0, test mse: 0.352\n",
      "Group: ethiopia\n",
      "best val mse: 0.210, best alpha: 128.0, test mse: 0.308\n",
      "Group: ghana\n",
      "best val mse: 0.206, best alpha: 128.0, test mse: 0.658\n",
      "Group: guinea\n",
      "best val mse: 0.218, best alpha: 128.0, test mse: 0.132\n",
      "Group: kenya\n",
      "best val mse: 0.219, best alpha: 128.0, test mse: 0.195\n",
      "Group: lesotho\n",
      "best val mse: 0.217, best alpha: 128.0, test mse: 0.216\n",
      "Group: malawi\n",
      "best val mse: 0.235, best alpha: 128.0, test mse: 0.083\n",
      "Group: mali\n",
      "best val mse: 0.218, best alpha: 128.0, test mse: 0.181\n",
      "Group: mozambique\n",
      "best val mse: 0.221, best alpha: 128.0, test mse: 0.104\n",
      "Group: nigeria\n",
      "best val mse: 0.180, best alpha: 2.0, test mse: 0.727\n",
      "Group: rwanda\n",
      "best val mse: 0.225, best alpha: 128.0, test mse: 0.090\n",
      "Group: senegal\n",
      "best val mse: 0.211, best alpha: 128.0, test mse: 0.407\n",
      "Group: sierra_leone\n",
      "best val mse: 0.218, best alpha: 128.0, test mse: 0.137\n",
      "Group: tanzania\n",
      "best val mse: 0.225, best alpha: 128.0, test mse: 0.150\n",
      "Group: togo\n",
      "best val mse: 0.218, best alpha: 128.0, test mse: 0.134\n",
      "Group: uganda\n",
      "best val mse: 0.223, best alpha: 128.0, test mse: 0.095\n",
      "Group: zambia\n",
      "best val mse: 0.219, best alpha: 128.0, test mse: 0.160\n",
      "Group: zimbabwe\n",
      "best val mse: 0.216, best alpha: 128.0, test mse: 0.232\n",
      "saving test preds to: ../logs/dhs_ridge/nlcenter_scalar/test_preds_rural.npz\n"
     ],
     "name": "stdout"
    }
   ]
  },
  {
   "cell_type": "code",
   "metadata": {
    "scrolled": true,
    "colab": {
     "base_uri": "https://localhost:8080/"
    },
    "id": "dS-T5lPQl9fe",
    "outputId": "25b11431-bac1-4213-8e33-4616071bb6be"
   },
   "source": [
    "model_name = 'nlmean_scalar'\n",
    "ridge_ooc_wrapper(model_name=model_name, img_hists=standardized_nls_mean)"
   ],
   "execution_count": null,
   "outputs": [
    {
     "output_type": "stream",
     "text": [
      "nlmean_scalar\n",
      "Group: angola\n",
      "best val mse: 0.429, best alpha: 128.0, test mse: 2.223\n",
      "Group: benin\n",
      "best val mse: 0.516, best alpha: 8192.0, test mse: 0.385\n",
      "Group: burkina_faso\n",
      "best val mse: 0.521, best alpha: 8192.0, test mse: 0.291\n",
      "Group: cameroon\n",
      "best val mse: 0.508, best alpha: 8192.0, test mse: 0.593\n",
      "Group: cote_d_ivoire\n",
      "best val mse: 0.512, best alpha: 8192.0, test mse: 0.429\n",
      "Group: democratic_republic_of_congo\n",
      "best val mse: 0.508, best alpha: 8192.0, test mse: 0.651\n",
      "Group: ethiopia\n",
      "best val mse: 0.502, best alpha: 8192.0, test mse: 0.697\n",
      "Group: ghana\n",
      "best val mse: 0.502, best alpha: 8192.0, test mse: 0.798\n",
      "Group: guinea\n",
      "best val mse: 0.509, best alpha: 8192.0, test mse: 0.614\n",
      "Group: kenya\n",
      "best val mse: 0.524, best alpha: 8192.0, test mse: 0.402\n",
      "Group: lesotho\n",
      "best val mse: 0.516, best alpha: 8192.0, test mse: 0.377\n",
      "Group: malawi\n",
      "best val mse: 0.532, best alpha: 8192.0, test mse: 0.337\n",
      "Group: mali\n",
      "best val mse: 0.516, best alpha: 8192.0, test mse: 0.364\n",
      "Group: mozambique\n",
      "best val mse: 0.517, best alpha: 8192.0, test mse: 0.417\n",
      "Group: nigeria\n",
      "best val mse: 0.487, best alpha: 8192.0, test mse: 0.795\n",
      "Group: rwanda\n",
      "best val mse: 0.521, best alpha: 8192.0, test mse: 0.342\n",
      "Group: senegal\n",
      "best val mse: 0.508, best alpha: 8192.0, test mse: 0.578\n",
      "Group: sierra_leone\n",
      "best val mse: 0.512, best alpha: 8192.0, test mse: 0.432\n",
      "Group: tanzania\n",
      "best val mse: 0.526, best alpha: 8192.0, test mse: 0.373\n",
      "Group: togo\n",
      "best val mse: 0.513, best alpha: 8192.0, test mse: 0.384\n",
      "Group: uganda\n",
      "best val mse: 0.519, best alpha: 8192.0, test mse: 0.326\n",
      "Group: zambia\n",
      "best val mse: 0.511, best alpha: 8192.0, test mse: 0.535\n",
      "Group: zimbabwe\n",
      "best val mse: 0.491, best alpha: 8192.0, test mse: 0.972\n",
      "saving test preds to: ../logs/dhs_ridge/nlmean_scalar/test_preds.npz\n",
      "== nlmean_scalar urban ==\n",
      "Group: angola\n",
      "best val mse: 0.374, best alpha: 16.0, test mse: 1.055\n",
      "Group: benin\n",
      "best val mse: 0.415, best alpha: 8192.0, test mse: 0.394\n",
      "Group: burkina_faso\n",
      "best val mse: 0.416, best alpha: 1024.0, test mse: 0.286\n",
      "Group: cameroon\n",
      "best val mse: 0.420, best alpha: 8192.0, test mse: 0.241\n",
      "Group: cote_d_ivoire\n",
      "best val mse: 0.418, best alpha: 8192.0, test mse: 0.181\n",
      "Group: democratic_republic_of_congo\n",
      "best val mse: 0.401, best alpha: 8192.0, test mse: 0.960\n",
      "Group: ethiopia\n",
      "best val mse: 0.424, best alpha: 8192.0, test mse: 0.219\n",
      "Group: ghana\n",
      "best val mse: 0.416, best alpha: 1024.0, test mse: 0.293\n",
      "Group: guinea\n",
      "best val mse: 0.413, best alpha: 8192.0, test mse: 0.336\n",
      "Group: kenya\n",
      "best val mse: 0.415, best alpha: 8192.0, test mse: 0.412\n",
      "Group: lesotho\n",
      "best val mse: 0.417, best alpha: 8192.0, test mse: 0.268\n",
      "Group: malawi\n",
      "best val mse: 0.411, best alpha: 8192.0, test mse: 0.447\n",
      "Group: mali\n",
      "best val mse: 0.416, best alpha: 8192.0, test mse: 0.276\n",
      "Group: mozambique\n",
      "best val mse: 0.397, best alpha: 1024.0, test mse: 0.596\n",
      "Group: nigeria\n",
      "best val mse: 0.406, best alpha: 1024.0, test mse: 0.440\n",
      "Group: rwanda\n",
      "best val mse: 0.411, best alpha: 1024.0, test mse: 0.436\n",
      "Group: senegal\n",
      "best val mse: 0.418, best alpha: 8192.0, test mse: 0.245\n",
      "Group: sierra_leone\n",
      "best val mse: 0.412, best alpha: 8192.0, test mse: 0.429\n",
      "Group: tanzania\n",
      "best val mse: 0.418, best alpha: 8192.0, test mse: 0.348\n",
      "Group: togo\n",
      "best val mse: 0.417, best alpha: 8192.0, test mse: 0.143\n",
      "Group: uganda\n",
      "best val mse: 0.413, best alpha: 8192.0, test mse: 0.394\n",
      "Group: zambia\n",
      "best val mse: 0.407, best alpha: 8192.0, test mse: 0.549\n",
      "Group: zimbabwe\n",
      "best val mse: 0.397, best alpha: 8192.0, test mse: 0.667\n",
      "saving test preds to: ../logs/dhs_ridge/nlmean_scalar/test_preds_urban.npz\n",
      "== nlmean_scalar rural ==\n",
      "Group: angola\n",
      "best val mse: 0.218, best alpha: 128.0, test mse: 0.311\n",
      "Group: benin\n",
      "best val mse: 0.223, best alpha: 128.0, test mse: 0.158\n",
      "Group: burkina_faso\n",
      "best val mse: 0.228, best alpha: 128.0, test mse: 0.075\n",
      "Group: cameroon\n",
      "best val mse: 0.220, best alpha: 128.0, test mse: 0.250\n",
      "Group: cote_d_ivoire\n",
      "best val mse: 0.220, best alpha: 128.0, test mse: 0.271\n",
      "Group: democratic_republic_of_congo\n",
      "best val mse: 0.217, best alpha: 128.0, test mse: 0.353\n",
      "Group: ethiopia\n",
      "best val mse: 0.214, best alpha: 128.0, test mse: 0.310\n",
      "Group: ghana\n",
      "best val mse: 0.209, best alpha: 128.0, test mse: 0.675\n",
      "Group: guinea\n",
      "best val mse: 0.222, best alpha: 128.0, test mse: 0.132\n",
      "Group: kenya\n",
      "best val mse: 0.224, best alpha: 128.0, test mse: 0.194\n",
      "Group: lesotho\n",
      "best val mse: 0.221, best alpha: 128.0, test mse: 0.217\n",
      "Group: malawi\n",
      "best val mse: 0.240, best alpha: 128.0, test mse: 0.084\n",
      "Group: mali\n",
      "best val mse: 0.222, best alpha: 128.0, test mse: 0.181\n",
      "Group: mozambique\n",
      "best val mse: 0.226, best alpha: 128.0, test mse: 0.107\n",
      "Group: nigeria\n",
      "best val mse: 0.175, best alpha: 2.0, test mse: 1.211\n",
      "Group: rwanda\n",
      "best val mse: 0.230, best alpha: 128.0, test mse: 0.089\n",
      "Group: senegal\n",
      "best val mse: 0.215, best alpha: 128.0, test mse: 0.415\n",
      "Group: sierra_leone\n",
      "best val mse: 0.223, best alpha: 128.0, test mse: 0.137\n",
      "Group: tanzania\n",
      "best val mse: 0.228, best alpha: 128.0, test mse: 0.156\n",
      "Group: togo\n",
      "best val mse: 0.222, best alpha: 128.0, test mse: 0.134\n",
      "Group: uganda\n",
      "best val mse: 0.227, best alpha: 128.0, test mse: 0.096\n",
      "Group: zambia\n",
      "best val mse: 0.223, best alpha: 128.0, test mse: 0.163\n",
      "Group: zimbabwe\n",
      "best val mse: 0.221, best alpha: 128.0, test mse: 0.230\n",
      "saving test preds to: ../logs/dhs_ridge/nlmean_scalar/test_preds_rural.npz\n"
     ],
     "name": "stdout"
    }
   ]
  },
  {
   "cell_type": "code",
   "metadata": {
    "scrolled": true,
    "colab": {
     "base_uri": "https://localhost:8080/"
    },
    "id": "WHAVTFLBl9ff",
    "outputId": "f95da2a1-0c55-4e6b-e79e-52d5fa937cea"
   },
   "source": [
    "model_name = 'rgb_hist'\n",
    "ridge_ooc_wrapper(model_name=model_name, img_hists=standardized_image_hists[:, :3, :])"
   ],
   "execution_count": null,
   "outputs": [
    {
     "output_type": "stream",
     "text": [
      "rgb_hist\n",
      "Group: angola\n",
      "best val mse: 0.543, best alpha: 8192.0, test mse: 0.945\n",
      "Group: benin\n",
      "best val mse: 0.571, best alpha: 8192.0, test mse: 0.318\n",
      "Group: burkina_faso\n",
      "best val mse: 0.558, best alpha: 8192.0, test mse: 0.617\n",
      "Group: cameroon\n",
      "best val mse: 0.562, best alpha: 8192.0, test mse: 0.562\n",
      "Group: cote_d_ivoire\n",
      "best val mse: 0.561, best alpha: 8192.0, test mse: 0.519\n",
      "Group: democratic_republic_of_congo\n",
      "best val mse: 0.561, best alpha: 8192.0, test mse: 0.478\n",
      "Group: ethiopia\n",
      "best val mse: 0.541, best alpha: 8192.0, test mse: 0.895\n",
      "Group: ghana\n",
      "best val mse: 0.551, best alpha: 8192.0, test mse: 0.860\n",
      "Group: guinea\n",
      "best val mse: 0.561, best alpha: 8192.0, test mse: 0.465\n",
      "Group: kenya\n",
      "best val mse: 0.562, best alpha: 1024.0, test mse: 0.549\n",
      "Group: lesotho\n",
      "best val mse: 0.571, best alpha: 8192.0, test mse: 0.306\n",
      "Group: malawi\n",
      "best val mse: 0.584, best alpha: 8192.0, test mse: 0.355\n",
      "Group: mali\n",
      "best val mse: 0.566, best alpha: 8192.0, test mse: 0.403\n",
      "Group: mozambique\n",
      "best val mse: 0.565, best alpha: 8192.0, test mse: 0.478\n",
      "Group: nigeria\n",
      "best val mse: 0.548, best alpha: 8192.0, test mse: 0.784\n",
      "Group: rwanda\n",
      "best val mse: 0.573, best alpha: 1024.0, test mse: 0.337\n",
      "Group: senegal\n",
      "best val mse: 0.559, best alpha: 8192.0, test mse: 0.599\n",
      "Group: sierra_leone\n",
      "best val mse: 0.562, best alpha: 8192.0, test mse: 0.408\n",
      "Group: tanzania\n",
      "best val mse: 0.568, best alpha: 1024.0, test mse: 0.498\n",
      "Group: togo\n",
      "best val mse: 0.564, best alpha: 8192.0, test mse: 0.322\n",
      "Group: uganda\n",
      "best val mse: 0.569, best alpha: 8192.0, test mse: 0.351\n",
      "Group: zambia\n",
      "best val mse: 0.557, best alpha: 8192.0, test mse: 0.626\n",
      "Group: zimbabwe\n",
      "best val mse: 0.534, best alpha: 8192.0, test mse: 1.105\n",
      "saving test preds to: ../logs/dhs_ridge/rgb_hist/test_preds.npz\n",
      "== rgb_hist urban ==\n",
      "Group: angola\n",
      "best val mse: 0.405, best alpha: 8192.0, test mse: 0.619\n",
      "Group: benin\n",
      "best val mse: 0.424, best alpha: 8192.0, test mse: 0.343\n",
      "Group: burkina_faso\n",
      "best val mse: 0.414, best alpha: 8192.0, test mse: 0.538\n",
      "Group: cameroon\n",
      "best val mse: 0.426, best alpha: 8192.0, test mse: 0.259\n",
      "Group: cote_d_ivoire\n",
      "best val mse: 0.424, best alpha: 8192.0, test mse: 0.228\n",
      "Group: democratic_republic_of_congo\n",
      "best val mse: 0.411, best alpha: 8192.0, test mse: 0.770\n",
      "Group: ethiopia\n",
      "best val mse: 0.430, best alpha: 8192.0, test mse: 0.253\n",
      "Group: ghana\n",
      "best val mse: 0.422, best alpha: 8192.0, test mse: 0.341\n",
      "Group: guinea\n",
      "best val mse: 0.421, best alpha: 8192.0, test mse: 0.304\n",
      "Group: kenya\n",
      "best val mse: 0.423, best alpha: 8192.0, test mse: 0.402\n",
      "Group: lesotho\n",
      "best val mse: 0.424, best alpha: 8192.0, test mse: 0.265\n",
      "Group: malawi\n",
      "best val mse: 0.417, best alpha: 8192.0, test mse: 0.446\n",
      "Group: mali\n",
      "best val mse: 0.424, best alpha: 8192.0, test mse: 0.227\n",
      "Group: mozambique\n",
      "best val mse: 0.410, best alpha: 8192.0, test mse: 0.579\n",
      "Group: nigeria\n",
      "best val mse: 0.425, best alpha: 65536.0, test mse: 0.407\n",
      "Group: rwanda\n",
      "best val mse: 0.420, best alpha: 8192.0, test mse: 0.395\n",
      "Group: senegal\n",
      "best val mse: 0.427, best alpha: 8192.0, test mse: 0.264\n",
      "Group: sierra_leone\n",
      "best val mse: 0.421, best alpha: 8192.0, test mse: 0.343\n",
      "Group: tanzania\n",
      "best val mse: 0.421, best alpha: 8192.0, test mse: 0.397\n",
      "Group: togo\n",
      "best val mse: 0.425, best alpha: 8192.0, test mse: 0.125\n",
      "Group: uganda\n",
      "best val mse: 0.422, best alpha: 8192.0, test mse: 0.324\n",
      "Group: zambia\n",
      "best val mse: 0.413, best alpha: 8192.0, test mse: 0.569\n",
      "Group: zimbabwe\n",
      "best val mse: 0.397, best alpha: 8192.0, test mse: 0.774\n",
      "saving test preds to: ../logs/dhs_ridge/rgb_hist/test_preds_urban.npz\n",
      "== rgb_hist rural ==\n",
      "Group: angola\n",
      "best val mse: 0.245, best alpha: 33554432.0, test mse: 0.333\n",
      "Group: benin\n",
      "best val mse: 0.249, best alpha: 4194304.0, test mse: 0.200\n",
      "Group: burkina_faso\n",
      "best val mse: 0.254, best alpha: 8192.0, test mse: 0.127\n",
      "Group: cameroon\n",
      "best val mse: 0.248, best alpha: 4194304.0, test mse: 0.236\n",
      "Group: cote_d_ivoire\n",
      "best val mse: 0.246, best alpha: 4194304.0, test mse: 0.326\n",
      "Group: democratic_republic_of_congo\n",
      "best val mse: 0.247, best alpha: 8192.0, test mse: 0.249\n",
      "Group: ethiopia\n",
      "best val mse: 0.239, best alpha: 524288.0, test mse: 0.364\n",
      "Group: ghana\n",
      "best val mse: 0.232, best alpha: 4194304.0, test mse: 0.864\n",
      "Group: guinea\n",
      "best val mse: 0.250, best alpha: 4194304.0, test mse: 0.113\n",
      "Group: kenya\n",
      "best val mse: 0.249, best alpha: 8192.0, test mse: 0.237\n",
      "Group: lesotho\n",
      "best val mse: 0.248, best alpha: 8192.0, test mse: 0.235\n",
      "Group: malawi\n",
      "best val mse: 0.268, best alpha: 17179869184.0, test mse: 0.101\n",
      "Group: mali\n",
      "best val mse: 0.247, best alpha: 17179869184.0, test mse: 0.256\n",
      "Group: mozambique\n",
      "best val mse: 0.251, best alpha: 17179869184.0, test mse: 0.161\n",
      "Group: nigeria\n",
      "best val mse: 0.213, best alpha: 17179869184.0, test mse: 0.703\n",
      "Group: rwanda\n",
      "best val mse: 0.256, best alpha: 8192.0, test mse: 0.123\n",
      "Group: senegal\n",
      "best val mse: 0.242, best alpha: 17179869184.0, test mse: 0.430\n",
      "Group: sierra_leone\n",
      "best val mse: 0.250, best alpha: 8192.0, test mse: 0.129\n",
      "Group: tanzania\n",
      "best val mse: 0.255, best alpha: 4194304.0, test mse: 0.187\n",
      "Group: togo\n",
      "best val mse: 0.249, best alpha: 4194304.0, test mse: 0.165\n",
      "Group: uganda\n",
      "best val mse: 0.253, best alpha: 8192.0, test mse: 0.143\n",
      "Group: zambia\n",
      "best val mse: 0.250, best alpha: 4194304.0, test mse: 0.171\n",
      "Group: zimbabwe\n",
      "best val mse: 0.246, best alpha: 8192.0, test mse: 0.275\n",
      "saving test preds to: ../logs/dhs_ridge/rgb_hist/test_preds_rural.npz\n"
     ],
     "name": "stdout"
    }
   ]
  },
  {
   "cell_type": "code",
   "metadata": {
    "scrolled": true,
    "colab": {
     "base_uri": "https://localhost:8080/"
    },
    "id": "7ohvxntel9fg",
    "outputId": "9b8927bf-82ca-47e2-b3f5-7c2f920590c8"
   },
   "source": [
    "model_name = 'rgbnl_hist'\n",
    "bands = [0, 1, 2, -2, -1]\n",
    "ridge_ooc_wrapper(model_name=model_name, img_hists=standardized_image_hists[:, bands, :])"
   ],
   "execution_count": null,
   "outputs": [
    {
     "output_type": "stream",
     "text": [
      "rgbnl_hist\n",
      "Group: angola\n",
      "best val mse: 0.228, best alpha: 1024.0, test mse: 0.365\n",
      "Group: benin\n",
      "best val mse: 0.234, best alpha: 1024.0, test mse: 0.172\n",
      "Group: burkina_faso\n",
      "best val mse: 0.237, best alpha: 1024.0, test mse: 0.131\n",
      "Group: cameroon\n",
      "best val mse: 0.227, best alpha: 1024.0, test mse: 0.372\n",
      "Group: cote_d_ivoire\n",
      "best val mse: 0.232, best alpha: 1024.0, test mse: 0.210\n",
      "Group: democratic_republic_of_congo\n",
      "best val mse: 0.232, best alpha: 1024.0, test mse: 0.231\n",
      "Group: ethiopia\n",
      "best val mse: 0.230, best alpha: 1024.0, test mse: 0.284\n",
      "Group: ghana\n",
      "best val mse: 0.231, best alpha: 1024.0, test mse: 0.257\n",
      "Group: guinea\n",
      "best val mse: 0.233, best alpha: 1024.0, test mse: 0.163\n",
      "Group: kenya\n",
      "best val mse: 0.232, best alpha: 1024.0, test mse: 0.237\n",
      "Group: lesotho\n",
      "best val mse: 0.234, best alpha: 1024.0, test mse: 0.187\n",
      "Group: malawi\n",
      "best val mse: 0.235, best alpha: 1024.0, test mse: 0.199\n",
      "Group: mali\n",
      "best val mse: 0.236, best alpha: 1024.0, test mse: 0.134\n",
      "Group: mozambique\n",
      "best val mse: 0.235, best alpha: 1024.0, test mse: 0.193\n",
      "Group: nigeria\n",
      "best val mse: 0.224, best alpha: 1024.0, test mse: 0.363\n",
      "Group: rwanda\n",
      "best val mse: 0.237, best alpha: 1024.0, test mse: 0.132\n",
      "Group: senegal\n",
      "best val mse: 0.230, best alpha: 1024.0, test mse: 0.304\n",
      "Group: sierra_leone\n",
      "best val mse: 0.233, best alpha: 1024.0, test mse: 0.164\n",
      "Group: tanzania\n",
      "best val mse: 0.239, best alpha: 1024.0, test mse: 0.159\n",
      "Group: togo\n",
      "best val mse: 0.233, best alpha: 1024.0, test mse: 0.135\n",
      "Group: uganda\n",
      "best val mse: 0.238, best alpha: 1024.0, test mse: 0.116\n",
      "Group: zambia\n",
      "best val mse: 0.231, best alpha: 1024.0, test mse: 0.271\n",
      "Group: zimbabwe\n",
      "best val mse: 0.222, best alpha: 1024.0, test mse: 0.445\n",
      "saving test preds to: ../logs/dhs_ridge/rgbnl_hist/test_preds.npz\n",
      "== rgbnl_hist urban ==\n",
      "Group: angola\n",
      "best val mse: 0.294, best alpha: 1024.0, test mse: 0.404\n",
      "Group: benin\n",
      "best val mse: 0.306, best alpha: 1024.0, test mse: 0.162\n",
      "Group: burkina_faso\n",
      "best val mse: 0.301, best alpha: 1024.0, test mse: 0.236\n",
      "Group: cameroon\n",
      "best val mse: 0.300, best alpha: 1024.0, test mse: 0.276\n",
      "Group: cote_d_ivoire\n",
      "best val mse: 0.302, best alpha: 1024.0, test mse: 0.180\n",
      "Group: democratic_republic_of_congo\n",
      "best val mse: 0.297, best alpha: 1024.0, test mse: 0.431\n",
      "Group: ethiopia\n",
      "best val mse: 0.310, best alpha: 1024.0, test mse: 0.126\n",
      "Group: ghana\n",
      "best val mse: 0.305, best alpha: 1024.0, test mse: 0.178\n",
      "Group: guinea\n",
      "best val mse: 0.301, best alpha: 1024.0, test mse: 0.172\n",
      "Group: kenya\n",
      "best val mse: 0.303, best alpha: 1024.0, test mse: 0.280\n",
      "Group: lesotho\n",
      "best val mse: 0.301, best alpha: 1024.0, test mse: 0.235\n",
      "Group: malawi\n"
     ],
     "name": "stdout"
    }
   ]
  },
  {
   "cell_type": "code",
   "metadata": {
    "scrolled": true,
    "id": "vysITEeal9fh",
    "colab": {
     "base_uri": "https://localhost:8080/",
     "height": 345
    },
    "outputId": "6bc00402-7c05-4f26-b1ca-eb78016e3710"
   },
   "source": [
    "model_name = 'ms_hist'\n",
    "ridge_ooc_wrapper(model_name=model_name, img_hists=standardized_image_hists[:, :7, :])"
   ],
   "execution_count": null,
   "outputs": [
    {
     "output_type": "stream",
     "text": [
      "ms_hist\n",
      "Group: angola\n"
     ],
     "name": "stdout"
    },
    {
     "output_type": "error",
     "ename": "KeyboardInterrupt",
     "evalue": "ignored",
     "traceback": [
      "\u001B[0;31m---------------------------------------------------------------------------\u001B[0m",
      "\u001B[0;31mKeyboardInterrupt\u001B[0m                         Traceback (most recent call last)",
      "\u001B[0;32m<ipython-input-152-afd17febf7bf>\u001B[0m in \u001B[0;36m<module>\u001B[0;34m()\u001B[0m\n\u001B[1;32m      1\u001B[0m \u001B[0mmodel_name\u001B[0m \u001B[0;34m=\u001B[0m \u001B[0;34m'ms_hist'\u001B[0m\u001B[0;34m\u001B[0m\u001B[0;34m\u001B[0m\u001B[0m\n\u001B[0;32m----> 2\u001B[0;31m \u001B[0mridge_ooc_wrapper\u001B[0m\u001B[0;34m(\u001B[0m\u001B[0mmodel_name\u001B[0m\u001B[0;34m=\u001B[0m\u001B[0mmodel_name\u001B[0m\u001B[0;34m,\u001B[0m \u001B[0mimg_hists\u001B[0m\u001B[0;34m=\u001B[0m\u001B[0mstandardized_image_hists\u001B[0m\u001B[0;34m[\u001B[0m\u001B[0;34m:\u001B[0m\u001B[0;34m,\u001B[0m \u001B[0;34m:\u001B[0m\u001B[0;36m7\u001B[0m\u001B[0;34m,\u001B[0m \u001B[0;34m:\u001B[0m\u001B[0;34m]\u001B[0m\u001B[0;34m)\u001B[0m\u001B[0;34m\u001B[0m\u001B[0;34m\u001B[0m\u001B[0m\n\u001B[0m",
      "\u001B[0;32m<ipython-input-150-35b3b0ba954a>\u001B[0m in \u001B[0;36mridge_ooc_wrapper\u001B[0;34m(img_hists, model_name)\u001B[0m\n\u001B[1;32m      5\u001B[0m         \u001B[0mfeatures\u001B[0m\u001B[0;34m=\u001B[0m\u001B[0mimg_hists\u001B[0m\u001B[0;34m.\u001B[0m\u001B[0mreshape\u001B[0m\u001B[0;34m(\u001B[0m\u001B[0mnum_examples\u001B[0m\u001B[0;34m,\u001B[0m \u001B[0;34m-\u001B[0m\u001B[0;36m1\u001B[0m\u001B[0;34m)\u001B[0m\u001B[0;34m,\u001B[0m\u001B[0;34m\u001B[0m\u001B[0;34m\u001B[0m\u001B[0m\n\u001B[1;32m      6\u001B[0m         \u001B[0mlabels\u001B[0m\u001B[0;34m=\u001B[0m\u001B[0mlabels\u001B[0m\u001B[0;34m,\u001B[0m \u001B[0mgroup_labels\u001B[0m\u001B[0;34m=\u001B[0m\u001B[0mcountry_labels\u001B[0m\u001B[0;34m,\u001B[0m \u001B[0mgroup_names\u001B[0m\u001B[0;34m=\u001B[0m\u001B[0mCOUNTRIES\u001B[0m\u001B[0;34m,\u001B[0m\u001B[0;34m\u001B[0m\u001B[0;34m\u001B[0m\u001B[0m\n\u001B[0;32m----> 7\u001B[0;31m         savedir=os.path.join(LOGS_ROOT_DIR, 'dhs_ridge', model_name))\n\u001B[0m\u001B[1;32m      8\u001B[0m     \u001B[0;31m# perform ridge cv only on urban locations\u001B[0m\u001B[0;34m\u001B[0m\u001B[0;34m\u001B[0m\u001B[0;34m\u001B[0m\u001B[0m\n\u001B[1;32m      9\u001B[0m     \u001B[0mprint\u001B[0m\u001B[0;34m(\u001B[0m\u001B[0;34mf'== {model_name} urban =='\u001B[0m\u001B[0;34m)\u001B[0m\u001B[0;34m\u001B[0m\u001B[0;34m\u001B[0m\u001B[0m\n",
      "\u001B[0;32m/content/africa_poverty/models/linear_model.py\u001B[0m in \u001B[0;36mridge_cv\u001B[0;34m(features, labels, group_labels, group_names, savedir, weights, save_weights, do_plot, subset_indices, subset_name, save_dict, verbose)\u001B[0m\n\u001B[1;32m    282\u001B[0m             \u001B[0mgroup_names\u001B[0m\u001B[0;34m=\u001B[0m\u001B[0mgroup_names\u001B[0m\u001B[0;34m,\u001B[0m\u001B[0;34m\u001B[0m\u001B[0;34m\u001B[0m\u001B[0m\n\u001B[1;32m    283\u001B[0m             \u001B[0mreturn_weights\u001B[0m\u001B[0;34m=\u001B[0m\u001B[0msave_weights\u001B[0m\u001B[0;34m,\u001B[0m\u001B[0;34m\u001B[0m\u001B[0;34m\u001B[0m\u001B[0m\n\u001B[0;32m--> 284\u001B[0;31m             verbose=verbose)\n\u001B[0m\u001B[1;32m    285\u001B[0m         \u001B[0;32mif\u001B[0m \u001B[0msave_weights\u001B[0m\u001B[0;34m:\u001B[0m\u001B[0;34m\u001B[0m\u001B[0;34m\u001B[0m\u001B[0m\n\u001B[1;32m    286\u001B[0m             \u001B[0mtest_preds\u001B[0m\u001B[0;34m[\u001B[0m\u001B[0mtest_indices\u001B[0m\u001B[0;34m]\u001B[0m\u001B[0;34m,\u001B[0m \u001B[0mcoefs\u001B[0m\u001B[0;34m,\u001B[0m \u001B[0mintercept\u001B[0m \u001B[0;34m=\u001B[0m \u001B[0mresult\u001B[0m\u001B[0;34m\u001B[0m\u001B[0;34m\u001B[0m\u001B[0m\n",
      "\u001B[0;32m/content/africa_poverty/models/linear_model.py\u001B[0m in \u001B[0;36mtrain_linear_logo\u001B[0;34m(features, labels, group_labels, cv_groups, test_groups, weights, linear_model, plot, group_names, return_weights, verbose)\u001B[0m\n\u001B[1;32m    152\u001B[0m             \u001B[0mtrain_w\u001B[0m \u001B[0;34m=\u001B[0m \u001B[0;32mNone\u001B[0m \u001B[0;32mif\u001B[0m \u001B[0mw\u001B[0m \u001B[0;32mis\u001B[0m \u001B[0;32mNone\u001B[0m \u001B[0;32melse\u001B[0m \u001B[0mw\u001B[0m\u001B[0;34m[\u001B[0m\u001B[0mtrain_indices\u001B[0m\u001B[0;34m]\u001B[0m\u001B[0;34m\u001B[0m\u001B[0;34m\u001B[0m\u001B[0m\n\u001B[1;32m    153\u001B[0m             \u001B[0mval_w\u001B[0m \u001B[0;34m=\u001B[0m \u001B[0;32mNone\u001B[0m \u001B[0;32mif\u001B[0m \u001B[0mw\u001B[0m \u001B[0;32mis\u001B[0m \u001B[0;32mNone\u001B[0m \u001B[0;32melse\u001B[0m \u001B[0mw\u001B[0m\u001B[0;34m[\u001B[0m\u001B[0mval_indices\u001B[0m\u001B[0;34m]\u001B[0m\u001B[0;34m\u001B[0m\u001B[0;34m\u001B[0m\u001B[0m\n\u001B[0;32m--> 154\u001B[0;31m             \u001B[0mmodel\u001B[0m\u001B[0;34m.\u001B[0m\u001B[0mfit\u001B[0m\u001B[0;34m(\u001B[0m\u001B[0mX\u001B[0m\u001B[0;34m=\u001B[0m\u001B[0mtrain_X\u001B[0m\u001B[0;34m,\u001B[0m \u001B[0my\u001B[0m\u001B[0;34m=\u001B[0m\u001B[0mtrain_y\u001B[0m\u001B[0;34m,\u001B[0m \u001B[0msample_weight\u001B[0m\u001B[0;34m=\u001B[0m\u001B[0mtrain_w\u001B[0m\u001B[0;34m)\u001B[0m\u001B[0;34m\u001B[0m\u001B[0;34m\u001B[0m\u001B[0m\n\u001B[0m\u001B[1;32m    155\u001B[0m             \u001B[0mval_preds\u001B[0m \u001B[0;34m=\u001B[0m \u001B[0mmodel\u001B[0m\u001B[0;34m.\u001B[0m\u001B[0mpredict\u001B[0m\u001B[0;34m(\u001B[0m\u001B[0mval_X\u001B[0m\u001B[0;34m)\u001B[0m\u001B[0;34m\u001B[0m\u001B[0;34m\u001B[0m\u001B[0m\n\u001B[1;32m    156\u001B[0m             \u001B[0mpreds\u001B[0m\u001B[0;34m[\u001B[0m\u001B[0mi\u001B[0m\u001B[0;34m,\u001B[0m \u001B[0mval_indices\u001B[0m\u001B[0;34m]\u001B[0m \u001B[0;34m=\u001B[0m \u001B[0mval_preds\u001B[0m\u001B[0;34m\u001B[0m\u001B[0;34m\u001B[0m\u001B[0m\n",
      "\u001B[0;32m/usr/local/lib/python3.7/dist-packages/sklearn/linear_model/_ridge.py\u001B[0m in \u001B[0;36mfit\u001B[0;34m(self, X, y, sample_weight)\u001B[0m\n\u001B[1;32m    764\u001B[0m         \u001B[0mself\u001B[0m \u001B[0;34m:\u001B[0m \u001B[0mreturns\u001B[0m \u001B[0man\u001B[0m \u001B[0minstance\u001B[0m \u001B[0mof\u001B[0m \u001B[0mself\u001B[0m\u001B[0;34m.\u001B[0m\u001B[0;34m\u001B[0m\u001B[0;34m\u001B[0m\u001B[0m\n\u001B[1;32m    765\u001B[0m         \"\"\"\n\u001B[0;32m--> 766\u001B[0;31m         \u001B[0;32mreturn\u001B[0m \u001B[0msuper\u001B[0m\u001B[0;34m(\u001B[0m\u001B[0;34m)\u001B[0m\u001B[0;34m.\u001B[0m\u001B[0mfit\u001B[0m\u001B[0;34m(\u001B[0m\u001B[0mX\u001B[0m\u001B[0;34m,\u001B[0m \u001B[0my\u001B[0m\u001B[0;34m,\u001B[0m \u001B[0msample_weight\u001B[0m\u001B[0;34m=\u001B[0m\u001B[0msample_weight\u001B[0m\u001B[0;34m)\u001B[0m\u001B[0;34m\u001B[0m\u001B[0;34m\u001B[0m\u001B[0m\n\u001B[0m\u001B[1;32m    767\u001B[0m \u001B[0;34m\u001B[0m\u001B[0m\n\u001B[1;32m    768\u001B[0m \u001B[0;34m\u001B[0m\u001B[0m\n",
      "\u001B[0;32m/usr/local/lib/python3.7/dist-packages/sklearn/linear_model/_ridge.py\u001B[0m in \u001B[0;36mfit\u001B[0;34m(self, X, y, sample_weight)\u001B[0m\n\u001B[1;32m    597\u001B[0m                 \u001B[0mmax_iter\u001B[0m\u001B[0;34m=\u001B[0m\u001B[0mself\u001B[0m\u001B[0;34m.\u001B[0m\u001B[0mmax_iter\u001B[0m\u001B[0;34m,\u001B[0m \u001B[0mtol\u001B[0m\u001B[0;34m=\u001B[0m\u001B[0mself\u001B[0m\u001B[0;34m.\u001B[0m\u001B[0mtol\u001B[0m\u001B[0;34m,\u001B[0m \u001B[0msolver\u001B[0m\u001B[0;34m=\u001B[0m\u001B[0msolver\u001B[0m\u001B[0;34m,\u001B[0m\u001B[0;34m\u001B[0m\u001B[0;34m\u001B[0m\u001B[0m\n\u001B[1;32m    598\u001B[0m                 \u001B[0mrandom_state\u001B[0m\u001B[0;34m=\u001B[0m\u001B[0mself\u001B[0m\u001B[0;34m.\u001B[0m\u001B[0mrandom_state\u001B[0m\u001B[0;34m,\u001B[0m \u001B[0mreturn_n_iter\u001B[0m\u001B[0;34m=\u001B[0m\u001B[0;32mTrue\u001B[0m\u001B[0;34m,\u001B[0m\u001B[0;34m\u001B[0m\u001B[0;34m\u001B[0m\u001B[0m\n\u001B[0;32m--> 599\u001B[0;31m                 return_intercept=False, check_input=False, **params)\n\u001B[0m\u001B[1;32m    600\u001B[0m             \u001B[0mself\u001B[0m\u001B[0;34m.\u001B[0m\u001B[0m_set_intercept\u001B[0m\u001B[0;34m(\u001B[0m\u001B[0mX_offset\u001B[0m\u001B[0;34m,\u001B[0m \u001B[0my_offset\u001B[0m\u001B[0;34m,\u001B[0m \u001B[0mX_scale\u001B[0m\u001B[0;34m)\u001B[0m\u001B[0;34m\u001B[0m\u001B[0;34m\u001B[0m\u001B[0m\n\u001B[1;32m    601\u001B[0m \u001B[0;34m\u001B[0m\u001B[0m\n",
      "\u001B[0;32m/usr/local/lib/python3.7/dist-packages/sklearn/linear_model/_ridge.py\u001B[0m in \u001B[0;36m_ridge_regression\u001B[0;34m(X, y, alpha, sample_weight, solver, max_iter, tol, verbose, random_state, return_n_iter, return_intercept, X_scale, X_offset, check_input)\u001B[0m\n\u001B[1;32m    471\u001B[0m         \u001B[0;32melse\u001B[0m\u001B[0;34m:\u001B[0m\u001B[0;34m\u001B[0m\u001B[0;34m\u001B[0m\u001B[0m\n\u001B[1;32m    472\u001B[0m             \u001B[0;32mtry\u001B[0m\u001B[0;34m:\u001B[0m\u001B[0;34m\u001B[0m\u001B[0;34m\u001B[0m\u001B[0m\n\u001B[0;32m--> 473\u001B[0;31m                 \u001B[0mcoef\u001B[0m \u001B[0;34m=\u001B[0m \u001B[0m_solve_cholesky\u001B[0m\u001B[0;34m(\u001B[0m\u001B[0mX\u001B[0m\u001B[0;34m,\u001B[0m \u001B[0my\u001B[0m\u001B[0;34m,\u001B[0m \u001B[0malpha\u001B[0m\u001B[0;34m)\u001B[0m\u001B[0;34m\u001B[0m\u001B[0;34m\u001B[0m\u001B[0m\n\u001B[0m\u001B[1;32m    474\u001B[0m             \u001B[0;32mexcept\u001B[0m \u001B[0mlinalg\u001B[0m\u001B[0;34m.\u001B[0m\u001B[0mLinAlgError\u001B[0m\u001B[0;34m:\u001B[0m\u001B[0;34m\u001B[0m\u001B[0;34m\u001B[0m\u001B[0m\n\u001B[1;32m    475\u001B[0m                 \u001B[0;31m# use SVD solver if matrix is singular\u001B[0m\u001B[0;34m\u001B[0m\u001B[0;34m\u001B[0m\u001B[0;34m\u001B[0m\u001B[0m\n",
      "\u001B[0;32m/usr/local/lib/python3.7/dist-packages/sklearn/linear_model/_ridge.py\u001B[0m in \u001B[0;36m_solve_cholesky\u001B[0;34m(X, y, alpha)\u001B[0m\n\u001B[1;32m    138\u001B[0m     \u001B[0mn_targets\u001B[0m \u001B[0;34m=\u001B[0m \u001B[0my\u001B[0m\u001B[0;34m.\u001B[0m\u001B[0mshape\u001B[0m\u001B[0;34m[\u001B[0m\u001B[0;36m1\u001B[0m\u001B[0;34m]\u001B[0m\u001B[0;34m\u001B[0m\u001B[0;34m\u001B[0m\u001B[0m\n\u001B[1;32m    139\u001B[0m \u001B[0;34m\u001B[0m\u001B[0m\n\u001B[0;32m--> 140\u001B[0;31m     \u001B[0mA\u001B[0m \u001B[0;34m=\u001B[0m \u001B[0msafe_sparse_dot\u001B[0m\u001B[0;34m(\u001B[0m\u001B[0mX\u001B[0m\u001B[0;34m.\u001B[0m\u001B[0mT\u001B[0m\u001B[0;34m,\u001B[0m \u001B[0mX\u001B[0m\u001B[0;34m,\u001B[0m \u001B[0mdense_output\u001B[0m\u001B[0;34m=\u001B[0m\u001B[0;32mTrue\u001B[0m\u001B[0;34m)\u001B[0m\u001B[0;34m\u001B[0m\u001B[0;34m\u001B[0m\u001B[0m\n\u001B[0m\u001B[1;32m    141\u001B[0m     \u001B[0mXy\u001B[0m \u001B[0;34m=\u001B[0m \u001B[0msafe_sparse_dot\u001B[0m\u001B[0;34m(\u001B[0m\u001B[0mX\u001B[0m\u001B[0;34m.\u001B[0m\u001B[0mT\u001B[0m\u001B[0;34m,\u001B[0m \u001B[0my\u001B[0m\u001B[0;34m,\u001B[0m \u001B[0mdense_output\u001B[0m\u001B[0;34m=\u001B[0m\u001B[0;32mTrue\u001B[0m\u001B[0;34m)\u001B[0m\u001B[0;34m\u001B[0m\u001B[0;34m\u001B[0m\u001B[0m\n\u001B[1;32m    142\u001B[0m \u001B[0;34m\u001B[0m\u001B[0m\n",
      "\u001B[0;32m/usr/local/lib/python3.7/dist-packages/sklearn/utils/extmath.py\u001B[0m in \u001B[0;36msafe_sparse_dot\u001B[0;34m(a, b, dense_output)\u001B[0m\n\u001B[1;32m    149\u001B[0m             \u001B[0mret\u001B[0m \u001B[0;34m=\u001B[0m \u001B[0mnp\u001B[0m\u001B[0;34m.\u001B[0m\u001B[0mdot\u001B[0m\u001B[0;34m(\u001B[0m\u001B[0ma\u001B[0m\u001B[0;34m,\u001B[0m \u001B[0mb\u001B[0m\u001B[0;34m)\u001B[0m\u001B[0;34m\u001B[0m\u001B[0;34m\u001B[0m\u001B[0m\n\u001B[1;32m    150\u001B[0m     \u001B[0;32melse\u001B[0m\u001B[0;34m:\u001B[0m\u001B[0;34m\u001B[0m\u001B[0;34m\u001B[0m\u001B[0m\n\u001B[0;32m--> 151\u001B[0;31m         \u001B[0mret\u001B[0m \u001B[0;34m=\u001B[0m \u001B[0ma\u001B[0m \u001B[0;34m@\u001B[0m \u001B[0mb\u001B[0m\u001B[0;34m\u001B[0m\u001B[0;34m\u001B[0m\u001B[0m\n\u001B[0m\u001B[1;32m    152\u001B[0m \u001B[0;34m\u001B[0m\u001B[0m\n\u001B[1;32m    153\u001B[0m     if (sparse.issparse(a) and sparse.issparse(b)\n",
      "\u001B[0;31mKeyboardInterrupt\u001B[0m: "
     ]
    }
   ]
  },
  {
   "cell_type": "code",
   "metadata": {
    "scrolled": true,
    "id": "P8evO5lxl9fi"
   },
   "source": [
    "model_name = 'msnl_hist'\n",
    "ridge_ooc_wrapper(model_name=model_name, img_hists=standardized_image_hists)"
   ],
   "execution_count": null,
   "outputs": []
  },
  {
   "cell_type": "code",
   "metadata": {
    "scrolled": true,
    "id": "8j0nLjUnl9fj"
   },
   "source": [
    "model_name = 'nl_hist'\n",
    "ridge_ooc_wrapper(model_name=model_name, img_hists=standardized_image_hists[:, -2:, :])"
   ],
   "execution_count": null,
   "outputs": []
  },
  {
   "cell_type": "markdown",
   "metadata": {
    "id": "x0txjJZ_l9fm"
   },
   "source": [
    "## Incountry"
   ]
  },
  {
   "cell_type": "code",
   "metadata": {
    "id": "vtAt7sEJl9fn"
   },
   "source": [
    "def ridge_incountry_wrapper(img_hists, model_name):\n",
    "    '''\n",
    "\n",
    "    Args:\n",
    "        - img_hists: np.array, shape [N, C, nbins], type int64\n",
    "        - model_name: str, Name of the model (For print)\n",
    "\n",
    "    '''\n",
    "    print(model_name)\n",
    "    ridge_cv(\n",
    "        features=img_hists.reshape(num_examples, -1), labels=labels,\n",
    "        group_labels=incountry_group_labels, group_names=FOLDS,\n",
    "        savedir=os.path.join(LOGS_ROOT_DIR, 'dhs_ridge', model_name))\n",
    "    print(f'== {model_name} urban ==')\n",
    "    ridge_cv(\n",
    "        features=img_hists.reshape(num_examples, -1), labels=labels,\n",
    "        group_labels=incountry_group_labels, group_names=FOLDS,\n",
    "        savedir=os.path.join(LOGS_ROOT_DIR, 'dhs_ridge', model_name),\n",
    "        subset_indices=urban_indices, subset_name='urban')\n",
    "    print(f'== {model_name} rural ==')\n",
    "    ridge_cv(\n",
    "        features=img_hists.reshape(num_examples, -1), labels=labels,\n",
    "        group_labels=incountry_group_labels, group_names=FOLDS,\n",
    "        savedir=os.path.join(LOGS_ROOT_DIR, 'dhs_ridge', model_name),\n",
    "        subset_indices=rural_indices, subset_name='rural')"
   ],
   "execution_count": null,
   "outputs": []
  },
  {
   "cell_type": "code",
   "metadata": {
    "scrolled": true,
    "id": "3dTxkZMvl9fn",
    "colab": {
     "base_uri": "https://localhost:8080/"
    },
    "outputId": "fada76a1-5839-4bf9-da27-b86bb20d923c"
   },
   "source": [
    "model_name = 'incountry_nlcenter_scalar'\n",
    "ridge_incountry_wrapper(model_name=model_name, img_hists=standardized_nls_center)"
   ],
   "execution_count": null,
   "outputs": [
    {
     "output_type": "stream",
     "text": [
      "incountry_nlcenter_scalar\n",
      "Group: A\n",
      "best val mse: 0.497, best alpha: 8192.0, test mse: 0.503\n",
      "Group: B\n",
      "best val mse: 0.440, best alpha: 1024.0, test mse: 0.661\n",
      "Group: C\n",
      "best val mse: 0.504, best alpha: 8192.0, test mse: 0.476\n",
      "Group: D\n",
      "best val mse: 0.503, best alpha: 8192.0, test mse: 0.487\n",
      "Group: E\n",
      "best val mse: 0.502, best alpha: 8192.0, test mse: 0.495\n",
      "saving test preds to: ../logs/dhs_ridge/incountry_nlcenter_scalar/test_preds.npz\n",
      "== incountry_nlcenter_scalar urban ==\n",
      "Group: A\n",
      "best val mse: 0.385, best alpha: 1024.0, test mse: 0.448\n",
      "Group: B\n",
      "best val mse: 0.379, best alpha: 1024.0, test mse: 0.466\n",
      "Group: C\n",
      "best val mse: 0.411, best alpha: 8192.0, test mse: 0.356\n",
      "Group: D\n",
      "best val mse: 0.402, best alpha: 8192.0, test mse: 0.395\n",
      "Group: E\n",
      "best val mse: 0.406, best alpha: 8192.0, test mse: 0.392\n",
      "saving test preds to: ../logs/dhs_ridge/incountry_nlcenter_scalar/test_preds_urban.npz\n",
      "== incountry_nlcenter_scalar rural ==\n",
      "Group: A\n",
      "best val mse: 0.214, best alpha: 16.0, test mse: 0.195\n",
      "Group: B\n",
      "best val mse: 0.220, best alpha: 16.0, test mse: 0.172\n",
      "Group: C\n",
      "best val mse: 0.199, best alpha: 16.0, test mse: 0.251\n",
      "Group: D\n",
      "best val mse: 0.208, best alpha: 16.0, test mse: 0.214\n",
      "Group: E\n",
      "best val mse: 0.210, best alpha: 16.0, test mse: 0.218\n",
      "saving test preds to: ../logs/dhs_ridge/incountry_nlcenter_scalar/test_preds_rural.npz\n"
     ],
     "name": "stdout"
    }
   ]
  },
  {
   "cell_type": "code",
   "metadata": {
    "scrolled": true,
    "id": "KEpXzhFNl9fp",
    "outputId": "c9952821-357b-4e19-de43-d848de084814"
   },
   "source": [
    "model_name = 'incountry_nlmean_scalar'\n",
    "ridge_incountry_wrapper(model_name=model_name, img_hists=standardized_nls_mean)"
   ],
   "execution_count": null,
   "outputs": [
    {
     "output_type": "stream",
     "text": [
      "incountry_nlmean_scalar\n",
      "Fold: A\n",
      "best val mse: 0.503, best alpha: 1024.0, test mse: 0.478\n",
      "Fold: B\n",
      "best val mse: 0.436, best alpha: 128.0, test mse: 0.748\n",
      "Fold: C\n",
      "best val mse: 0.520, best alpha: 8192.0, test mse: 0.493\n",
      "Fold: D\n",
      "best val mse: 0.516, best alpha: 1024.0, test mse: 0.459\n",
      "Fold: E\n",
      "best val mse: 0.512, best alpha: 1024.0, test mse: 0.449\n",
      "saving test preds to: ../logs/dhs_ridge/incountry_nlmean_scalar/test_preds.npz\n",
      "== incountry_nlmean_scalar urban ==\n",
      "Fold: A\n",
      "best val mse: 0.384, best alpha: 1024.0, test mse: 0.448\n",
      "Fold: B\n",
      "best val mse: 0.376, best alpha: 128.0, test mse: 0.537\n",
      "Fold: C\n",
      "best val mse: 0.410, best alpha: 1024.0, test mse: 0.353\n",
      "Fold: D\n",
      "best val mse: 0.405, best alpha: 1024.0, test mse: 0.382\n",
      "Fold: E\n",
      "best val mse: 0.409, best alpha: 1024.0, test mse: 0.364\n",
      "saving test preds to: ../logs/dhs_ridge/incountry_nlmean_scalar/test_preds_urban.npz\n",
      "== incountry_nlmean_scalar rural ==\n",
      "Fold: A\n",
      "best val mse: 0.219, best alpha: 128.0, test mse: 0.197\n",
      "Fold: B\n",
      "best val mse: 0.223, best alpha: 128.0, test mse: 0.178\n",
      "Fold: C\n",
      "best val mse: 0.201, best alpha: 16.0, test mse: 0.257\n",
      "Fold: D\n",
      "best val mse: 0.216, best alpha: 128.0, test mse: 0.204\n",
      "Fold: E\n",
      "best val mse: 0.211, best alpha: 128.0, test mse: 0.226\n",
      "saving test preds to: ../logs/dhs_ridge/incountry_nlmean_scalar/test_preds_rural.npz\n"
     ],
     "name": "stdout"
    }
   ]
  },
  {
   "cell_type": "code",
   "metadata": {
    "scrolled": true,
    "id": "RTc1Mn5ol9fq",
    "outputId": "05d9cd56-0176-4f98-cd07-19b944cd26af"
   },
   "source": [
    "model_name = 'incountry_rgb_hist'\n",
    "ridge_incountry_wrapper(model_name=model_name, img_hists=standardized_image_hists[:, :3, :])"
   ],
   "execution_count": null,
   "outputs": [
    {
     "output_type": "stream",
     "text": [
      "incountry_rgb_hist\n",
      "Fold: A\n",
      "best val mse: 0.522, best alpha: 1024.0, test mse: 0.561\n",
      "Fold: B\n",
      "best val mse: 0.533, best alpha: 1024.0, test mse: 0.531\n",
      "Fold: C\n",
      "best val mse: 0.544, best alpha: 1024.0, test mse: 0.504\n",
      "Fold: D\n",
      "best val mse: 0.527, best alpha: 1024.0, test mse: 0.544\n",
      "Fold: E\n",
      "best val mse: 0.539, best alpha: 1024.0, test mse: 0.507\n",
      "saving test preds to: ../logs/dhs_ridge/incountry_rgb_hist/test_preds.npz\n",
      "== incountry_rgb_hist urban ==\n",
      "Fold: A\n",
      "best val mse: 0.391, best alpha: 8192.0, test mse: 0.469\n",
      "Fold: B\n",
      "best val mse: 0.397, best alpha: 8192.0, test mse: 0.434\n",
      "Fold: C\n",
      "best val mse: 0.416, best alpha: 8192.0, test mse: 0.373\n",
      "Fold: D\n",
      "best val mse: 0.398, best alpha: 1024.0, test mse: 0.428\n",
      "Fold: E\n",
      "best val mse: 0.421, best alpha: 8192.0, test mse: 0.353\n",
      "saving test preds to: ../logs/dhs_ridge/incountry_rgb_hist/test_preds_urban.npz\n",
      "== incountry_rgb_hist rural ==\n",
      "Fold: A\n",
      "best val mse: 0.235, best alpha: 1024.0, test mse: 0.217\n",
      "Fold: B\n",
      "best val mse: 0.242, best alpha: 1024.0, test mse: 0.193\n",
      "Fold: C\n",
      "best val mse: 0.217, best alpha: 1024.0, test mse: 0.281\n",
      "Fold: D\n",
      "best val mse: 0.234, best alpha: 1024.0, test mse: 0.214\n",
      "Fold: E\n",
      "best val mse: 0.229, best alpha: 8192.0, test mse: 0.249\n",
      "saving test preds to: ../logs/dhs_ridge/incountry_rgb_hist/test_preds_rural.npz\n"
     ],
     "name": "stdout"
    }
   ]
  },
  {
   "cell_type": "code",
   "metadata": {
    "scrolled": true,
    "id": "7N-oQf-yl9fs",
    "outputId": "6fa7ddeb-ae6f-4554-8d7c-928b0b29e995"
   },
   "source": [
    "model_name = 'incountry_rgbnl_hist'\n",
    "bands = [0, 1, 2, -2, -1]\n",
    "ridge_incountry_wrapper(model_name=model_name, img_hists=standardized_image_hists[:, bands, :])"
   ],
   "execution_count": null,
   "outputs": [
    {
     "output_type": "stream",
     "text": [
      "incountry_rgbnl_hist\n",
      "Fold: A\n",
      "best val mse: 0.222, best alpha: 1024.0, test mse: 0.222\n",
      "Fold: B\n",
      "best val mse: 0.222, best alpha: 1024.0, test mse: 0.236\n",
      "Fold: C\n",
      "best val mse: 0.230, best alpha: 1024.0, test mse: 0.211\n",
      "Fold: D\n",
      "best val mse: 0.222, best alpha: 1024.0, test mse: 0.222\n",
      "Fold: E\n",
      "best val mse: 0.224, best alpha: 1024.0, test mse: 0.213\n",
      "saving test preds to: ../logs/dhs_ridge/incountry_rgbnl_hist/test_preds.npz\n",
      "== incountry_rgbnl_hist urban ==\n",
      "Fold: A\n",
      "best val mse: 0.283, best alpha: 1024.0, test mse: 0.309\n",
      "Fold: B\n",
      "best val mse: 0.283, best alpha: 1024.0, test mse: 0.323\n",
      "Fold: C\n",
      "best val mse: 0.307, best alpha: 1024.0, test mse: 0.245\n",
      "Fold: D\n",
      "best val mse: 0.280, best alpha: 1024.0, test mse: 0.311\n",
      "Fold: E\n",
      "best val mse: 0.299, best alpha: 1024.0, test mse: 0.246\n",
      "saving test preds to: ../logs/dhs_ridge/incountry_rgbnl_hist/test_preds_urban.npz\n",
      "== incountry_rgbnl_hist rural ==\n",
      "Fold: A\n",
      "best val mse: 0.157, best alpha: 1024.0, test mse: 0.154\n",
      "Fold: B\n",
      "best val mse: 0.161, best alpha: 1024.0, test mse: 0.140\n",
      "Fold: C\n",
      "best val mse: 0.148, best alpha: 1024.0, test mse: 0.182\n",
      "Fold: D\n",
      "best val mse: 0.159, best alpha: 1024.0, test mse: 0.144\n",
      "Fold: E\n",
      "best val mse: 0.157, best alpha: 1024.0, test mse: 0.155\n",
      "saving test preds to: ../logs/dhs_ridge/incountry_rgbnl_hist/test_preds_rural.npz\n"
     ],
     "name": "stdout"
    }
   ]
  },
  {
   "cell_type": "code",
   "metadata": {
    "scrolled": true,
    "id": "gSn1-7Dzl9ft",
    "outputId": "fc4ce8db-fb26-4b91-f589-bac0269c31f8"
   },
   "source": [
    "model_name = 'incountry_ms_hist'\n",
    "ridge_incountry_wrapper(model_name=model_name, img_hists=standardized_image_hists[:, :7, :])"
   ],
   "execution_count": null,
   "outputs": [
    {
     "output_type": "stream",
     "text": [
      "incountry_ms_hist\n",
      "Fold: A\n",
      "best val mse: 0.400, best alpha: 1024.0, test mse: 0.491\n",
      "Fold: B\n",
      "best val mse: 0.438, best alpha: 1024.0, test mse: 0.394\n",
      "Fold: C\n",
      "best val mse: 0.426, best alpha: 1024.0, test mse: 0.399\n",
      "Fold: D\n",
      "best val mse: 0.423, best alpha: 1024.0, test mse: 0.422\n",
      "Fold: E\n",
      "best val mse: 0.433, best alpha: 1024.0, test mse: 0.382\n",
      "saving test preds to: ../logs/dhs_ridge/incountry_ms_hist/test_preds.npz\n",
      "== incountry_ms_hist urban ==\n",
      "Fold: A\n",
      "best val mse: 0.353, best alpha: 1024.0, test mse: 0.428\n",
      "Fold: B\n",
      "best val mse: 0.369, best alpha: 8192.0, test mse: 0.371\n",
      "Fold: C\n",
      "best val mse: 0.375, best alpha: 8192.0, test mse: 0.345\n",
      "Fold: D\n",
      "best val mse: 0.361, best alpha: 1024.0, test mse: 0.388\n",
      "Fold: E\n",
      "best val mse: 0.383, best alpha: 8192.0, test mse: 0.319\n",
      "saving test preds to: ../logs/dhs_ridge/incountry_ms_hist/test_preds_urban.npz\n",
      "== incountry_ms_hist rural ==\n",
      "Fold: A\n",
      "best val mse: 0.222, best alpha: 8192.0, test mse: 0.210\n",
      "Fold: B\n",
      "best val mse: 0.232, best alpha: 8192.0, test mse: 0.178\n",
      "Fold: C\n",
      "best val mse: 0.198, best alpha: 1024.0, test mse: 0.289\n",
      "Fold: D\n",
      "best val mse: 0.225, best alpha: 8192.0, test mse: 0.198\n",
      "Fold: E\n",
      "best val mse: 0.219, best alpha: 8192.0, test mse: 0.226\n",
      "saving test preds to: ../logs/dhs_ridge/incountry_ms_hist/test_preds_rural.npz\n"
     ],
     "name": "stdout"
    }
   ]
  },
  {
   "cell_type": "code",
   "metadata": {
    "scrolled": true,
    "id": "40Q_4EICl9fu",
    "outputId": "14e1920e-3da1-4c2d-8f0c-194897afb7d8"
   },
   "source": [
    "model_name = 'incountry_msnl_hist'\n",
    "ridge_incountry_wrapper(model_name=model_name, img_hists=standardized_image_hists)"
   ],
   "execution_count": null,
   "outputs": [
    {
     "output_type": "stream",
     "text": [
      "incountry_msnl_hist\n",
      "Fold: A\n",
      "best val mse: 0.220, best alpha: 1024.0, test mse: 0.235\n",
      "Fold: B\n",
      "best val mse: 0.227, best alpha: 1024.0, test mse: 0.232\n",
      "Fold: C\n",
      "best val mse: 0.231, best alpha: 1024.0, test mse: 0.216\n",
      "Fold: D\n",
      "best val mse: 0.226, best alpha: 1024.0, test mse: 0.218\n",
      "Fold: E\n",
      "best val mse: 0.227, best alpha: 1024.0, test mse: 0.214\n",
      "saving test preds to: ../logs/dhs_ridge/incountry_msnl_hist/test_preds.npz\n",
      "== incountry_msnl_hist urban ==\n",
      "Fold: A\n",
      "best val mse: 0.285, best alpha: 1024.0, test mse: 0.324\n",
      "Fold: B\n",
      "best val mse: 0.292, best alpha: 1024.0, test mse: 0.330\n",
      "Fold: C\n",
      "best val mse: 0.317, best alpha: 8192.0, test mse: 0.278\n",
      "Fold: D\n",
      "best val mse: 0.290, best alpha: 1024.0, test mse: 0.313\n",
      "Fold: E\n",
      "best val mse: 0.313, best alpha: 1024.0, test mse: 0.249\n",
      "saving test preds to: ../logs/dhs_ridge/incountry_msnl_hist/test_preds_urban.npz\n",
      "== incountry_msnl_hist rural ==\n",
      "Fold: A\n",
      "best val mse: 0.155, best alpha: 1024.0, test mse: 0.160\n",
      "Fold: B\n",
      "best val mse: 0.163, best alpha: 1024.0, test mse: 0.136\n",
      "Fold: C\n",
      "best val mse: 0.141, best alpha: 1024.0, test mse: 0.193\n",
      "Fold: D\n",
      "best val mse: 0.160, best alpha: 1024.0, test mse: 0.136\n",
      "Fold: E\n",
      "best val mse: 0.158, best alpha: 1024.0, test mse: 0.149\n",
      "saving test preds to: ../logs/dhs_ridge/incountry_msnl_hist/test_preds_rural.npz\n"
     ],
     "name": "stdout"
    }
   ]
  },
  {
   "cell_type": "code",
   "metadata": {
    "scrolled": true,
    "id": "swgCSgp3l9fv",
    "outputId": "4abbdb25-1bc0-404f-fb83-225dc9f4a12e"
   },
   "source": [
    "model_name = 'incountry_nl_hist'\n",
    "ridge_incountry_wrapper(model_name=model_name, img_hists=standardized_image_hists[:, -2:, :])"
   ],
   "execution_count": null,
   "outputs": [
    {
     "output_type": "stream",
     "text": [
      "incountry_nl_hist\n",
      "Fold: A\n",
      "best val mse: 0.227, best alpha: 1024.0, test mse: 0.223\n",
      "Fold: B\n",
      "best val mse: 0.223, best alpha: 1024.0, test mse: 0.245\n",
      "Fold: C\n",
      "best val mse: 0.232, best alpha: 128.0, test mse: 0.215\n",
      "Fold: D\n",
      "best val mse: 0.226, best alpha: 1024.0, test mse: 0.225\n",
      "Fold: E\n",
      "best val mse: 0.226, best alpha: 128.0, test mse: 0.225\n",
      "saving test preds to: ../logs/dhs_ridge/incountry_nl_hist/test_preds.npz\n",
      "== incountry_nl_hist urban ==\n",
      "Fold: A\n",
      "best val mse: 0.286, best alpha: 1024.0, test mse: 0.296\n",
      "Fold: B\n",
      "best val mse: 0.278, best alpha: 1024.0, test mse: 0.328\n",
      "Fold: C\n",
      "best val mse: 0.304, best alpha: 1024.0, test mse: 0.246\n",
      "Fold: D\n",
      "best val mse: 0.278, best alpha: 1024.0, test mse: 0.307\n",
      "Fold: E\n",
      "best val mse: 0.294, best alpha: 1024.0, test mse: 0.251\n",
      "saving test preds to: ../logs/dhs_ridge/incountry_nl_hist/test_preds_urban.npz\n",
      "== incountry_nl_hist rural ==\n",
      "Fold: A\n",
      "best val mse: 0.162, best alpha: 128.0, test mse: 0.160\n",
      "Fold: B\n",
      "best val mse: 0.164, best alpha: 128.0, test mse: 0.149\n",
      "Fold: C\n",
      "best val mse: 0.155, best alpha: 128.0, test mse: 0.183\n",
      "Fold: D\n",
      "best val mse: 0.165, best alpha: 128.0, test mse: 0.148\n",
      "Fold: E\n",
      "best val mse: 0.160, best alpha: 128.0, test mse: 0.165\n",
      "saving test preds to: ../logs/dhs_ridge/incountry_nl_hist/test_preds_rural.npz\n"
     ],
     "name": "stdout"
    }
   ]
  },
  {
   "cell_type": "markdown",
   "metadata": {
    "id": "tSZcex2il9fw"
   },
   "source": [
    "# KNN on Histograms\n",
    "\n",
    "\n",
    "knn_cv_opt performs as follows:\n",
    "```\n",
    "Similar to knn_cv(), but pre-computes a distance matrix to use for all folds.\n",
    "\n",
    "    For every fold F (the test fold):\n",
    "      1. uses leave-one-fold-out CV on all other folds\n",
    "         to tune KNN k parameter\n",
    "      2. using best k, trains KNN model on all folds except F\n",
    "      3. runs trained ridge model on F\n",
    "\n",
    "    Saves predictions for each fold on test.\n",
    "        savedir/test_preds_{subset_name}.npz if subset_name is given\n",
    "        savedir/test_preds.npz otherwise\n",
    "```\n",
    "\n"
   ]
  },
  {
   "cell_type": "markdown",
   "metadata": {
    "id": "Tyd3Zx2Ll9fx"
   },
   "source": [
    "## OOC"
   ]
  },
  {
   "cell_type": "code",
   "metadata": {
    "id": "y0-zpWyPl9fx"
   },
   "source": [
    "def knn_ooc_wrapper(img_hists, model_name, years=None):\n",
    "    '''\n",
    "\n",
    "    Args:\n",
    "        - img_hists: np.array, shape [N, C, nbins], type int64\n",
    "        - model_name: str, Name of the model (For print)\n",
    "        - years: np.array, shape [N], type int32, year for each image\n",
    "\n",
    "    '''\n",
    "    savedir = os.path.join(LOGS_ROOT_DIR, 'dhs_knn', model_name)\n",
    "    features = img_hists.reshape(len(img_hists), -1)\n",
    "\n",
    "    print(model_name)\n",
    "    if years is None:\n",
    "        knn_cv_opt(features=features, labels=labels,\n",
    "                   group_labels=country_labels, group_names=COUNTRIES,\n",
    "                   savedir=savedir)\n",
    "    else:  # split DMSP and VIIRS and perform knn_cb_opt for each split\n",
    "        filename = 'test_preds.npz'\n",
    "        npz_path = os.path.join(savedir, filename)\n",
    "        # assert not os.path.exists(npz_path)\n",
    "\n",
    "        dmsp_mask = years < 2012\n",
    "        viirs_mask = ~dmsp_mask\n",
    "        test_preds = np.zeros(len(image_hists), dtype=np.float32)\n",
    "        for mask in [dmsp_mask, viirs_mask]:\n",
    "            test_preds[mask] = knn_cv_opt(\n",
    "                features=features[mask], labels=labels[mask],\n",
    "                group_labels=country_labels[mask], group_names=COUNTRIES)\n",
    "\n",
    "        os.makedirs(savedir, exist_ok=True)\n",
    "        save_dict = {\n",
    "            'labels': labels,\n",
    "            'test_preds': test_preds\n",
    "        }\n",
    "        print('saving test preds to:', npz_path)\n",
    "        np.savez_compressed(npz_path, **save_dict)\n",
    "\n",
    "        evaluate(labels=labels, preds=test_preds, do_print=True,\n",
    "                 title='DMSP and VIIRS test preds')"
   ],
   "execution_count": null,
   "outputs": []
  },
  {
   "cell_type": "code",
   "metadata": {
    "scrolled": true,
    "id": "tdZLNs-Al9fy"
   },
   "source": [
    "model_name = 'nlcenter_scalar'\n",
    "knn_ooc_wrapper(model_name=model_name, img_hists=nls_center, years=years)"
   ],
   "execution_count": null,
   "outputs": []
  },
  {
   "cell_type": "code",
   "metadata": {
    "scrolled": true,
    "id": "fLzVr6l9l9fz"
   },
   "source": [
    "model_name = 'nlmean_scalar'\n",
    "knn_ooc_wrapper(model_name=model_name, img_hists=nls_mean, years=years)"
   ],
   "execution_count": null,
   "outputs": []
  },
  {
   "cell_type": "code",
   "metadata": {
    "scrolled": true,
    "id": "xPZrJnOnl9f1"
   },
   "source": [
    "model_name = 'nl_hist'\n",
    "knn_ooc_wrapper(model_name=model_name, img_hists=image_hists[:, -2:, :], years=years)"
   ],
   "execution_count": null,
   "outputs": []
  },
  {
   "cell_type": "markdown",
   "metadata": {
    "id": "HGZPEpqIl9f2"
   },
   "source": [
    "## Incountry"
   ]
  },
  {
   "cell_type": "code",
   "metadata": {
    "id": "Do8cz4G6l9f3"
   },
   "source": [
    "def knn_incountry_wrapper(img_hists, model_name, years=None):\n",
    "    '''\n",
    "\n",
    "    Args:\n",
    "        - img_hists: np.array, shape [N, C, nbins], type int64\n",
    "        - model_name: str, Name of the model (For print)\n",
    "        - years: np.array, shape [N], type int32, year for each image\n",
    "\n",
    "    '''\n",
    "    savedir = os.path.join(LOGS_ROOT_DIR, 'dhs_knn', model_name)\n",
    "    features = img_hists.reshape(len(img_hists), -1)\n",
    "\n",
    "    print(model_name)\n",
    "    if years is None:\n",
    "        knn_cv_opt(features=features, labels=labels,\n",
    "                   group_labels=incountry_group_labels, group_names=FOLDS,\n",
    "                   savedir=savedir)\n",
    "    else:  # split DMSP and VIIRS\n",
    "        filename = 'test_preds.npz'\n",
    "        npz_path = os.path.join(savedir, filename)\n",
    "        # assert not os.path.exists(npz_path)\n",
    "\n",
    "        dmsp_mask = years < 2012\n",
    "        viirs_mask = ~dmsp_mask\n",
    "        test_preds = np.zeros(len(image_hists), dtype=np.float32)\n",
    "        for mask in [dmsp_mask, viirs_mask]:\n",
    "            test_preds[mask] = knn_cv_opt(\n",
    "                features=features[mask], labels=labels[mask],\n",
    "                group_labels=incountry_group_labels[mask], group_names=FOLDS)\n",
    "\n",
    "        os.makedirs(savedir, exist_ok=True)\n",
    "        save_dict = {\n",
    "            'labels': labels,\n",
    "            'test_preds': test_preds\n",
    "        }\n",
    "        print('saving test preds to:', npz_path)\n",
    "        np.savez_compressed(npz_path, **save_dict)\n",
    "\n",
    "        evaluate(labels=labels, preds=test_preds, do_print=True,\n",
    "                 title='DMSP and VIIRS test preds')"
   ],
   "execution_count": null,
   "outputs": []
  },
  {
   "cell_type": "code",
   "metadata": {
    "id": "J4gW8TzOl9f4",
    "outputId": "749c759f-4d54-4d5c-929f-b974286fa1f8"
   },
   "source": [
    "model_name = 'incountry_nlcenter_scalar'\n",
    "knn_incountry_wrapper(model_name=model_name, img_hists=nls_center, years=years)"
   ],
   "execution_count": null,
   "outputs": [
    {
     "output_type": "stream",
     "text": [
      "incountry_nlcenter_scalar\n",
      "Pre-computing distance matrix... took 0.51 seconds.\n",
      "Group: A\n",
      "best val mse: 0.214, best k: 256, test mse: 0.196\n",
      "Group: B\n",
      "best val mse: 0.205, best k: 256, test mse: 0.225\n",
      "Group: C\n",
      "best val mse: 0.210, best k: 128, test mse: 0.209\n",
      "Group: D\n",
      "best val mse: 0.211, best k: 256, test mse: 0.201\n",
      "Group: E\n",
      "best val mse: 0.206, best k: 128, test mse: 0.211\n",
      "Pooled test preds\t- r^2: 0.660, R^2: 0.658, mse: 0.208, rank: 0.594\n",
      "Pre-computing distance matrix... took 1.38 seconds.\n",
      "Group: A\n",
      "best val mse: 0.224, best k: 256, test mse: 0.248\n",
      "Group: B\n",
      "best val mse: 0.227, best k: 512, test mse: 0.233\n",
      "Group: C\n",
      "best val mse: 0.229, best k: 256, test mse: 0.224\n",
      "Group: D\n",
      "best val mse: 0.227, best k: 256, test mse: 0.232\n",
      "Group: E\n",
      "best val mse: 0.234, best k: 256, test mse: 0.206\n",
      "Pooled test preds\t- r^2: 0.650, R^2: 0.650, mse: 0.228, rank: 0.736\n",
      "saving test preds to: ../logs/dhs_knn/incountry_nlcenter_scalar/test_preds.npz\n",
      "DMSP and VIIRS test preds\t- r^2: 0.662, R^2: 0.662, mse: 0.221, rank: 0.739\n"
     ],
     "name": "stdout"
    }
   ]
  },
  {
   "cell_type": "code",
   "metadata": {
    "id": "y5pSXipLl9f6",
    "outputId": "2d72aab9-f0b9-4857-997f-3314d1afb903"
   },
   "source": [
    "model_name = 'incountry_nlmean_scalar'\n",
    "knn_incountry_wrapper(model_name=model_name, img_hists=nls_mean, years=years)"
   ],
   "execution_count": null,
   "outputs": [
    {
     "output_type": "stream",
     "text": [
      "incountry_nlmean_scalar\n",
      "Pre-computing distance matrix... took 0.52 seconds.\n",
      "Group: A\n",
      "best val mse: 0.203, best k: 128, test mse: 0.187\n",
      "Group: B\n",
      "best val mse: 0.192, best k: 128, test mse: 0.227\n",
      "Group: C\n",
      "best val mse: 0.206, best k: 256, test mse: 0.195\n",
      "Group: D\n",
      "best val mse: 0.204, best k: 256, test mse: 0.197\n",
      "Group: E\n",
      "best val mse: 0.200, best k: 128, test mse: 0.196\n",
      "Pooled test preds\t- r^2: 0.671, R^2: 0.670, mse: 0.201, rank: 0.666\n",
      "Pre-computing distance matrix... took 1.37 seconds.\n",
      "Group: A\n",
      "best val mse: 0.225, best k: 256, test mse: 0.249\n",
      "Group: B\n",
      "best val mse: 0.227, best k: 512, test mse: 0.237\n",
      "Group: C\n",
      "best val mse: 0.230, best k: 512, test mse: 0.221\n",
      "Group: D\n",
      "best val mse: 0.228, best k: 512, test mse: 0.234\n",
      "Group: E\n",
      "best val mse: 0.235, best k: 256, test mse: 0.209\n",
      "Pooled test preds\t- r^2: 0.648, R^2: 0.648, mse: 0.229, rank: 0.749\n",
      "saving test preds to: ../logs/dhs_knn/incountry_nlmean_scalar/test_preds.npz\n",
      "DMSP and VIIRS test preds\t- r^2: 0.665, R^2: 0.665, mse: 0.219, rank: 0.759\n"
     ],
     "name": "stdout"
    }
   ]
  },
  {
   "cell_type": "code",
   "metadata": {
    "id": "8grltP0Al9f7",
    "outputId": "9e69189d-ea99-4788-9c75-1536e9a39aaa"
   },
   "source": [
    "model_name = 'incountry_nl_hist'\n",
    "knn_incountry_wrapper(model_name=model_name, img_hists=image_hists[:, -2:, :], years=years)"
   ],
   "execution_count": null,
   "outputs": [
    {
     "output_type": "stream",
     "text": [
      "incountry_nl_hist\n",
      "Pre-computing distance matrix... took 3.44 seconds.\n",
      "Group: A\n",
      "best val mse: 0.201, best k: 128, test mse: 0.185\n",
      "Group: B\n",
      "best val mse: 0.191, best k: 128, test mse: 0.220\n",
      "Group: C\n",
      "best val mse: 0.207, best k: 64, test mse: 0.185\n",
      "Group: D\n",
      "best val mse: 0.203, best k: 64, test mse: 0.190\n",
      "Group: E\n",
      "best val mse: 0.197, best k: 64, test mse: 0.202\n",
      "Pooled test preds\t- r^2: 0.679, R^2: 0.678, mse: 0.196, rank: 0.673\n",
      "Pre-computing distance matrix... took 12.46 seconds.\n",
      "Group: A\n",
      "best val mse: 0.216, best k: 512, test mse: 0.239\n",
      "Group: B\n",
      "best val mse: 0.219, best k: 128, test mse: 0.229\n",
      "Group: C\n",
      "best val mse: 0.219, best k: 128, test mse: 0.207\n",
      "Group: D\n",
      "best val mse: 0.218, best k: 256, test mse: 0.226\n",
      "Group: E\n",
      "best val mse: 0.222, best k: 256, test mse: 0.204\n",
      "Pooled test preds\t- r^2: 0.662, R^2: 0.661, mse: 0.220, rank: 0.756\n",
      "saving test preds to: ../logs/dhs_knn/incountry_nl_hist/test_preds.npz\n",
      "DMSP and VIIRS test preds\t- r^2: 0.676, R^2: 0.676, mse: 0.212, rank: 0.764\n"
     ],
     "name": "stdout"
    }
   ]
  }
 ]
}