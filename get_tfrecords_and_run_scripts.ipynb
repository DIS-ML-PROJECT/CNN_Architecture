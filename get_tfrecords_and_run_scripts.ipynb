{
 "cells": [
  {
   "cell_type": "markdown",
   "metadata": {
    "id": "f87B8Z_MQyPW"
   },
   "source": [
    "# Clone Repo"
   ]
  },
  {
   "cell_type": "code",
   "execution_count": 3,
   "metadata": {
    "colab": {
     "base_uri": "https://localhost:8080/"
    },
    "id": "aI8jzlwgzcPA",
    "outputId": "23a691a8-ca2c-403d-dc12-cdb8bf66247c"
   },
   "outputs": [
    {
     "name": "stdout",
     "output_type": "stream",
     "text": [
      "Cloning into 'CNN_Architecture'...\n",
      "remote: Enumerating objects: 618, done.\u001b[K\n",
      "remote: Counting objects: 100% (618/618), done.\u001b[K\n",
      "remote: Compressing objects: 100% (469/469), done.\u001b[K\n",
      "remote: Total 618 (delta 275), reused 412 (delta 131), pack-reused 0\u001b[K\n",
      "Receiving objects: 100% (618/618), 21.54 MiB | 16.67 MiB/s, done.\n",
      "Resolving deltas: 100% (275/275), done.\n"
     ]
    }
   ],
   "source": [
    "! git clone https://@github.com/DIS-ML-PROJECT/CNN_Architecture.git\n",
    "#! git clone https://github.com/sustainlab-group/africa_poverty.git"
   ]
  },
  {
   "cell_type": "markdown",
   "metadata": {
    "id": "aVbFWpwMRDRv"
   },
   "source": [
    "# Check versions "
   ]
  },
  {
   "cell_type": "markdown",
   "metadata": {
    "id": "iZqxNCapQ9Af"
   },
   "source": [
    "## Select correct version for tensorflow"
   ]
  },
  {
   "cell_type": "code",
   "execution_count": 2,
   "metadata": {
    "colab": {
     "base_uri": "https://localhost:8080/"
    },
    "id": "f8JO3GnXz9-s",
    "outputId": "00feca5e-8018-443b-f15f-48d4867ee45a"
   },
   "outputs": [
    {
     "name": "stdout",
     "output_type": "stream",
     "text": [
      "TensorFlow 1.x selected.\n"
     ]
    }
   ],
   "source": [
    "%tensorflow_version 1.x"
   ]
  },
  {
   "cell_type": "markdown",
   "metadata": {
    "id": "w5w_FZ0IRYnm"
   },
   "source": [
    "## Check OS ( should be Ubutunu 18.04.x )"
   ]
  },
  {
   "cell_type": "code",
   "execution_count": 17,
   "metadata": {
    "colab": {
     "base_uri": "https://localhost:8080/"
    },
    "id": "2xzsgy80laAG",
    "outputId": "1864bd28-f5a5-4a73-8c8d-21afe5c83742"
   },
   "outputs": [
    {
     "name": "stdout",
     "output_type": "stream",
     "text": [
      "No LSB modules are available.\n",
      "Distributor ID:\tUbuntu\n",
      "Description:\tUbuntu 18.04.5 LTS\n",
      "Release:\t18.04\n",
      "Codename:\tbionic\n"
     ]
    }
   ],
   "source": [
    "! lsb_release -a"
   ]
  },
  {
   "cell_type": "markdown",
   "metadata": {
    "id": "DKVuY-rjRc76"
   },
   "source": [
    "## Check Python version ( Python3.7.x is required )"
   ]
  },
  {
   "cell_type": "code",
   "execution_count": 21,
   "metadata": {
    "colab": {
     "base_uri": "https://localhost:8080/"
    },
    "id": "oifPs4rtnGtr",
    "outputId": "3c86585c-3d8c-4eee-ed4f-7e57ab7cee0a"
   },
   "outputs": [
    {
     "name": "stdout",
     "output_type": "stream",
     "text": [
      "Python 3.7.10\n"
     ]
    }
   ],
   "source": [
    "! python -V"
   ]
  },
  {
   "cell_type": "markdown",
   "metadata": {
    "id": "9djSHSAjRtK9"
   },
   "source": [
    "## Check library versions"
   ]
  },
  {
   "cell_type": "code",
   "execution_count": 3,
   "metadata": {
    "colab": {
     "base_uri": "https://localhost:8080/"
    },
    "id": "gM54iIbYnSFV",
    "outputId": "5fbed905-7eef-45d1-c7f7-046d9a9ae3f5"
   },
   "outputs": [
    {
     "name": "stdout",
     "output_type": "stream",
     "text": [
      "1.15.2\n"
     ]
    }
   ],
   "source": [
    "import tensorflow\n",
    "print(tensorflow.__version__)"
   ]
  },
  {
   "cell_type": "code",
   "execution_count": 1,
   "metadata": {
    "colab": {
     "base_uri": "https://localhost:8080/",
     "height": 35
    },
    "id": "1AQrgrqjnwMN",
    "outputId": "12aae870-954e-4f4e-b724-b0fbee33c4d8"
   },
   "outputs": [
    {
     "data": {
      "application/vnd.google.colaboratory.intrinsic+json": {
       "type": "string"
      },
      "text/plain": [
       "'1.18.4'"
      ]
     },
     "execution_count": 1,
     "metadata": {
      "tags": []
     },
     "output_type": "execute_result"
    }
   ],
   "source": [
    "import numpy as np\n",
    "np.__version__"
   ]
  },
  {
   "cell_type": "markdown",
   "metadata": {
    "id": "KkHmEc5iRxke"
   },
   "source": [
    "# Get tfrecord files from Sciebo"
   ]
  },
  {
   "cell_type": "markdown",
   "metadata": {
    "id": "-KOJv5AeSFie"
   },
   "source": [
    "## install and prepare pyocclient"
   ]
  },
  {
   "cell_type": "code",
   "execution_count": null,
   "metadata": {
    "colab": {
     "base_uri": "https://localhost:8080/"
    },
    "id": "TS_xSX-NMVay",
    "outputId": "279e481d-8a19-43c3-bf71-96cd26c2ebdb"
   },
   "outputs": [
    {
     "name": "stdout",
     "output_type": "stream",
     "text": [
      "Requirement already satisfied: pyocclient in /usr/local/lib/python3.7/dist-packages (0.6)\n",
      "Requirement already satisfied: six in /usr/local/lib/python3.7/dist-packages (from pyocclient) (1.15.0)\n",
      "Requirement already satisfied: requests>=2.0.1 in /usr/local/lib/python3.7/dist-packages (from pyocclient) (2.23.0)\n",
      "Requirement already satisfied: urllib3!=1.25.0,!=1.25.1,<1.26,>=1.21.1 in /usr/local/lib/python3.7/dist-packages (from requests>=2.0.1->pyocclient) (1.24.3)\n",
      "Requirement already satisfied: certifi>=2017.4.17 in /usr/local/lib/python3.7/dist-packages (from requests>=2.0.1->pyocclient) (2021.5.30)\n",
      "Requirement already satisfied: chardet<4,>=3.0.2 in /usr/local/lib/python3.7/dist-packages (from requests>=2.0.1->pyocclient) (3.0.4)\n",
      "Requirement already satisfied: idna<3,>=2.5 in /usr/local/lib/python3.7/dist-packages (from requests>=2.0.1->pyocclient) (2.10)\n"
     ]
    }
   ],
   "source": [
    "! pip install pyocclient"
   ]
  },
  {
   "cell_type": "code",
   "execution_count": null,
   "metadata": {
    "id": "OJ2R2N80NpSf"
   },
   "outputs": [],
   "source": [
    "import owncloud\n",
    "import os \n",
    "oc = owncloud.Client('https://th-koeln.sciebo.de/')\n",
    "\n",
    "# creditials should be saved to environment variables \n",
    "# but for now they're defined here:\n",
    "\n",
    "user = # add sciebo username\n",
    "pw = # add sciebo password\n",
    "\n",
    "oc.login(user, pw)"
   ]
  },
  {
   "cell_type": "markdown",
   "metadata": {
    "id": "fzFRumViSrN1"
   },
   "source": [
    "## clone tfrecords to colab"
   ]
  },
  {
   "cell_type": "code",
   "execution_count": null,
   "metadata": {
    "id": "O6CCjG3G9MYB"
   },
   "outputs": [],
   "source": [
    "root = '/DIS22/Data_Acquisition/'\n",
    "tfrecords = 'tfrecords/'\n",
    "source_file_path = os.path.join(root + tfrecords)\n",
    "destination_file_path = os.path.join('/content/CNN_Architecture/data',filename)"
   ]
  },
  {
   "cell_type": "markdown",
   "metadata": {
    "id": "Srdcsr76S_mQ"
   },
   "source": [
    "### get a list of all tfrecord files in that directory"
   ]
  },
  {
   "cell_type": "code",
   "execution_count": null,
   "metadata": {
    "id": "Qtg8qvOSQH9a"
   },
   "outputs": [],
   "source": [
    "tfrecord_list = oc.list(source_file_path)"
   ]
  },
  {
   "cell_type": "markdown",
   "metadata": {
    "id": "CSjdLyQJULGO"
   },
   "source": [
    "### create the destination directory"
   ]
  },
  {
   "cell_type": "code",
   "execution_count": null,
   "metadata": {
    "colab": {
     "base_uri": "https://localhost:8080/"
    },
    "id": "HrSNHdqvBmzR",
    "outputId": "2a9cbd92-2613-4f8d-f66b-bb47f49e9369"
   },
   "outputs": [
    {
     "data": {
      "text/plain": [
       "12929"
      ]
     },
     "execution_count": 50,
     "metadata": {
      "tags": []
     },
     "output_type": "execute_result"
    }
   ],
   "source": [
    "! mkdir /content/CNN_Architecture/data/tfrecords"
   ]
  },
  {
   "cell_type": "code",
   "execution_count": null,
   "metadata": {},
   "outputs": [],
   "source": [
    "from shutil import copyfile"
   ]
  },
  {
   "cell_type": "markdown",
   "metadata": {
    "id": "YJrvMdJPTGoN"
   },
   "source": [
    "### iterate through tfrecord files to clone them \n",
    " *(this might take a while)*\n",
    "\n"
   ]
  },
  {
   "cell_type": "code",
   "execution_count": null,
   "metadata": {
    "colab": {
     "background_save": true,
     "base_uri": "https://localhost:8080/"
    },
    "id": "buV2AgIPAYZq",
    "outputId": "1831014d-2d71-436b-9c8b-4d66b99e1918"
   },
   "outputs": [
    {
     "name": "stdout",
     "output_type": "stream",
     "text": [
      "1 /12929\n",
      "501 /12929\n",
      "1001 /12929\n",
      "1501 /12929\n",
      "2001 /12929\n",
      "2501 /12929\n",
      "3001 /12929\n",
      "3501 /12929\n",
      "4001 /12929\n",
      "4501 /12929\n",
      "5001 /12929\n",
      "5501 /12929\n",
      "6001 /12929\n",
      "6501 /12929\n",
      "7001 /12929\n",
      "7501 /12929\n",
      "8001 /12929\n",
      "8501 /12929\n",
      "9001 /12929\n",
      "9501 /12929\n",
      "10001 /12929\n",
      "10501 /12929\n",
      "11001 /12929\n",
      "11501 /12929\n",
      "12001 /12929\n",
      "12501 /12929\n",
      "12929/12929\n"
     ]
    }
   ],
   "source": [
    "for count,item in enumerate(tfrecord_list):\n",
    "  oc.get_file(i.path,os.path.join('/content/CNN_Architecture/data/tfrecords',i.path.split('/')[-1]))\n",
    "  if count % 500 == 0:\n",
    "    print(count+1,'/12929')\n",
    "print('12929/12929')"
   ]
  },
  {
   "cell_type": "code",
   "execution_count": null,
   "metadata": {},
   "outputs": [],
   "source": [
    "#Sort tfRecords by country and year and move into Folders"
   ]
  },
  {
   "cell_type": "code",
   "execution_count": null,
   "metadata": {},
   "outputs": [],
   "source": [
    "#Code jd - adapted from  split_surveys.py\n",
    "def create_folders(in_file, out_dir):\n",
    "    '''\n",
    "    Args\n",
    "    - inFile: str, path to tf_record file \n",
    "    - out_dir: str, path to output directory\n",
    "    '''\n",
    "    tensorflow.enable_eager_execution()\n",
    "    os.makedirs(out_dir, exist_ok=True)\n",
    "    #load and  read ExampleMessage\n",
    "    data = tensorflow.data.TFRecordDataset(in_file)\n",
    "    for raw_record in data.take(1):\n",
    "        example = tensorflow.train.Example()\n",
    "        example.ParseFromString(raw_record.numpy())\n",
    "\n",
    "    #get features and process to dir name\n",
    "    survey_country = example.features.feature['country'].bytes_list.value[0].decode()\n",
    "    country_str = survey_country.lower().replace(' ', '_').replace(\"'\", '_')\n",
    "    year = example.features.feature['year'].int64_list.value[0]\n",
    "    #build paths\n",
    "    file_code = f'{country_str}_{year}'\n",
    "    file_out_dir = os.path.join(out_dir, file_code)\n",
    "    concat_name =  os.path.join(file_out_dir, tf_file)\n",
    "    #create directories and copy files into new split folders\n",
    "    if not os.path.exists(file_out_dir):\n",
    "        os.makedirs(file_out_dir)\n",
    "    if not os.path.exists(concat_name):\n",
    "        copyfile(in_file, concat_name) #copying files on my maschine. Might change to move(mv) on Colab"
   ]
  },
  {
   "cell_type": "code",
   "execution_count": null,
   "metadata": {},
   "outputs": [],
   "source": [
    "arr = os.listdir('./CNN_Architecture/data/tfrecords')"
   ]
  },
  {
   "cell_type": "code",
   "execution_count": null,
   "metadata": {},
   "outputs": [],
   "source": [
    "root_path = './CNN_Architecture/data/tfrecords'\n",
    "out_dir = './CNN_Architecture/data/tfrecords_split'\n",
    "for tf_file in arr:\n",
    "    file_name = os.path.join(root_path, tf_file)\n",
    "    create_folders(in_file=file_name, out_dir=out_dir)\n",
    "print('Created folders')"
   ]
  },
  {
   "cell_type": "markdown",
   "metadata": {
    "id": "2ldKXGdcUC6x"
   },
   "source": [
    "# Run train_directly.py"
   ]
  },
  {
   "cell_type": "code",
   "execution_count": 17,
   "metadata": {
    "colab": {
     "base_uri": "https://localhost:8080/"
    },
    "id": "wTPztnhC0qcl",
    "outputId": "79069532-27ba-44b0-a2de-8adf3bb5e8d4"
   },
   "outputs": [
    {
     "name": "stdout",
     "output_type": "stream",
     "text": [
      "WARNING:tensorflow:From /content/CNN_Architecture/train_directly.py:446: The name tf.app.run is deprecated. Please use tf.compat.v1.app.run instead.\n",
      "\n",
      "Current time: 1624350940.9989822\n",
      "{'?': False,\n",
      " 'alsologtostderr': False,\n",
      " 'augment': True,\n",
      " 'batch_size': 64,\n",
      " 'batcher_type': 'base',\n",
      " 'cache': [],\n",
      " 'ckpt_dir': '/content/ckpts/',\n",
      " 'conv_reg': 0.001,\n",
      " 'dataset': '2009-17',\n",
      " 'eval_every': 1,\n",
      " 'exclude_final_layer': None,\n",
      " 'experiment_name': 'new_experiment',\n",
      " 'fc_reg': 0.001,\n",
      " 'gpu': None,\n",
      " 'help': False,\n",
      " 'helpfull': False,\n",
      " 'helpshort': False,\n",
      " 'helpxml': False,\n",
      " 'hs_weight_init': None,\n",
      " 'imagenet_weights_path': None,\n",
      " 'init_ckpt_dir': None,\n",
      " 'keep_frac': 1.0,\n",
      " 'label_name': 'wealthpooled',\n",
      " 'log_dir': '',\n",
      " 'logger_levels': {},\n",
      " 'logtostderr': False,\n",
      " 'lr': 0.001,\n",
      " 'lr_decay': 1.0,\n",
      " 'ls_bands': 'split',\n",
      " 'max_epochs': 150,\n",
      " 'model_name': 'resnet',\n",
      " 'nl_band': None,\n",
      " 'num_layers': 18,\n",
      " 'num_threads': 1,\n",
      " 'only_check_args': False,\n",
      " 'ooc': True,\n",
      " 'op_conversion_fallback_to_while_loop': False,\n",
      " 'pdb': False,\n",
      " 'pdb_post_mortem': False,\n",
      " 'print_every': 10,\n",
      " 'profile_file': None,\n",
      " 'run_with_pdb': False,\n",
      " 'run_with_profiling': False,\n",
      " 'seed': 123,\n",
      " 'showprefixforinfo': True,\n",
      " 'stderrthreshold': 'fatal',\n",
      " 'test_random_seed': 301,\n",
      " 'test_randomize_ordering_seed': '',\n",
      " 'test_srcdir': '',\n",
      " 'test_tmpdir': '/tmp/absl_testing',\n",
      " 'use_cprofile_for_profiling': True,\n",
      " 'v': 0,\n",
      " 'verbosity': 0,\n",
      " 'xml_output_file': ''}\n",
      "WARNING:tensorflow:From /content/CNN_Architecture/train_directly.py:294: The name tf.reset_default_graph is deprecated. Please use tf.compat.v1.reset_default_graph instead.\n",
      "\n",
      "W0622 08:35:41.000109 140243937277824 module_wrapper.py:139] From /content/CNN_Architecture/train_directly.py:294: The name tf.reset_default_graph is deprecated. Please use tf.compat.v1.reset_default_graph instead.\n",
      "\n",
      "WARNING:tensorflow:From /content/CNN_Architecture/train_directly.py:299: The name tf.set_random_seed is deprecated. Please use tf.compat.v1.set_random_seed instead.\n",
      "\n",
      "W0622 08:35:41.001044 140243937277824 module_wrapper.py:139] From /content/CNN_Architecture/train_directly.py:299: The name tf.set_random_seed is deprecated. Please use tf.compat.v1.set_random_seed instead.\n",
      "\n",
      "Checkpoint prefix: /content/ckpts/new_experiment_b64_fc001_conv001_lr001/ckpt\n",
      "WARNING:tensorflow:From /content/CNN_Architecture/train_directly.py:334: The name tf.ConfigProto is deprecated. Please use tf.compat.v1.ConfigProto instead.\n",
      "\n",
      "W0622 08:35:41.008475 140243937277824 module_wrapper.py:139] From /content/CNN_Architecture/train_directly.py:334: The name tf.ConfigProto is deprecated. Please use tf.compat.v1.ConfigProto instead.\n",
      "\n",
      "WARNING:tensorflow:From /content/CNN_Architecture/train_directly.py:336: The name tf.Session is deprecated. Please use tf.compat.v1.Session instead.\n",
      "\n",
      "W0622 08:35:41.008987 140243937277824 module_wrapper.py:139] From /content/CNN_Architecture/train_directly.py:336: The name tf.Session is deprecated. Please use tf.compat.v1.Session instead.\n",
      "\n",
      "2021-06-22 08:35:41.036489: I tensorflow/core/platform/profile_utils/cpu_utils.cc:94] CPU Frequency: 2299995000 Hz\n",
      "2021-06-22 08:35:41.037061: I tensorflow/compiler/xla/service/service.cc:168] XLA service 0x555cd2192840 initialized for platform Host (this does not guarantee that XLA will be used). Devices:\n",
      "2021-06-22 08:35:41.037119: I tensorflow/compiler/xla/service/service.cc:176]   StreamExecutor device (0): Host, Default Version\n",
      "2021-06-22 08:35:41.121653: I tensorflow/stream_executor/platform/default/dso_loader.cc:44] Successfully opened dynamic library libcuda.so.1\n",
      "2021-06-22 08:35:41.231884: E tensorflow/stream_executor/cuda/cuda_driver.cc:318] failed call to cuInit: CUDA_ERROR_NO_DEVICE: no CUDA-capable device is detected\n",
      "2021-06-22 08:35:41.231973: I tensorflow/stream_executor/cuda/cuda_diagnostics.cc:156] kernel driver does not appear to be running on this host (f38d4c085033): /proc/driver/nvidia/version does not exist\n",
      "Traceback (most recent call last):\n",
      "  File \"/content/CNN_Architecture/train_directly.py\", line 446, in <module>\n",
      "    tf.app.run()  # edited mm\n",
      "  File \"/tensorflow-1.15.2/python3.7/tensorflow_core/python/platform/app.py\", line 40, in run\n",
      "    _run(main=main, argv=argv, flags_parser=_parse_flags_tolerate_undef)\n",
      "  File \"/usr/local/lib/python3.7/dist-packages/absl/app.py\", line 303, in run\n",
      "    _run_main(main, args)\n",
      "  File \"/usr/local/lib/python3.7/dist-packages/absl/app.py\", line 251, in _run_main\n",
      "    sys.exit(main(argv))\n",
      "  File \"/content/CNN_Architecture/train_directly.py\", line 388, in main\n",
      "    run_training_wrapper(**params)\n",
      "  File \"/content/CNN_Architecture/train_directly.py\", line 373, in run_training_wrapper\n",
      "    exclude_final_layer=params['exclude_final_layer']\n",
      "  File \"/content/CNN_Architecture/train_directly.py\", line 93, in run_training\n",
      "    train_tfrecord_paths = np.asarray(batcher.get_tfrecord_paths(dataset, 'train'))\n",
      "  File \"/content/CNN_Architecture/batchers/batcher.py\", line 34, in get_tfrecord_paths\n",
      "    assert expected_size == len(tfrecord_paths)\n",
      "AssertionError\n"
     ]
    }
   ],
   "source": [
    "! python /content/CNN_Architecture/train_directly.py"
   ]
  }
 ],
 "metadata": {
  "colab": {
   "collapsed_sections": [],
   "name": "Untitled5.ipynb",
   "provenance": []
  },
  "kernelspec": {
   "display_name": "Python 3",
   "language": "python",
   "name": "python3"
  },
  "language_info": {
   "codemirror_mode": {
    "name": "ipython",
    "version": 3
   },
   "file_extension": ".py",
   "mimetype": "text/x-python",
   "name": "python",
   "nbconvert_exporter": "python",
   "pygments_lexer": "ipython3",
   "version": "3.7.6"
  }
 },
 "nbformat": 4,
 "nbformat_minor": 1
}